{
  "cells": [
    {
      "cell_type": "markdown",
      "metadata": {
        "id": "qt0Vlyr-PXL4"
      },
      "source": [
        "# **1. Data import & basic EDA**"
      ]
    },
    {
      "cell_type": "markdown",
      "metadata": {
        "id": "WjTuHkQfj1Ez"
      },
      "source": [
        "## *1.1 Import data from Drive*"
      ]
    },
    {
      "cell_type": "code",
      "execution_count": null,
      "metadata": {
        "colab": {
          "base_uri": "https://localhost:8080/",
          "height": 206
        },
        "id": "gxnM15phFZYK",
        "outputId": "68446009-e4fd-4682-a650-f1cdcb99645f"
      },
      "outputs": [
        {
          "data": {
            "application/vnd.google.colaboratory.intrinsic+json": {
              "type": "dataframe",
              "variable_name": "df"
            },
            "text/html": [
              "\n",
              "  <div id=\"df-bda5ede4-6df6-4473-9cf4-6ff2a0940945\" class=\"colab-df-container\">\n",
              "    <div>\n",
              "<style scoped>\n",
              "    .dataframe tbody tr th:only-of-type {\n",
              "        vertical-align: middle;\n",
              "    }\n",
              "\n",
              "    .dataframe tbody tr th {\n",
              "        vertical-align: top;\n",
              "    }\n",
              "\n",
              "    .dataframe thead th {\n",
              "        text-align: right;\n",
              "    }\n",
              "</style>\n",
              "<table border=\"1\" class=\"dataframe\">\n",
              "  <thead>\n",
              "    <tr style=\"text-align: right;\">\n",
              "      <th></th>\n",
              "      <th>Comment Text</th>\n",
              "      <th>Publish Date</th>\n",
              "      <th>Source</th>\n",
              "    </tr>\n",
              "  </thead>\n",
              "  <tbody>\n",
              "    <tr>\n",
              "      <th>0</th>\n",
              "      <td>Thank you for your suggestion??! \\nPlease know...</td>\n",
              "      <td>12/17/2023, 3:39:09 PM</td>\n",
              "      <td>Instagram</td>\n",
              "    </tr>\n",
              "    <tr>\n",
              "      <th>1</th>\n",
              "      <td>We hear you??! \\nEnsuring a safe and effective...</td>\n",
              "      <td>12/17/2023, 3:41:48 PM</td>\n",
              "      <td>Instagram</td>\n",
              "    </tr>\n",
              "    <tr>\n",
              "      <th>2</th>\n",
              "      <td>hi, Can you recommend a skincare for Acne for ...</td>\n",
              "      <td>12/17/2023, 9:40:43 PM</td>\n",
              "      <td>Instagram</td>\n",
              "    </tr>\n",
              "    <tr>\n",
              "      <th>3</th>\n",
              "      <td>now that you have established customers. pleas...</td>\n",
              "      <td>12/17/2023, 11:19:41 PM</td>\n",
              "      <td>Instagram</td>\n",
              "    </tr>\n",
              "    <tr>\n",
              "      <th>4</th>\n",
              "      <td>Cannot wait for this launch ??</td>\n",
              "      <td>12/18/2023, 6:05:10 PM</td>\n",
              "      <td>Instagram</td>\n",
              "    </tr>\n",
              "  </tbody>\n",
              "</table>\n",
              "</div>\n",
              "    <div class=\"colab-df-buttons\">\n",
              "\n",
              "  <div class=\"colab-df-container\">\n",
              "    <button class=\"colab-df-convert\" onclick=\"convertToInteractive('df-bda5ede4-6df6-4473-9cf4-6ff2a0940945')\"\n",
              "            title=\"Convert this dataframe to an interactive table.\"\n",
              "            style=\"display:none;\">\n",
              "\n",
              "  <svg xmlns=\"http://www.w3.org/2000/svg\" height=\"24px\" viewBox=\"0 -960 960 960\">\n",
              "    <path d=\"M120-120v-720h720v720H120Zm60-500h600v-160H180v160Zm220 220h160v-160H400v160Zm0 220h160v-160H400v160ZM180-400h160v-160H180v160Zm440 0h160v-160H620v160ZM180-180h160v-160H180v160Zm440 0h160v-160H620v160Z\"/>\n",
              "  </svg>\n",
              "    </button>\n",
              "\n",
              "  <style>\n",
              "    .colab-df-container {\n",
              "      display:flex;\n",
              "      gap: 12px;\n",
              "    }\n",
              "\n",
              "    .colab-df-convert {\n",
              "      background-color: #E8F0FE;\n",
              "      border: none;\n",
              "      border-radius: 50%;\n",
              "      cursor: pointer;\n",
              "      display: none;\n",
              "      fill: #1967D2;\n",
              "      height: 32px;\n",
              "      padding: 0 0 0 0;\n",
              "      width: 32px;\n",
              "    }\n",
              "\n",
              "    .colab-df-convert:hover {\n",
              "      background-color: #E2EBFA;\n",
              "      box-shadow: 0px 1px 2px rgba(60, 64, 67, 0.3), 0px 1px 3px 1px rgba(60, 64, 67, 0.15);\n",
              "      fill: #174EA6;\n",
              "    }\n",
              "\n",
              "    .colab-df-buttons div {\n",
              "      margin-bottom: 4px;\n",
              "    }\n",
              "\n",
              "    [theme=dark] .colab-df-convert {\n",
              "      background-color: #3B4455;\n",
              "      fill: #D2E3FC;\n",
              "    }\n",
              "\n",
              "    [theme=dark] .colab-df-convert:hover {\n",
              "      background-color: #434B5C;\n",
              "      box-shadow: 0px 1px 3px 1px rgba(0, 0, 0, 0.15);\n",
              "      filter: drop-shadow(0px 1px 2px rgba(0, 0, 0, 0.3));\n",
              "      fill: #FFFFFF;\n",
              "    }\n",
              "  </style>\n",
              "\n",
              "    <script>\n",
              "      const buttonEl =\n",
              "        document.querySelector('#df-bda5ede4-6df6-4473-9cf4-6ff2a0940945 button.colab-df-convert');\n",
              "      buttonEl.style.display =\n",
              "        google.colab.kernel.accessAllowed ? 'block' : 'none';\n",
              "\n",
              "      async function convertToInteractive(key) {\n",
              "        const element = document.querySelector('#df-bda5ede4-6df6-4473-9cf4-6ff2a0940945');\n",
              "        const dataTable =\n",
              "          await google.colab.kernel.invokeFunction('convertToInteractive',\n",
              "                                                    [key], {});\n",
              "        if (!dataTable) return;\n",
              "\n",
              "        const docLinkHtml = 'Like what you see? Visit the ' +\n",
              "          '<a target=\"_blank\" href=https://colab.research.google.com/notebooks/data_table.ipynb>data table notebook</a>'\n",
              "          + ' to learn more about interactive tables.';\n",
              "        element.innerHTML = '';\n",
              "        dataTable['output_type'] = 'display_data';\n",
              "        await google.colab.output.renderOutput(dataTable, element);\n",
              "        const docLink = document.createElement('div');\n",
              "        docLink.innerHTML = docLinkHtml;\n",
              "        element.appendChild(docLink);\n",
              "      }\n",
              "    </script>\n",
              "  </div>\n",
              "\n",
              "\n",
              "<div id=\"df-4ea659ac-aac7-48ec-bb88-5b49a9deb809\">\n",
              "  <button class=\"colab-df-quickchart\" onclick=\"quickchart('df-4ea659ac-aac7-48ec-bb88-5b49a9deb809')\"\n",
              "            title=\"Suggest charts\"\n",
              "            style=\"display:none;\">\n",
              "\n",
              "<svg xmlns=\"http://www.w3.org/2000/svg\" height=\"24px\"viewBox=\"0 0 24 24\"\n",
              "     width=\"24px\">\n",
              "    <g>\n",
              "        <path d=\"M19 3H5c-1.1 0-2 .9-2 2v14c0 1.1.9 2 2 2h14c1.1 0 2-.9 2-2V5c0-1.1-.9-2-2-2zM9 17H7v-7h2v7zm4 0h-2V7h2v10zm4 0h-2v-4h2v4z\"/>\n",
              "    </g>\n",
              "</svg>\n",
              "  </button>\n",
              "\n",
              "<style>\n",
              "  .colab-df-quickchart {\n",
              "      --bg-color: #E8F0FE;\n",
              "      --fill-color: #1967D2;\n",
              "      --hover-bg-color: #E2EBFA;\n",
              "      --hover-fill-color: #174EA6;\n",
              "      --disabled-fill-color: #AAA;\n",
              "      --disabled-bg-color: #DDD;\n",
              "  }\n",
              "\n",
              "  [theme=dark] .colab-df-quickchart {\n",
              "      --bg-color: #3B4455;\n",
              "      --fill-color: #D2E3FC;\n",
              "      --hover-bg-color: #434B5C;\n",
              "      --hover-fill-color: #FFFFFF;\n",
              "      --disabled-bg-color: #3B4455;\n",
              "      --disabled-fill-color: #666;\n",
              "  }\n",
              "\n",
              "  .colab-df-quickchart {\n",
              "    background-color: var(--bg-color);\n",
              "    border: none;\n",
              "    border-radius: 50%;\n",
              "    cursor: pointer;\n",
              "    display: none;\n",
              "    fill: var(--fill-color);\n",
              "    height: 32px;\n",
              "    padding: 0;\n",
              "    width: 32px;\n",
              "  }\n",
              "\n",
              "  .colab-df-quickchart:hover {\n",
              "    background-color: var(--hover-bg-color);\n",
              "    box-shadow: 0 1px 2px rgba(60, 64, 67, 0.3), 0 1px 3px 1px rgba(60, 64, 67, 0.15);\n",
              "    fill: var(--button-hover-fill-color);\n",
              "  }\n",
              "\n",
              "  .colab-df-quickchart-complete:disabled,\n",
              "  .colab-df-quickchart-complete:disabled:hover {\n",
              "    background-color: var(--disabled-bg-color);\n",
              "    fill: var(--disabled-fill-color);\n",
              "    box-shadow: none;\n",
              "  }\n",
              "\n",
              "  .colab-df-spinner {\n",
              "    border: 2px solid var(--fill-color);\n",
              "    border-color: transparent;\n",
              "    border-bottom-color: var(--fill-color);\n",
              "    animation:\n",
              "      spin 1s steps(1) infinite;\n",
              "  }\n",
              "\n",
              "  @keyframes spin {\n",
              "    0% {\n",
              "      border-color: transparent;\n",
              "      border-bottom-color: var(--fill-color);\n",
              "      border-left-color: var(--fill-color);\n",
              "    }\n",
              "    20% {\n",
              "      border-color: transparent;\n",
              "      border-left-color: var(--fill-color);\n",
              "      border-top-color: var(--fill-color);\n",
              "    }\n",
              "    30% {\n",
              "      border-color: transparent;\n",
              "      border-left-color: var(--fill-color);\n",
              "      border-top-color: var(--fill-color);\n",
              "      border-right-color: var(--fill-color);\n",
              "    }\n",
              "    40% {\n",
              "      border-color: transparent;\n",
              "      border-right-color: var(--fill-color);\n",
              "      border-top-color: var(--fill-color);\n",
              "    }\n",
              "    60% {\n",
              "      border-color: transparent;\n",
              "      border-right-color: var(--fill-color);\n",
              "    }\n",
              "    80% {\n",
              "      border-color: transparent;\n",
              "      border-right-color: var(--fill-color);\n",
              "      border-bottom-color: var(--fill-color);\n",
              "    }\n",
              "    90% {\n",
              "      border-color: transparent;\n",
              "      border-bottom-color: var(--fill-color);\n",
              "    }\n",
              "  }\n",
              "</style>\n",
              "\n",
              "  <script>\n",
              "    async function quickchart(key) {\n",
              "      const quickchartButtonEl =\n",
              "        document.querySelector('#' + key + ' button');\n",
              "      quickchartButtonEl.disabled = true;  // To prevent multiple clicks.\n",
              "      quickchartButtonEl.classList.add('colab-df-spinner');\n",
              "      try {\n",
              "        const charts = await google.colab.kernel.invokeFunction(\n",
              "            'suggestCharts', [key], {});\n",
              "      } catch (error) {\n",
              "        console.error('Error during call to suggestCharts:', error);\n",
              "      }\n",
              "      quickchartButtonEl.classList.remove('colab-df-spinner');\n",
              "      quickchartButtonEl.classList.add('colab-df-quickchart-complete');\n",
              "    }\n",
              "    (() => {\n",
              "      let quickchartButtonEl =\n",
              "        document.querySelector('#df-4ea659ac-aac7-48ec-bb88-5b49a9deb809 button');\n",
              "      quickchartButtonEl.style.display =\n",
              "        google.colab.kernel.accessAllowed ? 'block' : 'none';\n",
              "    })();\n",
              "  </script>\n",
              "</div>\n",
              "\n",
              "    </div>\n",
              "  </div>\n"
            ],
            "text/plain": [
              "                                        Comment Text             Publish Date  \\\n",
              "0  Thank you for your suggestion??! \\nPlease know...   12/17/2023, 3:39:09 PM   \n",
              "1  We hear you??! \\nEnsuring a safe and effective...   12/17/2023, 3:41:48 PM   \n",
              "2  hi, Can you recommend a skincare for Acne for ...   12/17/2023, 9:40:43 PM   \n",
              "3  now that you have established customers. pleas...  12/17/2023, 11:19:41 PM   \n",
              "4                     Cannot wait for this launch ??   12/18/2023, 6:05:10 PM   \n",
              "\n",
              "      Source  \n",
              "0  Instagram  \n",
              "1  Instagram  \n",
              "2  Instagram  \n",
              "3  Instagram  \n",
              "4  Instagram  "
            ]
          },
          "execution_count": 5,
          "metadata": {},
          "output_type": "execute_result"
        }
      ],
      "source": [
        "import pandas as pd\n",
        "import requests\n",
        "from io import StringIO\n",
        "\n",
        "# Define the file ID of the CSV file on Google Drive\n",
        "file_id = \"1dWUCVCfk3ZrJPIWVHg4FBVgIqESzzjZ1\"\n",
        "\n",
        "# Construct the direct download URL\n",
        "url = f\"https://drive.google.com/uc?export=download&id={file_id}\"\n",
        "\n",
        "# Make a GET request to fetch the CSV file from Google Drive\n",
        "response = requests.get(url)\n",
        "\n",
        "# Read the content of the CSV file\n",
        "content = response.content.decode('utf-8')\n",
        "\n",
        "# Load the CSV content into a DataFrame\n",
        "df = pd.read_csv(StringIO(content))\n",
        "\n",
        "# Display the DataFrame\n",
        "df.head()\n"
      ]
    },
    {
      "cell_type": "markdown",
      "metadata": {
        "id": "CaDIxd9Bj6bR"
      },
      "source": [
        "##*1.2 Basic EDA*"
      ]
    },
    {
      "cell_type": "code",
      "execution_count": null,
      "metadata": {
        "colab": {
          "base_uri": "https://localhost:8080/"
        },
        "id": "CU5X5pzASkMU",
        "outputId": "388e5813-1e5e-4f7f-f8f1-63f3bd923db3"
      },
      "outputs": [
        {
          "name": "stdout",
          "output_type": "stream",
          "text": [
            "First 5 rows:\n",
            "                                        Comment Text             Publish Date  \\\n",
            "0  Thank you for your suggestion??! \\nPlease know...   12/17/2023, 3:39:09 PM   \n",
            "1  We hear you??! \\nEnsuring a safe and effective...   12/17/2023, 3:41:48 PM   \n",
            "2  hi, Can you recommend a skincare for Acne for ...   12/17/2023, 9:40:43 PM   \n",
            "3  now that you have established customers. pleas...  12/17/2023, 11:19:41 PM   \n",
            "4                     Cannot wait for this launch ??   12/18/2023, 6:05:10 PM   \n",
            "\n",
            "      Source  \n",
            "0  Instagram  \n",
            "1  Instagram  \n",
            "2  Instagram  \n",
            "3  Instagram  \n",
            "4  Instagram  \n",
            "\n",
            "Summary statistics:\n",
            "                                    Comment Text      Publish Date     Source\n",
            "count                                     150267            151914     151914\n",
            "unique                                    100975            103990          3\n",
            "top     #EucerinAOXEssence for 97% smoother skin  04/08/2021 21:54  Instagram\n",
            "freq                                        2337               595      91019\n",
            "\n",
            "DataFrame information:\n",
            "<class 'pandas.core.frame.DataFrame'>\n",
            "RangeIndex: 151914 entries, 0 to 151913\n",
            "Data columns (total 3 columns):\n",
            " #   Column        Non-Null Count   Dtype \n",
            "---  ------        --------------   ----- \n",
            " 0   Comment Text  150267 non-null  object\n",
            " 1   Publish Date  151914 non-null  object\n",
            " 2   Source        151914 non-null  object\n",
            "dtypes: object(3)\n",
            "memory usage: 3.5+ MB\n",
            "None\n",
            "\n",
            "Missing values:\n",
            "Comment Text    1647\n",
            "Publish Date       0\n",
            "Source             0\n",
            "dtype: int64\n",
            "\n",
            "Data types:\n",
            "Comment Text    object\n",
            "Publish Date    object\n",
            "Source          object\n",
            "dtype: object\n",
            "\n",
            "Unique value counts:\n",
            "Comment Text    100975\n",
            "Publish Date    103990\n",
            "Source               3\n",
            "dtype: int64\n"
          ]
        }
      ],
      "source": [
        "# Display the first few rows of the DataFrame\n",
        "print(\"First 5 rows:\")\n",
        "print(df.head())\n",
        "\n",
        "# Summary statistics\n",
        "print(\"\\nSummary statistics:\")\n",
        "print(df.describe())\n",
        "\n",
        "# Information about the DataFrame\n",
        "print(\"\\nDataFrame information:\")\n",
        "print(df.info())\n",
        "\n",
        "# Check for missing values\n",
        "print(\"\\nMissing values:\")\n",
        "print(df.isnull().sum())\n",
        "\n",
        "# Check data types of columns\n",
        "print(\"\\nData types:\")\n",
        "print(df.dtypes)\n",
        "\n",
        "# Number of unique values in each column\n",
        "print(\"\\nUnique value counts:\")\n",
        "print(df.nunique())\n"
      ]
    },
    {
      "cell_type": "markdown",
      "metadata": {
        "id": "W2xE8MDgPZqW"
      },
      "source": [
        "#**2. Data Preprocessing**"
      ]
    },
    {
      "cell_type": "markdown",
      "metadata": {
        "id": "-RTVu1NQosZq"
      },
      "source": [
        "##2.1 General data Preprocessing"
      ]
    },
    {
      "cell_type": "markdown",
      "metadata": {
        "id": "GtNWt52oh9g9"
      },
      "source": [
        "###*2.1.1 Remove NULL*"
      ]
    },
    {
      "cell_type": "code",
      "execution_count": null,
      "metadata": {
        "colab": {
          "base_uri": "https://localhost:8080/"
        },
        "id": "PCaTSruhPUui",
        "outputId": "edc25e92-6215-4b83-9bfc-746ea061da70"
      },
      "outputs": [
        {
          "name": "stdout",
          "output_type": "stream",
          "text": [
            "Null values after removal:\n",
            "0\n"
          ]
        }
      ],
      "source": [
        "# Drop rows where 'Comment Text' is null\n",
        "df = df.dropna(subset=['Comment Text'])\n",
        "\n",
        "# Verify null values are removed\n",
        "print(\"Null values after removal:\")\n",
        "print(df['Comment Text'].isnull().sum())"
      ]
    },
    {
      "cell_type": "markdown",
      "metadata": {
        "id": "VqLKk7iniJm_"
      },
      "source": [
        "###*2.1.2 Remove Duplicates*"
      ]
    },
    {
      "cell_type": "code",
      "execution_count": null,
      "metadata": {
        "colab": {
          "base_uri": "https://localhost:8080/"
        },
        "id": "QYQabvqdiMd4",
        "outputId": "7d8917e6-ef28-48ad-a003-33aee7fc327a"
      },
      "outputs": [
        {
          "name": "stdout",
          "output_type": "stream",
          "text": [
            "Duplicates after removal:\n",
            "0\n"
          ]
        }
      ],
      "source": [
        "# Drop duplicate rows based on 'Comment Text'\n",
        "df = df.drop_duplicates(subset=['Comment Text'])\n",
        "\n",
        "# Verify duplicates are removed\n",
        "print(\"Duplicates after removal:\")\n",
        "print(df.duplicated(subset=['Comment Text']).sum())"
      ]
    },
    {
      "cell_type": "markdown",
      "metadata": {
        "id": "AQ3b9QNeillu"
      },
      "source": [
        "###*2.1.3 Demoji*"
      ]
    },
    {
      "cell_type": "code",
      "execution_count": null,
      "metadata": {
        "colab": {
          "base_uri": "https://localhost:8080/"
        },
        "id": "oAhuVsgFkadk",
        "outputId": "5d4e188b-9125-4a46-cbfb-741449e20c43"
      },
      "outputs": [
        {
          "name": "stdout",
          "output_type": "stream",
          "text": [
            "Collecting demoji\n",
            "  Downloading demoji-1.1.0-py3-none-any.whl (42 kB)\n",
            "\u001b[?25l     \u001b[90m━━━━━━━━━━━━━━━━━━━━━━━━━━━━━━━━━━━━━━━━\u001b[0m \u001b[32m0.0/42.9 kB\u001b[0m \u001b[31m?\u001b[0m eta \u001b[36m-:--:--\u001b[0m\r\u001b[2K     \u001b[90m━━━━━━━━━━━━━━━━━━━━━━━━━━━━━━━━━━━━━━━━\u001b[0m \u001b[32m42.9/42.9 kB\u001b[0m \u001b[31m1.5 MB/s\u001b[0m eta \u001b[36m0:00:00\u001b[0m\n",
            "\u001b[?25hInstalling collected packages: demoji\n",
            "Successfully installed demoji-1.1.0\n"
          ]
        }
      ],
      "source": [
        "!pip install demoji"
      ]
    },
    {
      "cell_type": "code",
      "execution_count": null,
      "metadata": {
        "colab": {
          "base_uri": "https://localhost:8080/"
        },
        "id": "PYHXxUziioj5",
        "outputId": "caa9019d-d8fb-46ec-e81e-b6edb56f948f"
      },
      "outputs": [
        {
          "name": "stderr",
          "output_type": "stream",
          "text": [
            "<ipython-input-10-45c5973c7375>:3: FutureWarning: The demoji.download_codes attribute is deprecated and will be removed from demoji in a future version. It is an unused attribute as emoji codes are now distributed directly with the demoji package.\n",
            "  demoji.download_codes()\n"
          ]
        },
        {
          "name": "stdout",
          "output_type": "stream",
          "text": [
            "Emoji counts:\n",
            "Emojis\n",
            "❤️    765\n",
            "✅     255\n",
            "❤     194\n",
            "✨     168\n",
            "⤵️    140\n",
            "     ... \n",
            "❕       1\n",
            "❌       1\n",
            "™       1\n",
            "✈️      1\n",
            "⚜️      1\n",
            "Name: count, Length: 72, dtype: int64\n",
            "Emoji counts after demoji:\n",
            "Series([], Name: count, dtype: int64)\n",
            "Number of emojis successfully replaced: 2615\n",
            "Updated DataFrame:\n",
            "                                        Comment Text             Publish Date  \\\n",
            "0  Thank you for your suggestion??! \\nPlease know...   12/17/2023, 3:39:09 PM   \n",
            "1  We hear you??! \\nEnsuring a safe and effective...   12/17/2023, 3:41:48 PM   \n",
            "2  hi, Can you recommend a skincare for Acne for ...   12/17/2023, 9:40:43 PM   \n",
            "3  now that you have established customers. pleas...  12/17/2023, 11:19:41 PM   \n",
            "4                     Cannot wait for this launch ??   12/18/2023, 6:05:10 PM   \n",
            "\n",
            "      Source Emojis  \n",
            "0  Instagram     {}  \n",
            "1  Instagram     {}  \n",
            "2  Instagram     {}  \n",
            "3  Instagram     {}  \n",
            "4  Instagram     {}  \n"
          ]
        }
      ],
      "source": [
        "import demoji\n",
        "# Download the emoji dataset (run this once)\n",
        "demoji.download_codes()\n",
        "# Identify emojis in the 'Comment Text' column and count them\n",
        "def identify_emojis(text):\n",
        "    emojis = demoji.findall(text)\n",
        "    return emojis\n",
        "\n",
        "df['Emojis'] = df['Comment Text'].apply(identify_emojis)\n",
        "\n",
        "# Count occurrences of each emoji\n",
        "emoji_counts = df['Emojis'].explode().value_counts()\n",
        "print(\"Emoji counts:\")\n",
        "print(emoji_counts)\n",
        "\n",
        "# Function to replace emojis with their descriptions\n",
        "def replace_emojis(text):\n",
        "    return demoji.replace_with_desc(text, sep=\" \")\n",
        "\n",
        "# Apply the function to replace emojis in the 'Comment Text' column\n",
        "df['Comment Text'] = df['Comment Text'].apply(replace_emojis)\n",
        "\n",
        "# Verify the replacement by counting emojis again\n",
        "df['Emojis'] = df['Comment Text'].apply(identify_emojis)\n",
        "post_demoji_counts = df['Emojis'].explode().value_counts()\n",
        "print(\"Emoji counts after demoji:\")\n",
        "print(post_demoji_counts)\n",
        "\n",
        "# Count how many emojis were successfully replaced\n",
        "successful_replacements = emoji_counts.sum() - post_demoji_counts.sum()\n",
        "print(f\"Number of emojis successfully replaced: {successful_replacements}\")\n",
        "\n",
        "# Display the updated DataFrame\n",
        "print(\"Updated DataFrame:\")\n",
        "print(df.head())"
      ]
    },
    {
      "cell_type": "code",
      "execution_count": null,
      "metadata": {
        "colab": {
          "base_uri": "https://localhost:8080/"
        },
        "id": "JAZ-CgWIoTMn",
        "outputId": "84d96909-c198-40fc-b8fc-8a9da19e249a"
      },
      "outputs": [
        {
          "name": "stdout",
          "output_type": "stream",
          "text": [
            "Index(['Comment Text', 'Publish Date', 'Source'], dtype='object')\n"
          ]
        }
      ],
      "source": [
        "# Remove the 'Emojis' column from the DataFrame\n",
        "df = df.drop(columns=['Emojis'])\n",
        "\n",
        "# Verify the column is removed by displaying the DataFrame columns\n",
        "print(df.columns)\n"
      ]
    },
    {
      "cell_type": "code",
      "execution_count": null,
      "metadata": {
        "colab": {
          "base_uri": "https://localhost:8080/"
        },
        "id": "2KgWFQDgpgSh",
        "outputId": "9081b50b-4933-4cca-e473-148a5618ba34"
      },
      "outputs": [
        {
          "name": "stdout",
          "output_type": "stream",
          "text": [
            "\n",
            "Summary statistics:\n",
            "                           Comment Text      Publish Date     Source\n",
            "count                            100975            100975     100975\n",
            "unique                           100963             92250          3\n",
            "top     #LeaveNoMarksBehind  red heart   04/08/2021 21:48  Instagram\n",
            "freq                                  2                82      81229\n"
          ]
        }
      ],
      "source": [
        "# Summary statistics\n",
        "print(\"\\nSummary statistics:\")\n",
        "print(df.describe())"
      ]
    },
    {
      "cell_type": "markdown",
      "metadata": {
        "id": "60Z1kGK4pxG_"
      },
      "source": [
        "###*2.1.4 Remove >280-char text*"
      ]
    },
    {
      "cell_type": "code",
      "execution_count": null,
      "metadata": {
        "colab": {
          "base_uri": "https://localhost:8080/"
        },
        "id": "qa5gvK6ap4bS",
        "outputId": "037106a9-1a81-459e-847e-00a638b177eb"
      },
      "outputs": [
        {
          "name": "stdout",
          "output_type": "stream",
          "text": [
            "Maximum comment length after filtering: 280\n"
          ]
        }
      ],
      "source": [
        "# Filter out comments that exceed 280 characters\n",
        "df = df[df['Comment Text'].str.len() <= 280]\n",
        "\n",
        "# Verify the filtering by checking the maximum length of the remaining comments\n",
        "max_length = df['Comment Text'].str.len().max()\n",
        "print(f\"Maximum comment length after filtering: {max_length}\")"
      ]
    },
    {
      "cell_type": "code",
      "execution_count": null,
      "metadata": {
        "colab": {
          "base_uri": "https://localhost:8080/"
        },
        "id": "nhzJXNV3qHHL",
        "outputId": "daa654c6-e5b4-4563-cbf5-6b6290dfd321"
      },
      "outputs": [
        {
          "name": "stdout",
          "output_type": "stream",
          "text": [
            "\n",
            "Summary statistics:\n",
            "                                     Comment Text      Publish Date     Source\n",
            "count                                       90478             90478      90478\n",
            "unique                                      90466             82122          3\n",
            "top     #LeaveNoMarksBehind red heart  red heart   04/08/2021 21:48  Instagram\n",
            "freq                                            2                82      71253\n"
          ]
        }
      ],
      "source": [
        "# Summary statistics\n",
        "print(\"\\nSummary statistics:\")\n",
        "print(df.describe())"
      ]
    },
    {
      "cell_type": "markdown",
      "metadata": {
        "id": "sm_n3rAJsaA4"
      },
      "source": [
        "###*2.1.5 Remove URLs*"
      ]
    },
    {
      "cell_type": "code",
      "execution_count": null,
      "metadata": {
        "id": "gAy-ApXSshA1"
      },
      "outputs": [],
      "source": [
        "import re\n",
        "\n",
        "# Definefunction for URLs removal\n",
        "def remove_urls(text):\n",
        "    url_pattern = re.compile(r'http[s]?://\\S+|www\\.\\S+')\n",
        "    return url_pattern.sub(r'', text)"
      ]
    },
    {
      "cell_type": "code",
      "execution_count": null,
      "metadata": {
        "colab": {
          "base_uri": "https://localhost:8080/"
        },
        "id": "zk0xGdFKsnBG",
        "outputId": "043e109e-88d0-4283-e285-ddfc2a86dc61"
      },
      "outputs": [
        {
          "name": "stdout",
          "output_type": "stream",
          "text": [
            "                                        Comment Text             Publish Date  \\\n",
            "2  hi, Can you recommend a skincare for Acne for ...   12/17/2023, 9:40:43 PM   \n",
            "3  now that you have established customers. pleas...  12/17/2023, 11:19:41 PM   \n",
            "4                     Cannot wait for this launch ??   12/18/2023, 6:05:10 PM   \n",
            "7  Thank you so much for your enthusiasm! We're t...   12/19/2023, 6:56:37 PM   \n",
            "8                                                Yes   12/21/2023, 7:51:46 PM   \n",
            "\n",
            "      Source  \n",
            "2  Instagram  \n",
            "3  Instagram  \n",
            "4  Instagram  \n",
            "7  Instagram  \n",
            "8  Instagram  \n"
          ]
        }
      ],
      "source": [
        "# Apply the function to remove URLs from the 'Comment Text' column\n",
        "df['Comment Text'] = df['Comment Text'].apply(remove_urls)\n",
        "\n",
        "# Display the updated DataFrame to verify URL removal\n",
        "print(df.head())"
      ]
    },
    {
      "cell_type": "code",
      "execution_count": null,
      "metadata": {
        "colab": {
          "base_uri": "https://localhost:8080/"
        },
        "id": "gnCudtx8swt0",
        "outputId": "a2a3f3f4-859a-42d5-e4ac-c770614f9872"
      },
      "outputs": [
        {
          "name": "stdout",
          "output_type": "stream",
          "text": [
            "\n",
            "Summary statistics:\n",
            "       Comment Text      Publish Date     Source\n",
            "count         90478             90478      90478\n",
            "unique        90440             82122          3\n",
            "top                  04/08/2021 21:48  Instagram\n",
            "freq             24                82      71253\n"
          ]
        }
      ],
      "source": [
        "# Summary statistics\n",
        "print(\"\\nSummary statistics:\")\n",
        "print(df.describe())"
      ]
    },
    {
      "cell_type": "markdown",
      "metadata": {
        "id": "SMx3FZ16s3MU"
      },
      "source": [
        "###*2.1.6 Re-check on EDA*"
      ]
    },
    {
      "cell_type": "code",
      "execution_count": null,
      "metadata": {
        "colab": {
          "base_uri": "https://localhost:8080/"
        },
        "id": "XYwePa_is71E",
        "outputId": "9d5e148f-f364-4cd1-b3a8-ba9579fc1053"
      },
      "outputs": [
        {
          "name": "stdout",
          "output_type": "stream",
          "text": [
            "\n",
            "Summary statistics:\n",
            "       Comment Text      Publish Date     Source\n",
            "count         90478             90478      90478\n",
            "unique        90440             82122          3\n",
            "top                  04/08/2021 21:48  Instagram\n",
            "freq             24                82      71253\n",
            "\n",
            "DataFrame information:\n",
            "<class 'pandas.core.frame.DataFrame'>\n",
            "Index: 90478 entries, 2 to 151903\n",
            "Data columns (total 3 columns):\n",
            " #   Column        Non-Null Count  Dtype \n",
            "---  ------        --------------  ----- \n",
            " 0   Comment Text  90478 non-null  object\n",
            " 1   Publish Date  90478 non-null  object\n",
            " 2   Source        90478 non-null  object\n",
            "dtypes: object(3)\n",
            "memory usage: 2.8+ MB\n",
            "None\n",
            "\n",
            "Missing values:\n",
            "Comment Text    0\n",
            "Publish Date    0\n",
            "Source          0\n",
            "dtype: int64\n",
            "\n",
            "Unique value counts:\n",
            "Comment Text    90440\n",
            "Publish Date    82122\n",
            "Source              3\n",
            "dtype: int64\n"
          ]
        }
      ],
      "source": [
        "# Summary statistics\n",
        "print(\"\\nSummary statistics:\")\n",
        "print(df.describe())\n",
        "\n",
        "# Information about the DataFrame\n",
        "print(\"\\nDataFrame information:\")\n",
        "print(df.info())\n",
        "\n",
        "# Check for missing values\n",
        "print(\"\\nMissing values:\")\n",
        "print(df.isnull().sum())\n",
        "\n",
        "# Number of unique values in each column\n",
        "print(\"\\nUnique value counts:\")\n",
        "print(df.nunique())"
      ]
    },
    {
      "cell_type": "markdown",
      "metadata": {
        "id": "P7am_bCztYJl"
      },
      "source": [
        "###*2.1.7 Remove duplicates (if needed)*"
      ]
    },
    {
      "cell_type": "code",
      "execution_count": null,
      "metadata": {
        "colab": {
          "base_uri": "https://localhost:8080/"
        },
        "id": "fHxauSa4tbM-",
        "outputId": "58c15b41-eeb8-4b33-bc11-c3e391bbaee7"
      },
      "outputs": [
        {
          "name": "stdout",
          "output_type": "stream",
          "text": [
            "Duplicates after removal:\n",
            "0\n"
          ]
        }
      ],
      "source": [
        "# Drop duplicate rows based on 'Comment Text'\n",
        "df = df.drop_duplicates(subset=['Comment Text'])\n",
        "\n",
        "# Verify duplicates are removed\n",
        "print(\"Duplicates after removal:\")\n",
        "print(df.duplicated(subset=['Comment Text']).sum())"
      ]
    },
    {
      "cell_type": "code",
      "execution_count": null,
      "metadata": {
        "colab": {
          "base_uri": "https://localhost:8080/"
        },
        "id": "Wwak6jl7tiO_",
        "outputId": "00e930d6-68eb-4a1e-f129-ef7ec7df1ce6"
      },
      "outputs": [
        {
          "name": "stdout",
          "output_type": "stream",
          "text": [
            "\n",
            "Summary statistics:\n",
            "                                             Comment Text      Publish Date  \\\n",
            "count                                               90440             90440   \n",
            "unique                                              90440             82095   \n",
            "top     hi, Can you recommend a skincare for Acne for ...  04/08/2021 21:48   \n",
            "freq                                                    1                82   \n",
            "\n",
            "           Source  \n",
            "count       90440  \n",
            "unique          3  \n",
            "top     Instagram  \n",
            "freq        71243  \n"
          ]
        }
      ],
      "source": [
        "# Summary statistics\n",
        "print(\"\\nSummary statistics:\")\n",
        "print(df.describe())"
      ]
    },
    {
      "cell_type": "markdown",
      "metadata": {
        "id": "9vcc44CCWJdA"
      },
      "source": [
        "###*2.1.8 Normalize date*"
      ]
    },
    {
      "cell_type": "code",
      "execution_count": null,
      "metadata": {
        "colab": {
          "base_uri": "https://localhost:8080/"
        },
        "id": "g6Ed-neMWoBi",
        "outputId": "a759c72d-328d-4019-d91d-8bf060c8db23"
      },
      "outputs": [
        {
          "name": "stdout",
          "output_type": "stream",
          "text": [
            "                                        Comment Text             Publish Date  \\\n",
            "2  hi, Can you recommend a skincare for Acne for ...   12/17/2023, 9:40:43 PM   \n",
            "3  now that you have established customers. pleas...  12/17/2023, 11:19:41 PM   \n",
            "4                     Cannot wait for this launch ??   12/18/2023, 6:05:10 PM   \n",
            "7  Thank you so much for your enthusiasm! We're t...   12/19/2023, 6:56:37 PM   \n",
            "8                                                Yes   12/21/2023, 7:51:46 PM   \n",
            "\n",
            "      Source Normalized Publish Date  \n",
            "2  Instagram              17/12/2023  \n",
            "3  Instagram              17/12/2023  \n",
            "4  Instagram              18/12/2023  \n",
            "7  Instagram              19/12/2023  \n",
            "8  Instagram              21/12/2023  \n"
          ]
        }
      ],
      "source": [
        "# Define the function for date normalization\n",
        "from datetime import datetime\n",
        "\n",
        "def normalize_date(row):\n",
        "    source = row['Source']\n",
        "    date_str = row['Publish Date']\n",
        "\n",
        "    if source == 'Instagram':\n",
        "        date_obj = datetime.strptime(date_str, '%m/%d/%Y, %I:%M:%S %p')\n",
        "    elif source == 'Shopee':\n",
        "        try:\n",
        "            # First Shopee format\n",
        "            date_obj = datetime.strptime(date_str, '%Y-%m-%dT%H:%M:%S.%fZ')\n",
        "        except ValueError:\n",
        "            # Second Shopee format\n",
        "            date_obj = datetime.strptime(date_str, '%d/%m/%Y %H:%M')\n",
        "    elif source == 'Facebook':\n",
        "        date_obj = datetime.strptime(date_str, '%d/%m/%Y %H:%M')\n",
        "\n",
        "    return date_obj.strftime('%d/%m/%Y')\n",
        "\n",
        "# Apply the function to normalize the 'Publish Date' column\n",
        "df['Normalized Publish Date'] = df.apply(normalize_date, axis=1)\n",
        "\n",
        "# Drop the original 'Publish Date' column if desired\n",
        "# df = df.drop(columns=['Publish Date'])\n",
        "\n",
        "# Display the updated DataFrame\n",
        "print(df.head())"
      ]
    },
    {
      "cell_type": "code",
      "execution_count": null,
      "metadata": {
        "colab": {
          "base_uri": "https://localhost:8080/"
        },
        "id": "ifa4v9tIaaO6",
        "outputId": "107832c5-964f-4896-f584-442c32d573c1"
      },
      "outputs": [
        {
          "name": "stdout",
          "output_type": "stream",
          "text": [
            "                                        Comment Text             Publish Date  \\\n",
            "2  hi, Can you recommend a skincare for Acne for ...   12/17/2023, 9:40:43 PM   \n",
            "3  now that you have established customers. pleas...  12/17/2023, 11:19:41 PM   \n",
            "4                     Cannot wait for this launch ??   12/18/2023, 6:05:10 PM   \n",
            "7  Thank you so much for your enthusiasm! We're t...   12/19/2023, 6:56:37 PM   \n",
            "8                                                Yes   12/21/2023, 7:51:46 PM   \n",
            "\n",
            "      Source Normalized Publish Date  \n",
            "2  Instagram              17/12/2023  \n",
            "3  Instagram              17/12/2023  \n",
            "4  Instagram              18/12/2023  \n",
            "7  Instagram              19/12/2023  \n",
            "8  Instagram              21/12/2023  \n",
            "                                             Comment Text      Publish Date  \\\n",
            "151893                   Where can I buy that in Myanmar?  10/01/2024 15:08   \n",
            "151894                                         Any sample   08/03/2024 4:08   \n",
            "151900                   link shop chính hãng trên Lazada  01/06/2023 11:42   \n",
            "151902  老板你好 我有各类型各地区广告账户，价格低售后完美 V：FBAds88 telegarm：f...  12/05/2023 17:34   \n",
            "151903                     my dear really want to do this   10/03/2024 8:22   \n",
            "\n",
            "          Source Normalized Publish Date  \n",
            "151893  Facebook              10/01/2024  \n",
            "151894  Facebook              08/03/2024  \n",
            "151900  Facebook              01/06/2023  \n",
            "151902  Facebook              12/05/2023  \n",
            "151903  Facebook              10/03/2024  \n"
          ]
        }
      ],
      "source": [
        "# Display the updated DataFrame\n",
        "print(df.head())\n",
        "print(df.tail())"
      ]
    },
    {
      "cell_type": "code",
      "execution_count": null,
      "metadata": {
        "colab": {
          "base_uri": "https://localhost:8080/",
          "height": 17
        },
        "id": "vcJoqPYoizwn",
        "outputId": "5243f80b-7055-40e2-fefb-58891dc686ee"
      },
      "outputs": [
        {
          "data": {
            "application/javascript": "\n    async function download(id, filename, size) {\n      if (!google.colab.kernel.accessAllowed) {\n        return;\n      }\n      const div = document.createElement('div');\n      const label = document.createElement('label');\n      label.textContent = `Downloading \"${filename}\": `;\n      div.appendChild(label);\n      const progress = document.createElement('progress');\n      progress.max = size;\n      div.appendChild(progress);\n      document.body.appendChild(div);\n\n      const buffers = [];\n      let downloaded = 0;\n\n      const channel = await google.colab.kernel.comms.open(id);\n      // Send a message to notify the kernel that we're ready.\n      channel.send({})\n\n      for await (const message of channel.messages) {\n        // Send a message to notify the kernel that we're ready.\n        channel.send({})\n        if (message.buffers) {\n          for (const buffer of message.buffers) {\n            buffers.push(buffer);\n            downloaded += buffer.byteLength;\n            progress.value = downloaded;\n          }\n        }\n      }\n      const blob = new Blob(buffers, {type: 'application/binary'});\n      const a = document.createElement('a');\n      a.href = window.URL.createObjectURL(blob);\n      a.download = filename;\n      div.appendChild(a);\n      a.click();\n      div.remove();\n    }\n  ",
            "text/plain": [
              "<IPython.core.display.Javascript object>"
            ]
          },
          "metadata": {},
          "output_type": "display_data"
        },
        {
          "data": {
            "application/javascript": "download(\"download_1865aba3-24c0-4633-aad0-c3b00a4c9fec\", \"Skincare_General_data_Preprocessing.csv\", 12244296)",
            "text/plain": [
              "<IPython.core.display.Javascript object>"
            ]
          },
          "metadata": {},
          "output_type": "display_data"
        }
      ],
      "source": [
        "# Save the DataFrame to a CSV file\n",
        "df.to_csv('Skincare_General_data_Preprocessing.csv', index=False)\n",
        "\n",
        "# Code to download the file in Google Colab\n",
        "from google.colab import files\n",
        "files.download('Skincare_General_data_Preprocessing.csv')"
      ]
    },
    {
      "cell_type": "markdown",
      "metadata": {
        "id": "2ZKxKEh9PncZ"
      },
      "source": [
        "##2.2 Labelling data Preprocessing"
      ]
    },
    {
      "cell_type": "code",
      "execution_count": 12,
      "metadata": {
        "colab": {
          "base_uri": "https://localhost:8080/",
          "height": 206
        },
        "id": "AW9HXlalPqIO",
        "outputId": "b2affdca-a079-4394-e13e-10fca8c2b2f8"
      },
      "outputs": [
        {
          "data": {
            "application/vnd.google.colaboratory.intrinsic+json": {
              "summary": "{\n  \"name\": \"df\",\n  \"rows\": 90439,\n  \"fields\": [\n    {\n      \"column\": \"Comment Text\",\n      \"properties\": {\n        \"dtype\": \"string\",\n        \"num_unique_values\": 90428,\n        \"samples\": [\n          \"@i_m_a_s_t_r_a_n_g_e_r_ Use Vitamin C in AM and Salicylic acid in PM. We do not recommend using them together as they can destabilize each other\",\n          \"@beminimalist__ not dark.. only brown tiny tiny dot freckles..help me to find out the product\",\n          \"I love @beminimalist__  Tagging: @brishh_5 @priya._tinni @ilasarkar4 ??\"\n        ],\n        \"semantic_type\": \"\",\n        \"description\": \"\"\n      }\n    },\n    {\n      \"column\": \"Publish Date\",\n      \"properties\": {\n        \"dtype\": \"object\",\n        \"num_unique_values\": 82094,\n        \"samples\": [\n          \"04/11/2021 10:30\",\n          \"27/10/2021 23:38\",\n          \"9/3/2021, 10:27:26 PM\"\n        ],\n        \"semantic_type\": \"\",\n        \"description\": \"\"\n      }\n    },\n    {\n      \"column\": \"Source\",\n      \"properties\": {\n        \"dtype\": \"category\",\n        \"num_unique_values\": 3,\n        \"samples\": [\n          \"Instagram\",\n          \"Shopee\",\n          \"Facebook\"\n        ],\n        \"semantic_type\": \"\",\n        \"description\": \"\"\n      }\n    },\n    {\n      \"column\": \"Normalized Publish Date\",\n      \"properties\": {\n        \"dtype\": \"object\",\n        \"num_unique_values\": 1986,\n        \"samples\": [\n          \"27/03/2022\",\n          \"29/06/2022\",\n          \"28/10/2019\"\n        ],\n        \"semantic_type\": \"\",\n        \"description\": \"\"\n      }\n    }\n  ]\n}",
              "type": "dataframe",
              "variable_name": "df"
            },
            "text/html": [
              "\n",
              "  <div id=\"df-926640a0-6885-4d40-95d2-663b2929aa85\" class=\"colab-df-container\">\n",
              "    <div>\n",
              "<style scoped>\n",
              "    .dataframe tbody tr th:only-of-type {\n",
              "        vertical-align: middle;\n",
              "    }\n",
              "\n",
              "    .dataframe tbody tr th {\n",
              "        vertical-align: top;\n",
              "    }\n",
              "\n",
              "    .dataframe thead th {\n",
              "        text-align: right;\n",
              "    }\n",
              "</style>\n",
              "<table border=\"1\" class=\"dataframe\">\n",
              "  <thead>\n",
              "    <tr style=\"text-align: right;\">\n",
              "      <th></th>\n",
              "      <th>Comment Text</th>\n",
              "      <th>Publish Date</th>\n",
              "      <th>Source</th>\n",
              "      <th>Normalized Publish Date</th>\n",
              "    </tr>\n",
              "  </thead>\n",
              "  <tbody>\n",
              "    <tr>\n",
              "      <th>0</th>\n",
              "      <td>hi, Can you recommend a skincare for Acne for ...</td>\n",
              "      <td>12/17/2023, 9:40:43 PM</td>\n",
              "      <td>Instagram</td>\n",
              "      <td>17/12/2023</td>\n",
              "    </tr>\n",
              "    <tr>\n",
              "      <th>1</th>\n",
              "      <td>now that you have established customers. pleas...</td>\n",
              "      <td>12/17/2023, 11:19:41 PM</td>\n",
              "      <td>Instagram</td>\n",
              "      <td>17/12/2023</td>\n",
              "    </tr>\n",
              "    <tr>\n",
              "      <th>2</th>\n",
              "      <td>Cannot wait for this launch ??</td>\n",
              "      <td>12/18/2023, 6:05:10 PM</td>\n",
              "      <td>Instagram</td>\n",
              "      <td>18/12/2023</td>\n",
              "    </tr>\n",
              "    <tr>\n",
              "      <th>3</th>\n",
              "      <td>Thank you so much for your enthusiasm! We're t...</td>\n",
              "      <td>12/19/2023, 6:56:37 PM</td>\n",
              "      <td>Instagram</td>\n",
              "      <td>19/12/2023</td>\n",
              "    </tr>\n",
              "    <tr>\n",
              "      <th>4</th>\n",
              "      <td>Yes</td>\n",
              "      <td>12/21/2023, 7:51:46 PM</td>\n",
              "      <td>Instagram</td>\n",
              "      <td>21/12/2023</td>\n",
              "    </tr>\n",
              "  </tbody>\n",
              "</table>\n",
              "</div>\n",
              "    <div class=\"colab-df-buttons\">\n",
              "\n",
              "  <div class=\"colab-df-container\">\n",
              "    <button class=\"colab-df-convert\" onclick=\"convertToInteractive('df-926640a0-6885-4d40-95d2-663b2929aa85')\"\n",
              "            title=\"Convert this dataframe to an interactive table.\"\n",
              "            style=\"display:none;\">\n",
              "\n",
              "  <svg xmlns=\"http://www.w3.org/2000/svg\" height=\"24px\" viewBox=\"0 -960 960 960\">\n",
              "    <path d=\"M120-120v-720h720v720H120Zm60-500h600v-160H180v160Zm220 220h160v-160H400v160Zm0 220h160v-160H400v160ZM180-400h160v-160H180v160Zm440 0h160v-160H620v160ZM180-180h160v-160H180v160Zm440 0h160v-160H620v160Z\"/>\n",
              "  </svg>\n",
              "    </button>\n",
              "\n",
              "  <style>\n",
              "    .colab-df-container {\n",
              "      display:flex;\n",
              "      gap: 12px;\n",
              "    }\n",
              "\n",
              "    .colab-df-convert {\n",
              "      background-color: #E8F0FE;\n",
              "      border: none;\n",
              "      border-radius: 50%;\n",
              "      cursor: pointer;\n",
              "      display: none;\n",
              "      fill: #1967D2;\n",
              "      height: 32px;\n",
              "      padding: 0 0 0 0;\n",
              "      width: 32px;\n",
              "    }\n",
              "\n",
              "    .colab-df-convert:hover {\n",
              "      background-color: #E2EBFA;\n",
              "      box-shadow: 0px 1px 2px rgba(60, 64, 67, 0.3), 0px 1px 3px 1px rgba(60, 64, 67, 0.15);\n",
              "      fill: #174EA6;\n",
              "    }\n",
              "\n",
              "    .colab-df-buttons div {\n",
              "      margin-bottom: 4px;\n",
              "    }\n",
              "\n",
              "    [theme=dark] .colab-df-convert {\n",
              "      background-color: #3B4455;\n",
              "      fill: #D2E3FC;\n",
              "    }\n",
              "\n",
              "    [theme=dark] .colab-df-convert:hover {\n",
              "      background-color: #434B5C;\n",
              "      box-shadow: 0px 1px 3px 1px rgba(0, 0, 0, 0.15);\n",
              "      filter: drop-shadow(0px 1px 2px rgba(0, 0, 0, 0.3));\n",
              "      fill: #FFFFFF;\n",
              "    }\n",
              "  </style>\n",
              "\n",
              "    <script>\n",
              "      const buttonEl =\n",
              "        document.querySelector('#df-926640a0-6885-4d40-95d2-663b2929aa85 button.colab-df-convert');\n",
              "      buttonEl.style.display =\n",
              "        google.colab.kernel.accessAllowed ? 'block' : 'none';\n",
              "\n",
              "      async function convertToInteractive(key) {\n",
              "        const element = document.querySelector('#df-926640a0-6885-4d40-95d2-663b2929aa85');\n",
              "        const dataTable =\n",
              "          await google.colab.kernel.invokeFunction('convertToInteractive',\n",
              "                                                    [key], {});\n",
              "        if (!dataTable) return;\n",
              "\n",
              "        const docLinkHtml = 'Like what you see? Visit the ' +\n",
              "          '<a target=\"_blank\" href=https://colab.research.google.com/notebooks/data_table.ipynb>data table notebook</a>'\n",
              "          + ' to learn more about interactive tables.';\n",
              "        element.innerHTML = '';\n",
              "        dataTable['output_type'] = 'display_data';\n",
              "        await google.colab.output.renderOutput(dataTable, element);\n",
              "        const docLink = document.createElement('div');\n",
              "        docLink.innerHTML = docLinkHtml;\n",
              "        element.appendChild(docLink);\n",
              "      }\n",
              "    </script>\n",
              "  </div>\n",
              "\n",
              "\n",
              "<div id=\"df-ea69fc3c-bec8-4fd0-9817-e6020dce2835\">\n",
              "  <button class=\"colab-df-quickchart\" onclick=\"quickchart('df-ea69fc3c-bec8-4fd0-9817-e6020dce2835')\"\n",
              "            title=\"Suggest charts\"\n",
              "            style=\"display:none;\">\n",
              "\n",
              "<svg xmlns=\"http://www.w3.org/2000/svg\" height=\"24px\"viewBox=\"0 0 24 24\"\n",
              "     width=\"24px\">\n",
              "    <g>\n",
              "        <path d=\"M19 3H5c-1.1 0-2 .9-2 2v14c0 1.1.9 2 2 2h14c1.1 0 2-.9 2-2V5c0-1.1-.9-2-2-2zM9 17H7v-7h2v7zm4 0h-2V7h2v10zm4 0h-2v-4h2v4z\"/>\n",
              "    </g>\n",
              "</svg>\n",
              "  </button>\n",
              "\n",
              "<style>\n",
              "  .colab-df-quickchart {\n",
              "      --bg-color: #E8F0FE;\n",
              "      --fill-color: #1967D2;\n",
              "      --hover-bg-color: #E2EBFA;\n",
              "      --hover-fill-color: #174EA6;\n",
              "      --disabled-fill-color: #AAA;\n",
              "      --disabled-bg-color: #DDD;\n",
              "  }\n",
              "\n",
              "  [theme=dark] .colab-df-quickchart {\n",
              "      --bg-color: #3B4455;\n",
              "      --fill-color: #D2E3FC;\n",
              "      --hover-bg-color: #434B5C;\n",
              "      --hover-fill-color: #FFFFFF;\n",
              "      --disabled-bg-color: #3B4455;\n",
              "      --disabled-fill-color: #666;\n",
              "  }\n",
              "\n",
              "  .colab-df-quickchart {\n",
              "    background-color: var(--bg-color);\n",
              "    border: none;\n",
              "    border-radius: 50%;\n",
              "    cursor: pointer;\n",
              "    display: none;\n",
              "    fill: var(--fill-color);\n",
              "    height: 32px;\n",
              "    padding: 0;\n",
              "    width: 32px;\n",
              "  }\n",
              "\n",
              "  .colab-df-quickchart:hover {\n",
              "    background-color: var(--hover-bg-color);\n",
              "    box-shadow: 0 1px 2px rgba(60, 64, 67, 0.3), 0 1px 3px 1px rgba(60, 64, 67, 0.15);\n",
              "    fill: var(--button-hover-fill-color);\n",
              "  }\n",
              "\n",
              "  .colab-df-quickchart-complete:disabled,\n",
              "  .colab-df-quickchart-complete:disabled:hover {\n",
              "    background-color: var(--disabled-bg-color);\n",
              "    fill: var(--disabled-fill-color);\n",
              "    box-shadow: none;\n",
              "  }\n",
              "\n",
              "  .colab-df-spinner {\n",
              "    border: 2px solid var(--fill-color);\n",
              "    border-color: transparent;\n",
              "    border-bottom-color: var(--fill-color);\n",
              "    animation:\n",
              "      spin 1s steps(1) infinite;\n",
              "  }\n",
              "\n",
              "  @keyframes spin {\n",
              "    0% {\n",
              "      border-color: transparent;\n",
              "      border-bottom-color: var(--fill-color);\n",
              "      border-left-color: var(--fill-color);\n",
              "    }\n",
              "    20% {\n",
              "      border-color: transparent;\n",
              "      border-left-color: var(--fill-color);\n",
              "      border-top-color: var(--fill-color);\n",
              "    }\n",
              "    30% {\n",
              "      border-color: transparent;\n",
              "      border-left-color: var(--fill-color);\n",
              "      border-top-color: var(--fill-color);\n",
              "      border-right-color: var(--fill-color);\n",
              "    }\n",
              "    40% {\n",
              "      border-color: transparent;\n",
              "      border-right-color: var(--fill-color);\n",
              "      border-top-color: var(--fill-color);\n",
              "    }\n",
              "    60% {\n",
              "      border-color: transparent;\n",
              "      border-right-color: var(--fill-color);\n",
              "    }\n",
              "    80% {\n",
              "      border-color: transparent;\n",
              "      border-right-color: var(--fill-color);\n",
              "      border-bottom-color: var(--fill-color);\n",
              "    }\n",
              "    90% {\n",
              "      border-color: transparent;\n",
              "      border-bottom-color: var(--fill-color);\n",
              "    }\n",
              "  }\n",
              "</style>\n",
              "\n",
              "  <script>\n",
              "    async function quickchart(key) {\n",
              "      const quickchartButtonEl =\n",
              "        document.querySelector('#' + key + ' button');\n",
              "      quickchartButtonEl.disabled = true;  // To prevent multiple clicks.\n",
              "      quickchartButtonEl.classList.add('colab-df-spinner');\n",
              "      try {\n",
              "        const charts = await google.colab.kernel.invokeFunction(\n",
              "            'suggestCharts', [key], {});\n",
              "      } catch (error) {\n",
              "        console.error('Error during call to suggestCharts:', error);\n",
              "      }\n",
              "      quickchartButtonEl.classList.remove('colab-df-spinner');\n",
              "      quickchartButtonEl.classList.add('colab-df-quickchart-complete');\n",
              "    }\n",
              "    (() => {\n",
              "      let quickchartButtonEl =\n",
              "        document.querySelector('#df-ea69fc3c-bec8-4fd0-9817-e6020dce2835 button');\n",
              "      quickchartButtonEl.style.display =\n",
              "        google.colab.kernel.accessAllowed ? 'block' : 'none';\n",
              "    })();\n",
              "  </script>\n",
              "</div>\n",
              "\n",
              "    </div>\n",
              "  </div>\n"
            ],
            "text/plain": [
              "                                        Comment Text             Publish Date  \\\n",
              "0  hi, Can you recommend a skincare for Acne for ...   12/17/2023, 9:40:43 PM   \n",
              "1  now that you have established customers. pleas...  12/17/2023, 11:19:41 PM   \n",
              "2                     Cannot wait for this launch ??   12/18/2023, 6:05:10 PM   \n",
              "3  Thank you so much for your enthusiasm! We're t...   12/19/2023, 6:56:37 PM   \n",
              "4                                                Yes   12/21/2023, 7:51:46 PM   \n",
              "\n",
              "      Source Normalized Publish Date  \n",
              "0  Instagram              17/12/2023  \n",
              "1  Instagram              17/12/2023  \n",
              "2  Instagram              18/12/2023  \n",
              "3  Instagram              19/12/2023  \n",
              "4  Instagram              21/12/2023  "
            ]
          },
          "execution_count": 12,
          "metadata": {},
          "output_type": "execute_result"
        }
      ],
      "source": [
        "import pandas as pd\n",
        "import requests\n",
        "from io import StringIO\n",
        "\n",
        "# Define the file ID of the CSV file on Google Drive\n",
        "file_id = \"1U0sExDww6lsu12zgruPe4o6StJ49PPXQ\"\n",
        "\n",
        "# Construct the direct download URL\n",
        "url = f\"https://drive.google.com/uc?export=download&id={file_id}\"\n",
        "\n",
        "# Make a GET request to fetch the CSV file from Google Drive\n",
        "response = requests.get(url)\n",
        "\n",
        "# Read the content of the CSV file\n",
        "content = response.content.decode('utf-8')\n",
        "\n",
        "# Load the CSV content into a DataFrame\n",
        "df = pd.read_csv(StringIO(content))\n",
        "\n",
        "# Display the DataFrame\n",
        "df.head()"
      ]
    },
    {
      "cell_type": "code",
      "execution_count": 13,
      "metadata": {
        "colab": {
          "base_uri": "https://localhost:8080/"
        },
        "id": "VWLvX_x3pntW",
        "outputId": "d101b4f2-50b4-4a3a-b4de-a300cf657b9d"
      },
      "outputs": [
        {
          "name": "stdout",
          "output_type": "stream",
          "text": [
            "\n",
            "Summary statistics:\n",
            "       Comment Text      Publish Date     Source Normalized Publish Date\n",
            "count         90439             90439      90439                   90439\n",
            "unique        90428             82094          3                    1986\n",
            "top             75%  04/08/2021 21:48  Instagram              05/01/2022\n",
            "freq              3                82      71242                    1655\n"
          ]
        }
      ],
      "source": [
        "# Summary statistics\n",
        "print(\"\\nSummary statistics:\")\n",
        "print(df.describe())"
      ]
    },
    {
      "cell_type": "markdown",
      "metadata": {
        "id": "rDAkjyevUNYu"
      },
      "source": [
        "###*2.2.1 Lowercase letters*"
      ]
    },
    {
      "cell_type": "code",
      "execution_count": 14,
      "metadata": {
        "colab": {
          "base_uri": "https://localhost:8080/"
        },
        "id": "Fir__4s7Tidy",
        "outputId": "2110fad0-4968-4f45-8d79-d7a489ceb46c"
      },
      "outputs": [
        {
          "name": "stdout",
          "output_type": "stream",
          "text": [
            "                                        Comment Text             Publish Date  \\\n",
            "0  hi, can you recommend a skincare for acne for ...   12/17/2023, 9:40:43 PM   \n",
            "1  now that you have established customers. pleas...  12/17/2023, 11:19:41 PM   \n",
            "2                     cannot wait for this launch ??   12/18/2023, 6:05:10 PM   \n",
            "3  thank you so much for your enthusiasm! we're t...   12/19/2023, 6:56:37 PM   \n",
            "4                                                yes   12/21/2023, 7:51:46 PM   \n",
            "\n",
            "      Source Normalized Publish Date  \n",
            "0  Instagram              17/12/2023  \n",
            "1  Instagram              17/12/2023  \n",
            "2  Instagram              18/12/2023  \n",
            "3  Instagram              19/12/2023  \n",
            "4  Instagram              21/12/2023  \n"
          ]
        }
      ],
      "source": [
        "# Convert the 'Comment Text' column to lowercase\n",
        "df['Comment Text'] = df['Comment Text'].str.lower()\n",
        "\n",
        "# Display the updated DataFrame\n",
        "print(df.head())"
      ]
    },
    {
      "cell_type": "markdown",
      "metadata": {
        "id": "h2rPFuCdmAF7"
      },
      "source": [
        "###*2.2.2 Chat Words Treatment*"
      ]
    },
    {
      "cell_type": "code",
      "execution_count": 15,
      "metadata": {
        "id": "gQ8CXHxLmHL6"
      },
      "outputs": [],
      "source": [
        "# Dictionary of 50 common chat words and their replacements\n",
        "chat_words_map = {\n",
        "    \"u\": \"you\",\n",
        "    \"ur\": \"your\",\n",
        "    \"r\": \"are\",\n",
        "    \"btw\": \"by the way\",\n",
        "    \"idk\": \"I don't know\",\n",
        "    \"lol\": \"laughing out loud\",\n",
        "    \"pls\": \"please\",\n",
        "    \"thx\": \"thanks\",\n",
        "    \"ty\": \"thank you\",\n",
        "    \"omg\": \"oh my god\",\n",
        "    \"smh\": \"shaking my head\",\n",
        "    \"ttyl\": \"talk to you later\",\n",
        "    \"gr8\": \"great\",\n",
        "    \"b4\": \"before\",\n",
        "    \"bday\": \"birthday\",\n",
        "    \"brb\": \"be right back\",\n",
        "    \"fyi\": \"for your information\",\n",
        "    \"gtg\": \"got to go\",\n",
        "    \"imo\": \"in my opinion\",\n",
        "    \"jk\": \"just kidding\",\n",
        "    \"lmk\": \"let me know\",\n",
        "    \"np\": \"no problem\",\n",
        "    \"nvm\": \"never mind\",\n",
        "    \"omw\": \"on my way\",\n",
        "    \"ppl\": \"people\",\n",
        "    \"rofl\": \"rolling on the floor laughing\",\n",
        "    \"tbh\": \"to be honest\",\n",
        "    \"thx\": \"thanks\",\n",
        "    \"ttys\": \"talk to you soon\",\n",
        "    \"w/\": \"with\",\n",
        "    \"w/o\": \"without\",\n",
        "    \"bc\": \"because\",\n",
        "    \"bff\": \"best friends forever\",\n",
        "    \"cu\": \"see you\",\n",
        "    \"cya\": \"see you\",\n",
        "    \"faq\": \"frequently asked questions\",\n",
        "    \"fb\": \"Facebook\",\n",
        "    \"gf\": \"girlfriend\",\n",
        "    \"icymi\": \"in case you missed it\",\n",
        "    \"irl\": \"in real life\",\n",
        "    \"msg\": \"message\",\n",
        "    \"omfg\": \"oh my freaking god\",\n",
        "    \"plz\": \"please\",\n",
        "    \"sry\": \"sorry\",\n",
        "    \"tba\": \"to be announced\",\n",
        "    \"tbd\": \"to be determined\",\n",
        "    \"tmi\": \"too much information\",\n",
        "    \"u2\": \"you too\",\n",
        "    \"wbu\": \"what about you\",\n",
        "    \"wyd\": \"what are you doing\",\n",
        "    \"yolo\": \"you only live once\"\n",
        "}"
      ]
    },
    {
      "cell_type": "code",
      "execution_count": 16,
      "metadata": {
        "id": "uSXkFujUq401"
      },
      "outputs": [],
      "source": [
        "import re\n",
        "\n",
        "def chat_words_treatment(text):\n",
        "    # Tokenize the text by splitting on spaces\n",
        "    words = text.split()\n",
        "    # Initialize a counter for chat words\n",
        "    chat_words_count = 0\n",
        "    # Replace chat words with their formal equivalents\n",
        "    normalized_words = []\n",
        "    for word in words:\n",
        "        if word in chat_words_map:\n",
        "            normalized_words.append(chat_words_map[word])\n",
        "            chat_words_count += 1\n",
        "        else:\n",
        "            normalized_words.append(word)\n",
        "    # Join the words back into a single string\n",
        "    normalized_text = ' '.join(normalized_words)\n",
        "    return normalized_text, chat_words_count\n",
        "\n",
        "# Function to apply chat_words_treatment to each row in 'Comment Text' column\n",
        "def apply_chat_words_treatment(text):\n",
        "    normalized_text, chat_words_count = chat_words_treatment(text)\n",
        "    return normalized_text"
      ]
    },
    {
      "cell_type": "code",
      "execution_count": 17,
      "metadata": {
        "colab": {
          "base_uri": "https://localhost:8080/"
        },
        "id": "lm9NfKjJrAIk",
        "outputId": "2eca5ab1-7231-4ba7-bd72-dab8c7cb8fd6"
      },
      "outputs": [
        {
          "name": "stdout",
          "output_type": "stream",
          "text": [
            "                                        Comment Text             Publish Date  \\\n",
            "0  hi, can you recommend a skincare for acne for ...   12/17/2023, 9:40:43 PM   \n",
            "1  now that you have established customers. pleas...  12/17/2023, 11:19:41 PM   \n",
            "2                     cannot wait for this launch ??   12/18/2023, 6:05:10 PM   \n",
            "3  thank you so much for your enthusiasm! we're t...   12/19/2023, 6:56:37 PM   \n",
            "4                                                yes   12/21/2023, 7:51:46 PM   \n",
            "\n",
            "      Source Normalized Publish Date  \n",
            "0  Instagram              17/12/2023  \n",
            "1  Instagram              17/12/2023  \n",
            "2  Instagram              18/12/2023  \n",
            "3  Instagram              19/12/2023  \n",
            "4  Instagram              21/12/2023  \n",
            "Total chat words converted: 700\n"
          ]
        }
      ],
      "source": [
        "# Apply chat_words_treatment directly to 'Comment Text' column\n",
        "df['Comment Text'] = df['Comment Text'].apply(apply_chat_words_treatment)\n",
        "\n",
        "# Display the updated DataFrame\n",
        "print(df.head())\n",
        "\n",
        "# Calculate and print total chat words converted\n",
        "total_converted_words = sum(df['Comment Text'].str.count(r'\\b(?:' + '|'.join(chat_words_map.keys()) + r')\\b'))\n",
        "print(f\"Total chat words converted: {total_converted_words}\")"
      ]
    },
    {
      "cell_type": "markdown",
      "metadata": {
        "id": "_yj42lFvmH1H"
      },
      "source": [
        "###*2.2.3 Removing Punctuation*"
      ]
    },
    {
      "cell_type": "code",
      "execution_count": 18,
      "metadata": {
        "colab": {
          "base_uri": "https://localhost:8080/"
        },
        "id": "MidMCm_jmLOL",
        "outputId": "521de149-ab60-418e-f020-974d41bca24e"
      },
      "outputs": [
        {
          "name": "stdout",
          "output_type": "stream",
          "text": [
            "                                        Comment Text             Publish Date  \\\n",
            "0  hi can you recommend a skincare for acne for o...   12/17/2023, 9:40:43 PM   \n",
            "1  now that you have established customers please...  12/17/2023, 11:19:41 PM   \n",
            "2                       cannot wait for this launch    12/18/2023, 6:05:10 PM   \n",
            "3  thank you so much for your enthusiasm were thr...   12/19/2023, 6:56:37 PM   \n",
            "4                                                yes   12/21/2023, 7:51:46 PM   \n",
            "\n",
            "      Source Normalized Publish Date  \n",
            "0  Instagram              17/12/2023  \n",
            "1  Instagram              17/12/2023  \n",
            "2  Instagram              18/12/2023  \n",
            "3  Instagram              19/12/2023  \n",
            "4  Instagram              21/12/2023  \n"
          ]
        }
      ],
      "source": [
        "# Function to remove punctuation\n",
        "def remove_punctuation(text):\n",
        "    text = re.sub(r'[^\\w\\s]', '', text)  # Remove all punctuation except underscores and whitespace\n",
        "    return text\n",
        "\n",
        "# Apply remove_punctuation to 'Comment Text' column\n",
        "df['Comment Text'] = df['Comment Text'].apply(remove_punctuation)\n",
        "\n",
        "# Display the updated DataFrame\n",
        "print(df.head())"
      ]
    },
    {
      "cell_type": "markdown",
      "metadata": {
        "id": "6yoZEM06mOrz"
      },
      "source": [
        "###*2.2.4 Removing stop words*"
      ]
    },
    {
      "cell_type": "code",
      "execution_count": 19,
      "metadata": {
        "colab": {
          "base_uri": "https://localhost:8080/"
        },
        "id": "RPyWgWAumPQM",
        "outputId": "b1caa46d-3e68-45af-d3e3-528c25ce0ed3"
      },
      "outputs": [
        {
          "name": "stdout",
          "output_type": "stream",
          "text": [
            "Requirement already satisfied: nltk in /usr/local/lib/python3.10/dist-packages (3.8.1)\n",
            "Requirement already satisfied: click in /usr/local/lib/python3.10/dist-packages (from nltk) (8.1.7)\n",
            "Requirement already satisfied: joblib in /usr/local/lib/python3.10/dist-packages (from nltk) (1.4.2)\n",
            "Requirement already satisfied: regex>=2021.8.3 in /usr/local/lib/python3.10/dist-packages (from nltk) (2024.5.15)\n",
            "Requirement already satisfied: tqdm in /usr/local/lib/python3.10/dist-packages (from nltk) (4.66.4)\n"
          ]
        }
      ],
      "source": [
        "!pip install nltk"
      ]
    },
    {
      "cell_type": "code",
      "execution_count": 20,
      "metadata": {
        "colab": {
          "base_uri": "https://localhost:8080/"
        },
        "id": "IRrLy3vOvTfw",
        "outputId": "b77afe31-9677-40d8-fa3b-1f4785e8324a"
      },
      "outputs": [
        {
          "name": "stderr",
          "output_type": "stream",
          "text": [
            "[nltk_data] Downloading package stopwords to /root/nltk_data...\n",
            "[nltk_data]   Package stopwords is already up-to-date!\n"
          ]
        },
        {
          "name": "stdout",
          "output_type": "stream",
          "text": [
            "                                        Comment Text             Publish Date  \\\n",
            "0                hi recommend skincare acne oil skin   12/17/2023, 9:40:43 PM   \n",
            "1  established customers please make bigger packa...  12/17/2023, 11:19:41 PM   \n",
            "2                                 cannot wait launch   12/18/2023, 6:05:10 PM   \n",
            "3  thank much enthusiasm thrilled hear youre look...   12/19/2023, 6:56:37 PM   \n",
            "4                                                yes   12/21/2023, 7:51:46 PM   \n",
            "\n",
            "      Source Normalized Publish Date  \n",
            "0  Instagram              17/12/2023  \n",
            "1  Instagram              17/12/2023  \n",
            "2  Instagram              18/12/2023  \n",
            "3  Instagram              19/12/2023  \n",
            "4  Instagram              21/12/2023  \n"
          ]
        }
      ],
      "source": [
        "import nltk\n",
        "from nltk.corpus import stopwords\n",
        "nltk.download('stopwords')\n",
        "\n",
        "# Function to remove stop words\n",
        "def remove_stopwords(text):\n",
        "    stop_words = set(stopwords.words('english'))  # Define the set of English stopwords\n",
        "    words = text.split()  # Tokenize text into words\n",
        "    filtered_words = [word for word in words if word.lower() not in stop_words]  # Remove stopwords\n",
        "    filtered_text = ' '.join(filtered_words)  # Join filtered words back into a single string\n",
        "    return filtered_text\n",
        "\n",
        "# Apply remove_stopwords to 'Comment Text' column\n",
        "df['Comment Text'] = df['Comment Text'].apply(remove_stopwords)\n",
        "\n",
        "# Display the updated DataFrame\n",
        "print(df.head())"
      ]
    },
    {
      "cell_type": "markdown",
      "metadata": {
        "id": "OrTVzwI4mPcw"
      },
      "source": [
        "###*2.2.5 Removing Extra Whitespace*"
      ]
    },
    {
      "cell_type": "code",
      "execution_count": 21,
      "metadata": {
        "colab": {
          "base_uri": "https://localhost:8080/"
        },
        "id": "e0UfxoigmR_d",
        "outputId": "0c6f4fc5-1286-412c-93db-8029b0e4c5ee"
      },
      "outputs": [
        {
          "name": "stdout",
          "output_type": "stream",
          "text": [
            "                                        Comment Text             Publish Date  \\\n",
            "0                hi recommend skincare acne oil skin   12/17/2023, 9:40:43 PM   \n",
            "1  established customers please make bigger packa...  12/17/2023, 11:19:41 PM   \n",
            "2                                 cannot wait launch   12/18/2023, 6:05:10 PM   \n",
            "3  thank much enthusiasm thrilled hear youre look...   12/19/2023, 6:56:37 PM   \n",
            "4                                                yes   12/21/2023, 7:51:46 PM   \n",
            "\n",
            "      Source Normalized Publish Date  \n",
            "0  Instagram              17/12/2023  \n",
            "1  Instagram              17/12/2023  \n",
            "2  Instagram              18/12/2023  \n",
            "3  Instagram              19/12/2023  \n",
            "4  Instagram              21/12/2023  \n"
          ]
        }
      ],
      "source": [
        "# Function to remove extra whitespace\n",
        "def remove_extra_whitespace(text):\n",
        "    text = re.sub(r'\\s+', ' ', text)  # Replace multiple spaces with a single space\n",
        "    return text.strip()  # Strip leading and trailing spaces\n",
        "\n",
        "# Apply remove_extra_whitespace to 'Comment Text' column\n",
        "df['Comment Text'] = df['Comment Text'].apply(remove_extra_whitespace)\n",
        "\n",
        "# Display the updated DataFrame\n",
        "print(df.head())"
      ]
    },
    {
      "cell_type": "markdown",
      "metadata": {
        "id": "dN9VJvt7-6M0"
      },
      "source": [
        "###*2.2.6 Special characters removal*"
      ]
    },
    {
      "cell_type": "code",
      "execution_count": 22,
      "metadata": {
        "colab": {
          "base_uri": "https://localhost:8080/"
        },
        "id": "XFE4D_Vf0GKB",
        "outputId": "6d50bb1b-54e1-4f5a-8b13-253f7e19deca"
      },
      "outputs": [
        {
          "name": "stdout",
          "output_type": "stream",
          "text": [
            "Initial number of rows: 90439\n",
            "Number of rows removed: 646\n",
            "Number of remaining rows: 89793\n",
            "\n",
            "Updated DataFrame:\n",
            "                                        Comment Text             Publish Date  \\\n",
            "0                hi recommend skincare acne oil skin   12/17/2023, 9:40:43 PM   \n",
            "1  established customers please make bigger packa...  12/17/2023, 11:19:41 PM   \n",
            "2                                 cannot wait launch   12/18/2023, 6:05:10 PM   \n",
            "3  thank much enthusiasm thrilled hear youre look...   12/19/2023, 6:56:37 PM   \n",
            "4                                                yes   12/21/2023, 7:51:46 PM   \n",
            "\n",
            "      Source Normalized Publish Date  \n",
            "0  Instagram              17/12/2023  \n",
            "1  Instagram              17/12/2023  \n",
            "2  Instagram              18/12/2023  \n",
            "3  Instagram              19/12/2023  \n",
            "4  Instagram              21/12/2023  \n"
          ]
        }
      ],
      "source": [
        "import numpy as np\n",
        "\n",
        "# Function to check for non-ASCII characters\n",
        "def has_non_ascii(text):\n",
        "    return any(ord(char) > 127 for char in text)\n",
        "\n",
        "# Count initial number of rows\n",
        "initial_count = len(df)\n",
        "\n",
        "# Filter rows with non-ASCII characters in 'Comment Text' and count them\n",
        "df['has_non_ascii'] = df['Comment Text'].apply(has_non_ascii)\n",
        "rows_to_remove = df[df['has_non_ascii']].index.tolist()\n",
        "num_rows_removed = len(rows_to_remove)\n",
        "\n",
        "# Remove rows with non-ASCII characters from DataFrame\n",
        "df = df.drop(rows_to_remove).drop(columns=['has_non_ascii']).reset_index(drop=True)\n",
        "\n",
        "# Count remaining rows\n",
        "remaining_count = len(df)\n",
        "\n",
        "# Print results\n",
        "print(f\"Initial number of rows: {initial_count}\")\n",
        "print(f\"Number of rows removed: {num_rows_removed}\")\n",
        "print(f\"Number of remaining rows: {remaining_count}\")\n",
        "print(\"\\nUpdated DataFrame:\")\n",
        "print(df.head())"
      ]
    },
    {
      "cell_type": "markdown",
      "metadata": {
        "id": "fjBZcDqJ_Lxl"
      },
      "source": [
        "###*2.2.7 Translation*"
      ]
    },
    {
      "cell_type": "code",
      "execution_count": 15,
      "metadata": {
        "colab": {
          "base_uri": "https://localhost:8080/",
          "height": 946
        },
        "id": "QNQ5IZLZu0Ag",
        "outputId": "3204b1b0-0b16-4d2f-a7cd-2e5d04a7e9b0"
      },
      "outputs": [
        {
          "name": "stdout",
          "output_type": "stream",
          "text": [
            "Collecting googletrans==4.0.0-rc1\n",
            "  Downloading googletrans-4.0.0rc1.tar.gz (20 kB)\n",
            "  Preparing metadata (setup.py) ... \u001b[?25l\u001b[?25hdone\n",
            "Requirement already satisfied: tqdm in /usr/local/lib/python3.10/dist-packages (4.66.4)\n",
            "Collecting httpx==0.13.3 (from googletrans==4.0.0-rc1)\n",
            "  Downloading httpx-0.13.3-py3-none-any.whl (55 kB)\n",
            "\u001b[2K     \u001b[90m━━━━━━━━━━━━━━━━━━━━━━━━━━━━━━━━━━━━━━━━\u001b[0m \u001b[32m55.1/55.1 kB\u001b[0m \u001b[31m3.1 MB/s\u001b[0m eta \u001b[36m0:00:00\u001b[0m\n",
            "\u001b[?25hRequirement already satisfied: certifi in /usr/local/lib/python3.10/dist-packages (from httpx==0.13.3->googletrans==4.0.0-rc1) (2024.6.2)\n",
            "Collecting hstspreload (from httpx==0.13.3->googletrans==4.0.0-rc1)\n",
            "  Downloading hstspreload-2024.6.1-py3-none-any.whl (1.2 MB)\n",
            "\u001b[2K     \u001b[90m━━━━━━━━━━━━━━━━━━━━━━━━━━━━━━━━━━━━━━━━\u001b[0m \u001b[32m1.2/1.2 MB\u001b[0m \u001b[31m11.3 MB/s\u001b[0m eta \u001b[36m0:00:00\u001b[0m\n",
            "\u001b[?25hRequirement already satisfied: sniffio in /usr/local/lib/python3.10/dist-packages (from httpx==0.13.3->googletrans==4.0.0-rc1) (1.3.1)\n",
            "Collecting chardet==3.* (from httpx==0.13.3->googletrans==4.0.0-rc1)\n",
            "  Downloading chardet-3.0.4-py2.py3-none-any.whl (133 kB)\n",
            "\u001b[2K     \u001b[90m━━━━━━━━━━━━━━━━━━━━━━━━━━━━━━━━━━━━━━━━\u001b[0m \u001b[32m133.4/133.4 kB\u001b[0m \u001b[31m9.5 MB/s\u001b[0m eta \u001b[36m0:00:00\u001b[0m\n",
            "\u001b[?25hCollecting idna==2.* (from httpx==0.13.3->googletrans==4.0.0-rc1)\n",
            "  Downloading idna-2.10-py2.py3-none-any.whl (58 kB)\n",
            "\u001b[2K     \u001b[90m━━━━━━━━━━━━━━━━━━━━━━━━━━━━━━━━━━━━━━━━\u001b[0m \u001b[32m58.8/58.8 kB\u001b[0m \u001b[31m7.9 MB/s\u001b[0m eta \u001b[36m0:00:00\u001b[0m\n",
            "\u001b[?25hCollecting rfc3986<2,>=1.3 (from httpx==0.13.3->googletrans==4.0.0-rc1)\n",
            "  Downloading rfc3986-1.5.0-py2.py3-none-any.whl (31 kB)\n",
            "Collecting httpcore==0.9.* (from httpx==0.13.3->googletrans==4.0.0-rc1)\n",
            "  Downloading httpcore-0.9.1-py3-none-any.whl (42 kB)\n",
            "\u001b[2K     \u001b[90m━━━━━━━━━━━━━━━━━━━━━━━━━━━━━━━━━━━━━━━━\u001b[0m \u001b[32m42.6/42.6 kB\u001b[0m \u001b[31m5.4 MB/s\u001b[0m eta \u001b[36m0:00:00\u001b[0m\n",
            "\u001b[?25hCollecting h11<0.10,>=0.8 (from httpcore==0.9.*->httpx==0.13.3->googletrans==4.0.0-rc1)\n",
            "  Downloading h11-0.9.0-py2.py3-none-any.whl (53 kB)\n",
            "\u001b[2K     \u001b[90m━━━━━━━━━━━━━━━━━━━━━━━━━━━━━━━━━━━━━━━━\u001b[0m \u001b[32m53.6/53.6 kB\u001b[0m \u001b[31m7.0 MB/s\u001b[0m eta \u001b[36m0:00:00\u001b[0m\n",
            "\u001b[?25hCollecting h2==3.* (from httpcore==0.9.*->httpx==0.13.3->googletrans==4.0.0-rc1)\n",
            "  Downloading h2-3.2.0-py2.py3-none-any.whl (65 kB)\n",
            "\u001b[2K     \u001b[90m━━━━━━━━━━━━━━━━━━━━━━━━━━━━━━━━━━━━━━━━\u001b[0m \u001b[32m65.0/65.0 kB\u001b[0m \u001b[31m8.0 MB/s\u001b[0m eta \u001b[36m0:00:00\u001b[0m\n",
            "\u001b[?25hCollecting hyperframe<6,>=5.2.0 (from h2==3.*->httpcore==0.9.*->httpx==0.13.3->googletrans==4.0.0-rc1)\n",
            "  Downloading hyperframe-5.2.0-py2.py3-none-any.whl (12 kB)\n",
            "Collecting hpack<4,>=3.0 (from h2==3.*->httpcore==0.9.*->httpx==0.13.3->googletrans==4.0.0-rc1)\n",
            "  Downloading hpack-3.0.0-py2.py3-none-any.whl (38 kB)\n",
            "Building wheels for collected packages: googletrans\n",
            "  Building wheel for googletrans (setup.py) ... \u001b[?25l\u001b[?25hdone\n",
            "  Created wheel for googletrans: filename=googletrans-4.0.0rc1-py3-none-any.whl size=17395 sha256=aa7c254f274edbd7f9836653cd12fe2f9a443fe902ad50654b82eb9563a5fd6e\n",
            "  Stored in directory: /root/.cache/pip/wheels/c0/59/9f/7372f0cf70160fe61b528532e1a7c8498c4becd6bcffb022de\n",
            "Successfully built googletrans\n",
            "Installing collected packages: rfc3986, hyperframe, hpack, h11, chardet, idna, hstspreload, h2, httpcore, httpx, googletrans\n",
            "  Attempting uninstall: chardet\n",
            "    Found existing installation: chardet 5.2.0\n",
            "    Uninstalling chardet-5.2.0:\n",
            "      Successfully uninstalled chardet-5.2.0\n",
            "  Attempting uninstall: idna\n",
            "    Found existing installation: idna 3.7\n",
            "    Uninstalling idna-3.7:\n",
            "      Successfully uninstalled idna-3.7\n",
            "Successfully installed chardet-3.0.4 googletrans-4.0.0rc1 h11-0.9.0 h2-3.2.0 hpack-3.0.0 hstspreload-2024.6.1 httpcore-0.9.1 httpx-0.13.3 hyperframe-5.2.0 idna-2.10 rfc3986-1.5.0\n"
          ]
        },
        {
          "data": {
            "application/vnd.colab-display-data+json": {
              "id": "2cc971acd2c84088aa16e55012a03950",
              "pip_warning": {
                "packages": [
                  "chardet",
                  "idna"
                ]
              }
            }
          },
          "metadata": {},
          "output_type": "display_data"
        }
      ],
      "source": [
        "!pip install deep_translator tqdm"
      ]
    },
    {
      "cell_type": "code",
      "execution_count": null,
      "metadata": {
        "id": "qNz8FnSU3QM5"
      },
      "outputs": [],
      "source": [
        "from googletrans import Translator\n",
        "from tqdm import tqdm\n",
        "\n",
        "translator = Translator()\n",
        "\n",
        "def translate_to_english_with_progress(text):\n",
        "    try:\n",
        "        # Translate to English\n",
        "        translated = translator.translate(text, dest='en').text\n",
        "        return translated\n",
        "    except Exception as e:\n",
        "        print(f\"Error translating text: {e}\")\n",
        "        return text\n",
        "\n",
        "def translate_df_with_progress(df):\n",
        "    # Initialize tqdm with the length of the DataFrame\n",
        "    tqdm.pandas(desc=\"Translating Comments\")\n",
        "    # Apply translation function with progress bar\n",
        "    df['Comment Text'] = df['Comment Text'].progress_apply(translate_to_english_with_progress)\n",
        "    return df\n",
        "\n",
        "# Apply translation function to the DataFrame\n",
        "df = translate_df_with_progress(df)\n",
        "\n",
        "# Display the updated DataFrame\n",
        "print(df.head())"
      ]
    },
    {
      "cell_type": "markdown",
      "metadata": {
        "id": "7pzaaYpm3fG-"
      },
      "source": [
        "###*Re-upload file after translation locally*"
      ]
    },
    {
      "cell_type": "code",
      "execution_count": 1,
      "metadata": {
        "colab": {
          "base_uri": "https://localhost:8080/",
          "height": 206
        },
        "id": "0e2R6qja3ny9",
        "outputId": "326ce979-4d53-43c1-854c-7fbcc817241b"
      },
      "outputs": [
        {
          "data": {
            "application/vnd.google.colaboratory.intrinsic+json": {
              "summary": "{\n  \"name\": \"df\",\n  \"rows\": 89793,\n  \"fields\": [\n    {\n      \"column\": \"Comment Text\",\n      \"properties\": {\n        \"dtype\": \"string\",\n        \"num_unique_values\": 82905,\n        \"samples\": [\n          \"valyrianaf hey thank suggestion pass suggestion formulators look possibilities portfolio hope helps\",\n          \"pri_pepperoni hydrate\",\n          \"hi shefali2198 yes glycolic tranexamic 11 body exfoliator help fading scars legs extent however scars referring please connect us dm assist better\"\n        ],\n        \"semantic_type\": \"\",\n        \"description\": \"\"\n      }\n    },\n    {\n      \"column\": \"Publish Date\",\n      \"properties\": {\n        \"dtype\": \"object\",\n        \"num_unique_values\": 81745,\n        \"samples\": [\n          \"7/28/2021, 6:49:48 PM\",\n          \"27/11/2018 12:46\",\n          \"8/3/2022, 4:50:36 AM\"\n        ],\n        \"semantic_type\": \"\",\n        \"description\": \"\"\n      }\n    },\n    {\n      \"column\": \"Source\",\n      \"properties\": {\n        \"dtype\": \"category\",\n        \"num_unique_values\": 3,\n        \"samples\": [\n          \"Instagram\",\n          \"Shopee\",\n          \"Facebook\"\n        ],\n        \"semantic_type\": \"\",\n        \"description\": \"\"\n      }\n    },\n    {\n      \"column\": \"Normalized Publish Date\",\n      \"properties\": {\n        \"dtype\": \"object\",\n        \"num_unique_values\": 1959,\n        \"samples\": [\n          \"31/08/2018\",\n          \"03/10/2023\",\n          \"22/11/2022\"\n        ],\n        \"semantic_type\": \"\",\n        \"description\": \"\"\n      }\n    }\n  ]\n}",
              "type": "dataframe",
              "variable_name": "df"
            },
            "text/html": [
              "\n",
              "  <div id=\"df-c852a357-40f0-46cc-a279-2780867fd699\" class=\"colab-df-container\">\n",
              "    <div>\n",
              "<style scoped>\n",
              "    .dataframe tbody tr th:only-of-type {\n",
              "        vertical-align: middle;\n",
              "    }\n",
              "\n",
              "    .dataframe tbody tr th {\n",
              "        vertical-align: top;\n",
              "    }\n",
              "\n",
              "    .dataframe thead th {\n",
              "        text-align: right;\n",
              "    }\n",
              "</style>\n",
              "<table border=\"1\" class=\"dataframe\">\n",
              "  <thead>\n",
              "    <tr style=\"text-align: right;\">\n",
              "      <th></th>\n",
              "      <th>Comment Text</th>\n",
              "      <th>Publish Date</th>\n",
              "      <th>Source</th>\n",
              "      <th>Normalized Publish Date</th>\n",
              "    </tr>\n",
              "  </thead>\n",
              "  <tbody>\n",
              "    <tr>\n",
              "      <th>0</th>\n",
              "      <td>hi recommend skincare acne oil skin</td>\n",
              "      <td>12/17/2023, 9:40:43 PM</td>\n",
              "      <td>Instagram</td>\n",
              "      <td>17/12/2023</td>\n",
              "    </tr>\n",
              "    <tr>\n",
              "      <th>1</th>\n",
              "      <td>established customers please make bigger packa...</td>\n",
              "      <td>12/17/2023, 11:19:41 PM</td>\n",
              "      <td>Instagram</td>\n",
              "      <td>17/12/2023</td>\n",
              "    </tr>\n",
              "    <tr>\n",
              "      <th>2</th>\n",
              "      <td>cannot wait launch</td>\n",
              "      <td>12/18/2023, 6:05:10 PM</td>\n",
              "      <td>Instagram</td>\n",
              "      <td>18/12/2023</td>\n",
              "    </tr>\n",
              "    <tr>\n",
              "      <th>3</th>\n",
              "      <td>thank much enthusiasm thrilled hear youre look...</td>\n",
              "      <td>12/19/2023, 6:56:37 PM</td>\n",
              "      <td>Instagram</td>\n",
              "      <td>19/12/2023</td>\n",
              "    </tr>\n",
              "    <tr>\n",
              "      <th>4</th>\n",
              "      <td>yes</td>\n",
              "      <td>12/21/2023, 7:51:46 PM</td>\n",
              "      <td>Instagram</td>\n",
              "      <td>21/12/2023</td>\n",
              "    </tr>\n",
              "  </tbody>\n",
              "</table>\n",
              "</div>\n",
              "    <div class=\"colab-df-buttons\">\n",
              "\n",
              "  <div class=\"colab-df-container\">\n",
              "    <button class=\"colab-df-convert\" onclick=\"convertToInteractive('df-c852a357-40f0-46cc-a279-2780867fd699')\"\n",
              "            title=\"Convert this dataframe to an interactive table.\"\n",
              "            style=\"display:none;\">\n",
              "\n",
              "  <svg xmlns=\"http://www.w3.org/2000/svg\" height=\"24px\" viewBox=\"0 -960 960 960\">\n",
              "    <path d=\"M120-120v-720h720v720H120Zm60-500h600v-160H180v160Zm220 220h160v-160H400v160Zm0 220h160v-160H400v160ZM180-400h160v-160H180v160Zm440 0h160v-160H620v160ZM180-180h160v-160H180v160Zm440 0h160v-160H620v160Z\"/>\n",
              "  </svg>\n",
              "    </button>\n",
              "\n",
              "  <style>\n",
              "    .colab-df-container {\n",
              "      display:flex;\n",
              "      gap: 12px;\n",
              "    }\n",
              "\n",
              "    .colab-df-convert {\n",
              "      background-color: #E8F0FE;\n",
              "      border: none;\n",
              "      border-radius: 50%;\n",
              "      cursor: pointer;\n",
              "      display: none;\n",
              "      fill: #1967D2;\n",
              "      height: 32px;\n",
              "      padding: 0 0 0 0;\n",
              "      width: 32px;\n",
              "    }\n",
              "\n",
              "    .colab-df-convert:hover {\n",
              "      background-color: #E2EBFA;\n",
              "      box-shadow: 0px 1px 2px rgba(60, 64, 67, 0.3), 0px 1px 3px 1px rgba(60, 64, 67, 0.15);\n",
              "      fill: #174EA6;\n",
              "    }\n",
              "\n",
              "    .colab-df-buttons div {\n",
              "      margin-bottom: 4px;\n",
              "    }\n",
              "\n",
              "    [theme=dark] .colab-df-convert {\n",
              "      background-color: #3B4455;\n",
              "      fill: #D2E3FC;\n",
              "    }\n",
              "\n",
              "    [theme=dark] .colab-df-convert:hover {\n",
              "      background-color: #434B5C;\n",
              "      box-shadow: 0px 1px 3px 1px rgba(0, 0, 0, 0.15);\n",
              "      filter: drop-shadow(0px 1px 2px rgba(0, 0, 0, 0.3));\n",
              "      fill: #FFFFFF;\n",
              "    }\n",
              "  </style>\n",
              "\n",
              "    <script>\n",
              "      const buttonEl =\n",
              "        document.querySelector('#df-c852a357-40f0-46cc-a279-2780867fd699 button.colab-df-convert');\n",
              "      buttonEl.style.display =\n",
              "        google.colab.kernel.accessAllowed ? 'block' : 'none';\n",
              "\n",
              "      async function convertToInteractive(key) {\n",
              "        const element = document.querySelector('#df-c852a357-40f0-46cc-a279-2780867fd699');\n",
              "        const dataTable =\n",
              "          await google.colab.kernel.invokeFunction('convertToInteractive',\n",
              "                                                    [key], {});\n",
              "        if (!dataTable) return;\n",
              "\n",
              "        const docLinkHtml = 'Like what you see? Visit the ' +\n",
              "          '<a target=\"_blank\" href=https://colab.research.google.com/notebooks/data_table.ipynb>data table notebook</a>'\n",
              "          + ' to learn more about interactive tables.';\n",
              "        element.innerHTML = '';\n",
              "        dataTable['output_type'] = 'display_data';\n",
              "        await google.colab.output.renderOutput(dataTable, element);\n",
              "        const docLink = document.createElement('div');\n",
              "        docLink.innerHTML = docLinkHtml;\n",
              "        element.appendChild(docLink);\n",
              "      }\n",
              "    </script>\n",
              "  </div>\n",
              "\n",
              "\n",
              "<div id=\"df-e0e0f490-236a-4186-b279-59a68ed65b9d\">\n",
              "  <button class=\"colab-df-quickchart\" onclick=\"quickchart('df-e0e0f490-236a-4186-b279-59a68ed65b9d')\"\n",
              "            title=\"Suggest charts\"\n",
              "            style=\"display:none;\">\n",
              "\n",
              "<svg xmlns=\"http://www.w3.org/2000/svg\" height=\"24px\"viewBox=\"0 0 24 24\"\n",
              "     width=\"24px\">\n",
              "    <g>\n",
              "        <path d=\"M19 3H5c-1.1 0-2 .9-2 2v14c0 1.1.9 2 2 2h14c1.1 0 2-.9 2-2V5c0-1.1-.9-2-2-2zM9 17H7v-7h2v7zm4 0h-2V7h2v10zm4 0h-2v-4h2v4z\"/>\n",
              "    </g>\n",
              "</svg>\n",
              "  </button>\n",
              "\n",
              "<style>\n",
              "  .colab-df-quickchart {\n",
              "      --bg-color: #E8F0FE;\n",
              "      --fill-color: #1967D2;\n",
              "      --hover-bg-color: #E2EBFA;\n",
              "      --hover-fill-color: #174EA6;\n",
              "      --disabled-fill-color: #AAA;\n",
              "      --disabled-bg-color: #DDD;\n",
              "  }\n",
              "\n",
              "  [theme=dark] .colab-df-quickchart {\n",
              "      --bg-color: #3B4455;\n",
              "      --fill-color: #D2E3FC;\n",
              "      --hover-bg-color: #434B5C;\n",
              "      --hover-fill-color: #FFFFFF;\n",
              "      --disabled-bg-color: #3B4455;\n",
              "      --disabled-fill-color: #666;\n",
              "  }\n",
              "\n",
              "  .colab-df-quickchart {\n",
              "    background-color: var(--bg-color);\n",
              "    border: none;\n",
              "    border-radius: 50%;\n",
              "    cursor: pointer;\n",
              "    display: none;\n",
              "    fill: var(--fill-color);\n",
              "    height: 32px;\n",
              "    padding: 0;\n",
              "    width: 32px;\n",
              "  }\n",
              "\n",
              "  .colab-df-quickchart:hover {\n",
              "    background-color: var(--hover-bg-color);\n",
              "    box-shadow: 0 1px 2px rgba(60, 64, 67, 0.3), 0 1px 3px 1px rgba(60, 64, 67, 0.15);\n",
              "    fill: var(--button-hover-fill-color);\n",
              "  }\n",
              "\n",
              "  .colab-df-quickchart-complete:disabled,\n",
              "  .colab-df-quickchart-complete:disabled:hover {\n",
              "    background-color: var(--disabled-bg-color);\n",
              "    fill: var(--disabled-fill-color);\n",
              "    box-shadow: none;\n",
              "  }\n",
              "\n",
              "  .colab-df-spinner {\n",
              "    border: 2px solid var(--fill-color);\n",
              "    border-color: transparent;\n",
              "    border-bottom-color: var(--fill-color);\n",
              "    animation:\n",
              "      spin 1s steps(1) infinite;\n",
              "  }\n",
              "\n",
              "  @keyframes spin {\n",
              "    0% {\n",
              "      border-color: transparent;\n",
              "      border-bottom-color: var(--fill-color);\n",
              "      border-left-color: var(--fill-color);\n",
              "    }\n",
              "    20% {\n",
              "      border-color: transparent;\n",
              "      border-left-color: var(--fill-color);\n",
              "      border-top-color: var(--fill-color);\n",
              "    }\n",
              "    30% {\n",
              "      border-color: transparent;\n",
              "      border-left-color: var(--fill-color);\n",
              "      border-top-color: var(--fill-color);\n",
              "      border-right-color: var(--fill-color);\n",
              "    }\n",
              "    40% {\n",
              "      border-color: transparent;\n",
              "      border-right-color: var(--fill-color);\n",
              "      border-top-color: var(--fill-color);\n",
              "    }\n",
              "    60% {\n",
              "      border-color: transparent;\n",
              "      border-right-color: var(--fill-color);\n",
              "    }\n",
              "    80% {\n",
              "      border-color: transparent;\n",
              "      border-right-color: var(--fill-color);\n",
              "      border-bottom-color: var(--fill-color);\n",
              "    }\n",
              "    90% {\n",
              "      border-color: transparent;\n",
              "      border-bottom-color: var(--fill-color);\n",
              "    }\n",
              "  }\n",
              "</style>\n",
              "\n",
              "  <script>\n",
              "    async function quickchart(key) {\n",
              "      const quickchartButtonEl =\n",
              "        document.querySelector('#' + key + ' button');\n",
              "      quickchartButtonEl.disabled = true;  // To prevent multiple clicks.\n",
              "      quickchartButtonEl.classList.add('colab-df-spinner');\n",
              "      try {\n",
              "        const charts = await google.colab.kernel.invokeFunction(\n",
              "            'suggestCharts', [key], {});\n",
              "      } catch (error) {\n",
              "        console.error('Error during call to suggestCharts:', error);\n",
              "      }\n",
              "      quickchartButtonEl.classList.remove('colab-df-spinner');\n",
              "      quickchartButtonEl.classList.add('colab-df-quickchart-complete');\n",
              "    }\n",
              "    (() => {\n",
              "      let quickchartButtonEl =\n",
              "        document.querySelector('#df-e0e0f490-236a-4186-b279-59a68ed65b9d button');\n",
              "      quickchartButtonEl.style.display =\n",
              "        google.colab.kernel.accessAllowed ? 'block' : 'none';\n",
              "    })();\n",
              "  </script>\n",
              "</div>\n",
              "\n",
              "    </div>\n",
              "  </div>\n"
            ],
            "text/plain": [
              "                                        Comment Text             Publish Date  \\\n",
              "0                hi recommend skincare acne oil skin   12/17/2023, 9:40:43 PM   \n",
              "1  established customers please make bigger packa...  12/17/2023, 11:19:41 PM   \n",
              "2                                 cannot wait launch   12/18/2023, 6:05:10 PM   \n",
              "3  thank much enthusiasm thrilled hear youre look...   12/19/2023, 6:56:37 PM   \n",
              "4                                                yes   12/21/2023, 7:51:46 PM   \n",
              "\n",
              "      Source Normalized Publish Date  \n",
              "0  Instagram              17/12/2023  \n",
              "1  Instagram              17/12/2023  \n",
              "2  Instagram              18/12/2023  \n",
              "3  Instagram              19/12/2023  \n",
              "4  Instagram              21/12/2023  "
            ]
          },
          "execution_count": 1,
          "metadata": {},
          "output_type": "execute_result"
        }
      ],
      "source": [
        "import pandas as pd\n",
        "import requests\n",
        "from io import StringIO\n",
        "\n",
        "# Define the file ID of the CSV file on Google Drive\n",
        "file_id = \"117ePLGSdYex0kTnAF1tmabC8rJOfGXwE\"\n",
        "\n",
        "# Construct the direct download URL\n",
        "url = f\"https://drive.google.com/uc?export=download&id={file_id}\"\n",
        "\n",
        "# Make a GET request to fetch the CSV file from Google Drive\n",
        "response = requests.get(url)\n",
        "\n",
        "# Read the content of the CSV file\n",
        "content = response.content.decode('utf-8')\n",
        "\n",
        "# Load the CSV content into a DataFrame\n",
        "df = pd.read_csv(StringIO(content))\n",
        "\n",
        "# Display the DataFrame\n",
        "df.head()"
      ]
    },
    {
      "cell_type": "code",
      "execution_count": 6,
      "metadata": {
        "colab": {
          "base_uri": "https://localhost:8080/"
        },
        "id": "LDWDUJgG5VnX",
        "outputId": "163a815c-def6-43a5-a56a-85052a20ad2e"
      },
      "outputs": [
        {
          "name": "stdout",
          "output_type": "stream",
          "text": [
            "Null values after removal:\n",
            "0\n",
            "Duplicates after removal:\n",
            "0\n"
          ]
        }
      ],
      "source": [
        "# Drop rows where 'Comment Text' is null\n",
        "df = df.dropna(subset=['Comment Text'])\n",
        "\n",
        "# Verify null values are removed\n",
        "print(\"Null values after removal:\")\n",
        "print(df['Comment Text'].isnull().sum())\n",
        "\n",
        "# Drop duplicate rows based on 'Comment Text'\n",
        "df = df.drop_duplicates(subset=['Comment Text'])\n",
        "\n",
        "# Verify duplicates are removed\n",
        "print(\"Duplicates after removal:\")\n",
        "print(df.duplicated(subset=['Comment Text']).sum())"
      ]
    },
    {
      "cell_type": "code",
      "execution_count": 7,
      "metadata": {
        "colab": {
          "base_uri": "https://localhost:8080/"
        },
        "id": "zvileqL45Dpz",
        "outputId": "53326f38-4945-46fd-805a-38d3a74b5af5"
      },
      "outputs": [
        {
          "name": "stdout",
          "output_type": "stream",
          "text": [
            "\n",
            "Summary statistics:\n",
            "                               Comment Text      Publish Date     Source  \\\n",
            "count                                 82905             82905      82905   \n",
            "unique                                82905             76540          3   \n",
            "top     hi recommend skincare acne oil skin  04/08/2021 21:48  Instagram   \n",
            "freq                                      1                56      66488   \n",
            "\n",
            "       Normalized Publish Date  \n",
            "count                    82905  \n",
            "unique                    1945  \n",
            "top                 05/01/2022  \n",
            "freq                      1631  \n",
            "\n",
            "DataFrame information:\n",
            "<class 'pandas.core.frame.DataFrame'>\n",
            "Index: 82905 entries, 0 to 89792\n",
            "Data columns (total 4 columns):\n",
            " #   Column                   Non-Null Count  Dtype \n",
            "---  ------                   --------------  ----- \n",
            " 0   Comment Text             82905 non-null  object\n",
            " 1   Publish Date             82905 non-null  object\n",
            " 2   Source                   82905 non-null  object\n",
            " 3   Normalized Publish Date  82905 non-null  object\n",
            "dtypes: object(4)\n",
            "memory usage: 3.2+ MB\n",
            "None\n",
            "\n",
            "Missing values:\n",
            "Comment Text               0\n",
            "Publish Date               0\n",
            "Source                     0\n",
            "Normalized Publish Date    0\n",
            "dtype: int64\n"
          ]
        }
      ],
      "source": [
        "# Summary statistics\n",
        "print(\"\\nSummary statistics:\")\n",
        "print(df.describe())\n",
        "\n",
        "# Information about the DataFrame\n",
        "print(\"\\nDataFrame information:\")\n",
        "print(df.info())\n",
        "\n",
        "# Check for missing values\n",
        "print(\"\\nMissing values:\")\n",
        "print(df.isnull().sum())"
      ]
    },
    {
      "cell_type": "markdown",
      "metadata": {
        "id": "ZRCG9sdgmSGi"
      },
      "source": [
        "###*2.2.8 Tokenization*"
      ]
    },
    {
      "cell_type": "code",
      "execution_count": 8,
      "metadata": {
        "colab": {
          "base_uri": "https://localhost:8080/"
        },
        "id": "YJm85X1JmfOa",
        "outputId": "35586bb6-8ff5-4eb7-969d-06a9396aead7"
      },
      "outputs": [
        {
          "name": "stderr",
          "output_type": "stream",
          "text": [
            "[nltk_data] Downloading package punkt to /root/nltk_data...\n",
            "[nltk_data]   Package punkt is already up-to-date!\n"
          ]
        },
        {
          "name": "stdout",
          "output_type": "stream",
          "text": [
            "                                        Comment Text             Publish Date  \\\n",
            "0                hi recommend skincare acne oil skin   12/17/2023, 9:40:43 PM   \n",
            "1  established customers please make bigger packa...  12/17/2023, 11:19:41 PM   \n",
            "2                                 cannot wait launch   12/18/2023, 6:05:10 PM   \n",
            "3  thank much enthusiasm thrilled hear youre look...   12/19/2023, 6:56:37 PM   \n",
            "4                                                yes   12/21/2023, 7:51:46 PM   \n",
            "\n",
            "      Source Normalized Publish Date  \\\n",
            "0  Instagram              17/12/2023   \n",
            "1  Instagram              17/12/2023   \n",
            "2  Instagram              18/12/2023   \n",
            "3  Instagram              19/12/2023   \n",
            "4  Instagram              21/12/2023   \n",
            "\n",
            "                                      Comment Tokens  \n",
            "0         [hi, recommend, skincare, acne, oil, skin]  \n",
            "1  [established, customers, please, make, bigger,...  \n",
            "2                           [can, not, wait, launch]  \n",
            "3  [thank, much, enthusiasm, thrilled, hear, your...  \n",
            "4                                              [yes]  \n"
          ]
        }
      ],
      "source": [
        "import nltk\n",
        "from nltk.tokenize import word_tokenize\n",
        "nltk.download('punkt')\n",
        "\n",
        "# Assuming df is already populated with your data\n",
        "\n",
        "# Function for tokenization\n",
        "def tokenize_text(text):\n",
        "    tokens = word_tokenize(text)  # Use NLTK's word_tokenize to tokenize the text\n",
        "    return tokens\n",
        "\n",
        "# Apply tokenization to 'Comment Text' column and create a new column 'Comment Tokens'\n",
        "df['Comment Tokens'] = df['Comment Text'].apply(tokenize_text)\n",
        "\n",
        "# Display the updated DataFrame with 'Comment Tokens' column\n",
        "print(df.head())"
      ]
    },
    {
      "cell_type": "markdown",
      "metadata": {
        "id": "f53Q4-4Mwlln"
      },
      "source": [
        "###*Check point #2*"
      ]
    },
    {
      "cell_type": "code",
      "execution_count": 9,
      "metadata": {
        "colab": {
          "base_uri": "https://localhost:8080/",
          "height": 17
        },
        "id": "yhB-JitHwqOd",
        "outputId": "f2477c42-b94d-4871-9234-1888f5272743"
      },
      "outputs": [
        {
          "data": {
            "application/javascript": "\n    async function download(id, filename, size) {\n      if (!google.colab.kernel.accessAllowed) {\n        return;\n      }\n      const div = document.createElement('div');\n      const label = document.createElement('label');\n      label.textContent = `Downloading \"${filename}\": `;\n      div.appendChild(label);\n      const progress = document.createElement('progress');\n      progress.max = size;\n      div.appendChild(progress);\n      document.body.appendChild(div);\n\n      const buffers = [];\n      let downloaded = 0;\n\n      const channel = await google.colab.kernel.comms.open(id);\n      // Send a message to notify the kernel that we're ready.\n      channel.send({})\n\n      for await (const message of channel.messages) {\n        // Send a message to notify the kernel that we're ready.\n        channel.send({})\n        if (message.buffers) {\n          for (const buffer of message.buffers) {\n            buffers.push(buffer);\n            downloaded += buffer.byteLength;\n            progress.value = downloaded;\n          }\n        }\n      }\n      const blob = new Blob(buffers, {type: 'application/binary'});\n      const a = document.createElement('a');\n      a.href = window.URL.createObjectURL(blob);\n      a.download = filename;\n      div.appendChild(a);\n      a.click();\n      div.remove();\n    }\n  ",
            "text/plain": [
              "<IPython.core.display.Javascript object>"
            ]
          },
          "metadata": {},
          "output_type": "display_data"
        },
        {
          "data": {
            "application/javascript": "download(\"download_ff06aed6-dd00-4f5e-92cd-dc717647c224\", \"Skincare_Clean_Data_Before_Labelling.csv\", 17431062)",
            "text/plain": [
              "<IPython.core.display.Javascript object>"
            ]
          },
          "metadata": {},
          "output_type": "display_data"
        }
      ],
      "source": [
        "# Save the DataFrame to a CSV file\n",
        "df.to_csv('Skincare_Clean_Data_Before_Labelling.csv', index=False)\n",
        "\n",
        "# Code to download the file in Google Colab\n",
        "from google.colab import files\n",
        "files.download('Skincare_Clean_Data_Before_Labelling.csv')"
      ]
    },
    {
      "cell_type": "markdown",
      "metadata": {
        "id": "8JevaZ2sPqxp"
      },
      "source": [
        "# **3. Data Labelling**"
      ]
    },
    {
      "cell_type": "code",
      "execution_count": 10,
      "metadata": {
        "colab": {
          "base_uri": "https://localhost:8080/",
          "height": 761,
          "referenced_widgets": [
            "66a84ff63ac14959a51adca6a02ddeeb",
            "e29deff0ffc149f1aed18e3cba6c8741",
            "6fa7a159a3c24420996a852516fe0b1e",
            "197e64b872a6404bb3b63eb295f0f16b",
            "9dfd8cf44ab6443885202e431a6b7d77",
            "e154512f04cc40078de2dfdec4d34cdf",
            "57d210f9ac774e5596208a8d4f79ec46",
            "c83c0cf6323b42dfa73581132eb28641",
            "6e55377a3e604a4b9a1d9da710b324a4",
            "5c390556ff8d480ab63b41733ab4575a",
            "7455ef488b17463d9cb92a5e2e2206f0",
            "b823dd1dca1f4cfdb53bb0afc7ed0c6e",
            "1f625da70f404469bc091c09500f3e1d",
            "a12f972e72ff4899a384c7ea9cfd91c7",
            "c7668a2d7669468b8556c834598c123a",
            "31c07efcb16b492584e1444d49a0daa0",
            "962dbd691522477aaaea23e4ef2ff07d",
            "3e37dcc7828c48b2aebda797b12d5b64",
            "792691a860dc4992b6184d08b5231885",
            "940aeb5b8eab46de9210f89b0470e0a9",
            "7ce9fe5946274b2590b36958740c8e30",
            "75f2eec37e474c8f995b07f118bf9090",
            "a778bdc973b44c968b02b696d2e6df3a",
            "31abe275b91a424fa0d1986ceb8857d3",
            "5a91a62b2b0b427abf208796e8d2fe91",
            "b8827b62e6584b678f9a8f4dff318845",
            "305b9f6a73fb42e8bbb287acc480275a",
            "c28c8f98ff84443ba5ef85a2d6910ec7",
            "b82d26e3ea434f8fb6ef6725d435d259",
            "de651082b16a4c6d96b1bbcc51d39fd2",
            "a0df3de78c5a4099809ad74db3a5a6c1",
            "9624934b4f82424fade13ba3639a11ca",
            "06571f2bcd96471dae1df948c25ff251",
            "bfd2652faa8d432a81cef19626e1854a",
            "56cc06321734453aafe29403c34ec2f8",
            "1a00fed511d44afa8b1f2d576a156aa8",
            "a15888cb19b64f5b8ccf446d02c8e73c",
            "a67025264de24634b89736316ebc34c5",
            "31f7412352f844e1a671b40d2f815c3c",
            "b80624bee8214ddb99a65329566fcc1a",
            "7ade0e30457f4cd6aa6509ef1b5d5f94",
            "dd24fb9c92b349eebf9f41b9565e2d82",
            "7bc4f7ab09684e5eaa03292cced8f5ec",
            "25146446bfa64b969a64ee02d7360622",
            "642ef34252794222b3841ba4c772767b",
            "9958b43514bb4d5581750166fe6e053b",
            "a771f5d04c2342609768adff2ba73d65",
            "de82dcd0a2d4465daeac8cff4d883aaf",
            "d7861c8b2fb44a0791cbb43d9c3ad456",
            "d163534809374c11b60c2110f78d2226",
            "7bf83c6f99ad40b1a2bd207a8eaa99ae",
            "bb07f5c5ddaa44aca5a91188ba788c8b",
            "48b68b5cb1644199b8e6ca264aaac2fa",
            "7524eab897c8487d900d3671151140b9",
            "6b54a956da8c4903adb107eb61660f51",
            "3659640c33bd4da28f0a28cbdd12d7c9",
            "3081f1e9cc704411a7404e2bf8733627",
            "5c3bb0a5345749f5835c7b2ac719755f",
            "5020d80cd5d6435f8129e2cc89f29aa7",
            "245b2b3c8bc8401bb9a95ff1408538c2",
            "884f23f2de24421189d398d6014b2469",
            "b8537f2fdf074fdca2274850c0e2704f",
            "4829ff978d81437ea4b08d906d672425",
            "ff2529f6ede4405aba3c7827c9f3fc20",
            "b56fedd34b3549479d4f3cb4bfdd88d0",
            "28a82c7e71194801b0c1254011f0b093",
            "cb6618c9241242ea977ab5512942b2e2",
            "ee9f7379c29e4ce3880f162b29f310cd",
            "026042a9e3e3493f9069216328e450cf",
            "9c97cba3bafa43218d338c2befd6e49c",
            "f30c5763f0594343a0dc8633568317f8",
            "c233e064fd5244e38f62c3f9214d6292",
            "26c639f06d23405ea68f2e40da84ed45",
            "12b61a65679e44b3ae1b5282e80ee512",
            "4b89ffc921084af9b27f96598c11eccb",
            "62a5d2ee77b246f9b67dc6ac2d80912c",
            "3a9f7f341df641fa834ec16d34ef8fde",
            "a93e7bfdc9614659b80cd9e42cfa3dcf",
            "922d8c942aed47978310f417402e4ced",
            "b444b493c6c741d1ba0c710eed885287",
            "1a1779c8b12b47468eb2deed72e1b3ce",
            "e4ae8d375f86468c9925fe621b9dd9da",
            "9855b5a893b64f53b98a6e52eafcacb5",
            "fb17bbcf1a104266aafc161f171a82a1",
            "75b9f538ff2c444eab0ce460f7295b6e",
            "2793a569721049a6994d2cb6ff6454d1",
            "54e54ab676424392b875d1d768bad685",
            "960f18615d394e96aef6d7a6908e5e04"
          ]
        },
        "id": "L_ed-JbOP1sR",
        "outputId": "5a7ce754-9995-4e46-b2fe-2090a48cf663"
      },
      "outputs": [
        {
          "name": "stderr",
          "output_type": "stream",
          "text": [
            "/usr/local/lib/python3.10/dist-packages/huggingface_hub/utils/_token.py:89: UserWarning: \n",
            "The secret `HF_TOKEN` does not exist in your Colab secrets.\n",
            "To authenticate with the Hugging Face Hub, create a token in your settings tab (https://huggingface.co/settings/tokens), set it as secret in your Google Colab and restart your session.\n",
            "You will be able to reuse this secret in all of your notebooks.\n",
            "Please note that authentication is recommended but still optional to access public models or datasets.\n",
            "  warnings.warn(\n"
          ]
        },
        {
          "data": {
            "application/vnd.jupyter.widget-view+json": {
              "model_id": "66a84ff63ac14959a51adca6a02ddeeb",
              "version_major": 2,
              "version_minor": 0
            },
            "text/plain": [
              "tokenizer_config.json:   0%|          | 0.00/338 [00:00<?, ?B/s]"
            ]
          },
          "metadata": {},
          "output_type": "display_data"
        },
        {
          "data": {
            "application/vnd.jupyter.widget-view+json": {
              "model_id": "b823dd1dca1f4cfdb53bb0afc7ed0c6e",
              "version_major": 2,
              "version_minor": 0
            },
            "text/plain": [
              "vocab.txt:   0%|          | 0.00/843k [00:00<?, ?B/s]"
            ]
          },
          "metadata": {},
          "output_type": "display_data"
        },
        {
          "data": {
            "application/vnd.jupyter.widget-view+json": {
              "model_id": "a778bdc973b44c968b02b696d2e6df3a",
              "version_major": 2,
              "version_minor": 0
            },
            "text/plain": [
              "bpe.codes:   0%|          | 0.00/1.08M [00:00<?, ?B/s]"
            ]
          },
          "metadata": {},
          "output_type": "display_data"
        },
        {
          "data": {
            "application/vnd.jupyter.widget-view+json": {
              "model_id": "bfd2652faa8d432a81cef19626e1854a",
              "version_major": 2,
              "version_minor": 0
            },
            "text/plain": [
              "added_tokens.json:   0%|          | 0.00/22.0 [00:00<?, ?B/s]"
            ]
          },
          "metadata": {},
          "output_type": "display_data"
        },
        {
          "data": {
            "application/vnd.jupyter.widget-view+json": {
              "model_id": "642ef34252794222b3841ba4c772767b",
              "version_major": 2,
              "version_minor": 0
            },
            "text/plain": [
              "special_tokens_map.json:   0%|          | 0.00/167 [00:00<?, ?B/s]"
            ]
          },
          "metadata": {},
          "output_type": "display_data"
        },
        {
          "name": "stderr",
          "output_type": "stream",
          "text": [
            "emoji is not installed, thus not converting emoticons or emojis into text. Install emoji: pip3 install emoji==0.6.0\n"
          ]
        },
        {
          "data": {
            "application/vnd.jupyter.widget-view+json": {
              "model_id": "3659640c33bd4da28f0a28cbdd12d7c9",
              "version_major": 2,
              "version_minor": 0
            },
            "text/plain": [
              "config.json:   0%|          | 0.00/949 [00:00<?, ?B/s]"
            ]
          },
          "metadata": {},
          "output_type": "display_data"
        },
        {
          "data": {
            "application/vnd.jupyter.widget-view+json": {
              "model_id": "cb6618c9241242ea977ab5512942b2e2",
              "version_major": 2,
              "version_minor": 0
            },
            "text/plain": [
              "pytorch_model.bin:   0%|          | 0.00/540M [00:00<?, ?B/s]"
            ]
          },
          "metadata": {},
          "output_type": "display_data"
        },
        {
          "data": {
            "application/vnd.jupyter.widget-view+json": {
              "model_id": "a93e7bfdc9614659b80cd9e42cfa3dcf",
              "version_major": 2,
              "version_minor": 0
            },
            "text/plain": [
              "Labelling Comments:   0%|          | 0/82905 [00:00<?, ?it/s]"
            ]
          },
          "metadata": {},
          "output_type": "display_data"
        },
        {
          "name": "stdout",
          "output_type": "stream",
          "text": [
            "                                        Comment Text             Publish Date  \\\n",
            "0                hi recommend skincare acne oil skin   12/17/2023, 9:40:43 PM   \n",
            "1  established customers please make bigger packa...  12/17/2023, 11:19:41 PM   \n",
            "2                                 cannot wait launch   12/18/2023, 6:05:10 PM   \n",
            "3  thank much enthusiasm thrilled hear youre look...   12/19/2023, 6:56:37 PM   \n",
            "4                                                yes   12/21/2023, 7:51:46 PM   \n",
            "\n",
            "      Source Normalized Publish Date  \\\n",
            "0  Instagram              17/12/2023   \n",
            "1  Instagram              17/12/2023   \n",
            "2  Instagram              18/12/2023   \n",
            "3  Instagram              19/12/2023   \n",
            "4  Instagram              21/12/2023   \n",
            "\n",
            "                                      Comment Tokens Sentiment Label  \n",
            "0         [hi, recommend, skincare, acne, oil, skin]             NEU  \n",
            "1  [established, customers, please, make, bigger,...             NEG  \n",
            "2                           [can, not, wait, launch]             POS  \n",
            "3  [thank, much, enthusiasm, thrilled, hear, your...             POS  \n",
            "4                                              [yes]             NEU  \n"
          ]
        }
      ],
      "source": [
        "import pandas as pd\n",
        "from transformers import AutoTokenizer, AutoModelForSequenceClassification\n",
        "from transformers import pipeline\n",
        "from tqdm.auto import tqdm\n",
        "\n",
        "# Initialize the tokenizer and model\n",
        "tokenizer = AutoTokenizer.from_pretrained(\"finiteautomata/bertweet-base-sentiment-analysis\")\n",
        "model = AutoModelForSequenceClassification.from_pretrained(\"finiteautomata/bertweet-base-sentiment-analysis\")\n",
        "\n",
        "# Initialize the sentiment analysis pipeline\n",
        "sentiment_analysis = pipeline(\"sentiment-analysis\", model=model, tokenizer=tokenizer)\n",
        "\n",
        "# Function to get sentiment label\n",
        "def get_sentiment_label(text):\n",
        "    try:\n",
        "        result = sentiment_analysis(text)\n",
        "        label = result[0]['label']\n",
        "        return label\n",
        "    except Exception as e:\n",
        "        print(f\"Error processing text: {e}\")\n",
        "        return None\n",
        "\n",
        "# Apply the sentiment analysis with progress bar\n",
        "tqdm.pandas(desc=\"Labelling Comments\")\n",
        "df['Sentiment Label'] = df['Comment Tokens'].progress_apply(lambda tokens: get_sentiment_label(\" \".join(tokens)))\n",
        "\n",
        "# Save the labelled DataFrame\n",
        "df.to_csv('labelled_data.csv', index=False)\n",
        "\n",
        "# Display the first few rows to verify\n",
        "print(df.head())"
      ]
    },
    {
      "cell_type": "code",
      "execution_count": 11,
      "metadata": {
        "colab": {
          "base_uri": "https://localhost:8080/",
          "height": 17
        },
        "id": "9zlwXt9wbTCk",
        "outputId": "70096fed-b7f5-46a9-cad1-3b4c12025b43"
      },
      "outputs": [
        {
          "data": {
            "application/javascript": "\n    async function download(id, filename, size) {\n      if (!google.colab.kernel.accessAllowed) {\n        return;\n      }\n      const div = document.createElement('div');\n      const label = document.createElement('label');\n      label.textContent = `Downloading \"${filename}\": `;\n      div.appendChild(label);\n      const progress = document.createElement('progress');\n      progress.max = size;\n      div.appendChild(progress);\n      document.body.appendChild(div);\n\n      const buffers = [];\n      let downloaded = 0;\n\n      const channel = await google.colab.kernel.comms.open(id);\n      // Send a message to notify the kernel that we're ready.\n      channel.send({})\n\n      for await (const message of channel.messages) {\n        // Send a message to notify the kernel that we're ready.\n        channel.send({})\n        if (message.buffers) {\n          for (const buffer of message.buffers) {\n            buffers.push(buffer);\n            downloaded += buffer.byteLength;\n            progress.value = downloaded;\n          }\n        }\n      }\n      const blob = new Blob(buffers, {type: 'application/binary'});\n      const a = document.createElement('a');\n      a.href = window.URL.createObjectURL(blob);\n      a.download = filename;\n      div.appendChild(a);\n      a.click();\n      div.remove();\n    }\n  ",
            "text/plain": [
              "<IPython.core.display.Javascript object>"
            ]
          },
          "metadata": {},
          "output_type": "display_data"
        },
        {
          "data": {
            "application/javascript": "download(\"download_7aad7136-4a30-48da-8921-08dedd34a514\", \"labelled_data.csv\", 17762698)",
            "text/plain": [
              "<IPython.core.display.Javascript object>"
            ]
          },
          "metadata": {},
          "output_type": "display_data"
        }
      ],
      "source": [
        "# Code to download the file in Google Colab\n",
        "from google.colab import files\n",
        "files.download('labelled_data.csv')"
      ]
    },
    {
      "cell_type": "markdown",
      "metadata": {
        "id": "nWM5gPxXP2N0"
      },
      "source": [
        "# **4. Model training**"
      ]
    },
    {
      "cell_type": "markdown",
      "metadata": {
        "id": "_BxXEJ7DnXHy"
      },
      "source": [
        "##*4.1 Re-upload the labelled dataset*"
      ]
    },
    {
      "cell_type": "code",
      "execution_count": 1,
      "metadata": {
        "colab": {
          "base_uri": "https://localhost:8080/",
          "height": 310
        },
        "id": "N4zyRh4BP6pb",
        "outputId": "24a460cd-d4c0-48b5-95ba-4a037bd20a1d"
      },
      "outputs": [
        {
          "data": {
            "application/vnd.google.colaboratory.intrinsic+json": {
              "summary": "{\n  \"name\": \"df\",\n  \"rows\": 82905,\n  \"fields\": [\n    {\n      \"column\": \"Comment Text\",\n      \"properties\": {\n        \"dtype\": \"string\",\n        \"num_unique_values\": 82905,\n        \"samples\": [\n          \"valyrianaf hey thank suggestion pass suggestion formulators look possibilities portfolio hope helps\",\n          \"pri_pepperoni hydrate\",\n          \"hi shefali2198 yes glycolic tranexamic 11 body exfoliator help fading scars legs extent however scars referring please connect us dm assist better\"\n        ],\n        \"semantic_type\": \"\",\n        \"description\": \"\"\n      }\n    },\n    {\n      \"column\": \"Publish Date\",\n      \"properties\": {\n        \"dtype\": \"object\",\n        \"num_unique_values\": 76540,\n        \"samples\": [\n          \"11/10/2022, 11:05:08 PM\",\n          \"10/6/2021, 3:14:17 PM\",\n          \"6/4/2022, 2:58:36 PM\"\n        ],\n        \"semantic_type\": \"\",\n        \"description\": \"\"\n      }\n    },\n    {\n      \"column\": \"Source\",\n      \"properties\": {\n        \"dtype\": \"category\",\n        \"num_unique_values\": 3,\n        \"samples\": [\n          \"Instagram\",\n          \"Shopee\",\n          \"Facebook\"\n        ],\n        \"semantic_type\": \"\",\n        \"description\": \"\"\n      }\n    },\n    {\n      \"column\": \"Normalized Publish Date\",\n      \"properties\": {\n        \"dtype\": \"object\",\n        \"num_unique_values\": 1945,\n        \"samples\": [\n          \"18/03/2020\",\n          \"27/06/2014\",\n          \"17/11/2021\"\n        ],\n        \"semantic_type\": \"\",\n        \"description\": \"\"\n      }\n    },\n    {\n      \"column\": \"Comment Tokens\",\n      \"properties\": {\n        \"dtype\": \"string\",\n        \"num_unique_values\": 82905,\n        \"samples\": [\n          \"['valyrianaf', 'hey', 'thank', 'suggestion', 'pass', 'suggestion', 'formulators', 'look', 'possibilities', 'portfolio', 'hope', 'helps']\",\n          \"['pri_pepperoni', 'hydrate']\",\n          \"['hi', 'shefali2198', 'yes', 'glycolic', 'tranexamic', '11', 'body', 'exfoliator', 'help', 'fading', 'scars', 'legs', 'extent', 'however', 'scars', 'referring', 'please', 'connect', 'us', 'dm', 'assist', 'better']\"\n        ],\n        \"semantic_type\": \"\",\n        \"description\": \"\"\n      }\n    },\n    {\n      \"column\": \"Sentiment Label\",\n      \"properties\": {\n        \"dtype\": \"category\",\n        \"num_unique_values\": 3,\n        \"samples\": [\n          \"NEU\",\n          \"NEG\",\n          \"POS\"\n        ],\n        \"semantic_type\": \"\",\n        \"description\": \"\"\n      }\n    }\n  ]\n}",
              "type": "dataframe",
              "variable_name": "df"
            },
            "text/html": [
              "\n",
              "  <div id=\"df-eb4b6af0-8605-479c-b4c4-6f53e843db13\" class=\"colab-df-container\">\n",
              "    <div>\n",
              "<style scoped>\n",
              "    .dataframe tbody tr th:only-of-type {\n",
              "        vertical-align: middle;\n",
              "    }\n",
              "\n",
              "    .dataframe tbody tr th {\n",
              "        vertical-align: top;\n",
              "    }\n",
              "\n",
              "    .dataframe thead th {\n",
              "        text-align: right;\n",
              "    }\n",
              "</style>\n",
              "<table border=\"1\" class=\"dataframe\">\n",
              "  <thead>\n",
              "    <tr style=\"text-align: right;\">\n",
              "      <th></th>\n",
              "      <th>Comment Text</th>\n",
              "      <th>Publish Date</th>\n",
              "      <th>Source</th>\n",
              "      <th>Normalized Publish Date</th>\n",
              "      <th>Comment Tokens</th>\n",
              "      <th>Sentiment Label</th>\n",
              "    </tr>\n",
              "  </thead>\n",
              "  <tbody>\n",
              "    <tr>\n",
              "      <th>0</th>\n",
              "      <td>hi recommend skincare acne oil skin</td>\n",
              "      <td>12/17/2023, 9:40:43 PM</td>\n",
              "      <td>Instagram</td>\n",
              "      <td>17/12/2023</td>\n",
              "      <td>['hi', 'recommend', 'skincare', 'acne', 'oil',...</td>\n",
              "      <td>NEU</td>\n",
              "    </tr>\n",
              "    <tr>\n",
              "      <th>1</th>\n",
              "      <td>established customers please make bigger packa...</td>\n",
              "      <td>12/17/2023, 11:19:41 PM</td>\n",
              "      <td>Instagram</td>\n",
              "      <td>17/12/2023</td>\n",
              "      <td>['established', 'customers', 'please', 'make',...</td>\n",
              "      <td>NEG</td>\n",
              "    </tr>\n",
              "    <tr>\n",
              "      <th>2</th>\n",
              "      <td>cannot wait launch</td>\n",
              "      <td>12/18/2023, 6:05:10 PM</td>\n",
              "      <td>Instagram</td>\n",
              "      <td>18/12/2023</td>\n",
              "      <td>['can', 'not', 'wait', 'launch']</td>\n",
              "      <td>POS</td>\n",
              "    </tr>\n",
              "    <tr>\n",
              "      <th>3</th>\n",
              "      <td>thank much enthusiasm thrilled hear youre look...</td>\n",
              "      <td>12/19/2023, 6:56:37 PM</td>\n",
              "      <td>Instagram</td>\n",
              "      <td>19/12/2023</td>\n",
              "      <td>['thank', 'much', 'enthusiasm', 'thrilled', 'h...</td>\n",
              "      <td>POS</td>\n",
              "    </tr>\n",
              "    <tr>\n",
              "      <th>4</th>\n",
              "      <td>yes</td>\n",
              "      <td>12/21/2023, 7:51:46 PM</td>\n",
              "      <td>Instagram</td>\n",
              "      <td>21/12/2023</td>\n",
              "      <td>['yes']</td>\n",
              "      <td>NEU</td>\n",
              "    </tr>\n",
              "  </tbody>\n",
              "</table>\n",
              "</div>\n",
              "    <div class=\"colab-df-buttons\">\n",
              "\n",
              "  <div class=\"colab-df-container\">\n",
              "    <button class=\"colab-df-convert\" onclick=\"convertToInteractive('df-eb4b6af0-8605-479c-b4c4-6f53e843db13')\"\n",
              "            title=\"Convert this dataframe to an interactive table.\"\n",
              "            style=\"display:none;\">\n",
              "\n",
              "  <svg xmlns=\"http://www.w3.org/2000/svg\" height=\"24px\" viewBox=\"0 -960 960 960\">\n",
              "    <path d=\"M120-120v-720h720v720H120Zm60-500h600v-160H180v160Zm220 220h160v-160H400v160Zm0 220h160v-160H400v160ZM180-400h160v-160H180v160Zm440 0h160v-160H620v160ZM180-180h160v-160H180v160Zm440 0h160v-160H620v160Z\"/>\n",
              "  </svg>\n",
              "    </button>\n",
              "\n",
              "  <style>\n",
              "    .colab-df-container {\n",
              "      display:flex;\n",
              "      gap: 12px;\n",
              "    }\n",
              "\n",
              "    .colab-df-convert {\n",
              "      background-color: #E8F0FE;\n",
              "      border: none;\n",
              "      border-radius: 50%;\n",
              "      cursor: pointer;\n",
              "      display: none;\n",
              "      fill: #1967D2;\n",
              "      height: 32px;\n",
              "      padding: 0 0 0 0;\n",
              "      width: 32px;\n",
              "    }\n",
              "\n",
              "    .colab-df-convert:hover {\n",
              "      background-color: #E2EBFA;\n",
              "      box-shadow: 0px 1px 2px rgba(60, 64, 67, 0.3), 0px 1px 3px 1px rgba(60, 64, 67, 0.15);\n",
              "      fill: #174EA6;\n",
              "    }\n",
              "\n",
              "    .colab-df-buttons div {\n",
              "      margin-bottom: 4px;\n",
              "    }\n",
              "\n",
              "    [theme=dark] .colab-df-convert {\n",
              "      background-color: #3B4455;\n",
              "      fill: #D2E3FC;\n",
              "    }\n",
              "\n",
              "    [theme=dark] .colab-df-convert:hover {\n",
              "      background-color: #434B5C;\n",
              "      box-shadow: 0px 1px 3px 1px rgba(0, 0, 0, 0.15);\n",
              "      filter: drop-shadow(0px 1px 2px rgba(0, 0, 0, 0.3));\n",
              "      fill: #FFFFFF;\n",
              "    }\n",
              "  </style>\n",
              "\n",
              "    <script>\n",
              "      const buttonEl =\n",
              "        document.querySelector('#df-eb4b6af0-8605-479c-b4c4-6f53e843db13 button.colab-df-convert');\n",
              "      buttonEl.style.display =\n",
              "        google.colab.kernel.accessAllowed ? 'block' : 'none';\n",
              "\n",
              "      async function convertToInteractive(key) {\n",
              "        const element = document.querySelector('#df-eb4b6af0-8605-479c-b4c4-6f53e843db13');\n",
              "        const dataTable =\n",
              "          await google.colab.kernel.invokeFunction('convertToInteractive',\n",
              "                                                    [key], {});\n",
              "        if (!dataTable) return;\n",
              "\n",
              "        const docLinkHtml = 'Like what you see? Visit the ' +\n",
              "          '<a target=\"_blank\" href=https://colab.research.google.com/notebooks/data_table.ipynb>data table notebook</a>'\n",
              "          + ' to learn more about interactive tables.';\n",
              "        element.innerHTML = '';\n",
              "        dataTable['output_type'] = 'display_data';\n",
              "        await google.colab.output.renderOutput(dataTable, element);\n",
              "        const docLink = document.createElement('div');\n",
              "        docLink.innerHTML = docLinkHtml;\n",
              "        element.appendChild(docLink);\n",
              "      }\n",
              "    </script>\n",
              "  </div>\n",
              "\n",
              "\n",
              "<div id=\"df-cf5fec58-5fe4-47ee-8c20-715ec7bfb3ae\">\n",
              "  <button class=\"colab-df-quickchart\" onclick=\"quickchart('df-cf5fec58-5fe4-47ee-8c20-715ec7bfb3ae')\"\n",
              "            title=\"Suggest charts\"\n",
              "            style=\"display:none;\">\n",
              "\n",
              "<svg xmlns=\"http://www.w3.org/2000/svg\" height=\"24px\"viewBox=\"0 0 24 24\"\n",
              "     width=\"24px\">\n",
              "    <g>\n",
              "        <path d=\"M19 3H5c-1.1 0-2 .9-2 2v14c0 1.1.9 2 2 2h14c1.1 0 2-.9 2-2V5c0-1.1-.9-2-2-2zM9 17H7v-7h2v7zm4 0h-2V7h2v10zm4 0h-2v-4h2v4z\"/>\n",
              "    </g>\n",
              "</svg>\n",
              "  </button>\n",
              "\n",
              "<style>\n",
              "  .colab-df-quickchart {\n",
              "      --bg-color: #E8F0FE;\n",
              "      --fill-color: #1967D2;\n",
              "      --hover-bg-color: #E2EBFA;\n",
              "      --hover-fill-color: #174EA6;\n",
              "      --disabled-fill-color: #AAA;\n",
              "      --disabled-bg-color: #DDD;\n",
              "  }\n",
              "\n",
              "  [theme=dark] .colab-df-quickchart {\n",
              "      --bg-color: #3B4455;\n",
              "      --fill-color: #D2E3FC;\n",
              "      --hover-bg-color: #434B5C;\n",
              "      --hover-fill-color: #FFFFFF;\n",
              "      --disabled-bg-color: #3B4455;\n",
              "      --disabled-fill-color: #666;\n",
              "  }\n",
              "\n",
              "  .colab-df-quickchart {\n",
              "    background-color: var(--bg-color);\n",
              "    border: none;\n",
              "    border-radius: 50%;\n",
              "    cursor: pointer;\n",
              "    display: none;\n",
              "    fill: var(--fill-color);\n",
              "    height: 32px;\n",
              "    padding: 0;\n",
              "    width: 32px;\n",
              "  }\n",
              "\n",
              "  .colab-df-quickchart:hover {\n",
              "    background-color: var(--hover-bg-color);\n",
              "    box-shadow: 0 1px 2px rgba(60, 64, 67, 0.3), 0 1px 3px 1px rgba(60, 64, 67, 0.15);\n",
              "    fill: var(--button-hover-fill-color);\n",
              "  }\n",
              "\n",
              "  .colab-df-quickchart-complete:disabled,\n",
              "  .colab-df-quickchart-complete:disabled:hover {\n",
              "    background-color: var(--disabled-bg-color);\n",
              "    fill: var(--disabled-fill-color);\n",
              "    box-shadow: none;\n",
              "  }\n",
              "\n",
              "  .colab-df-spinner {\n",
              "    border: 2px solid var(--fill-color);\n",
              "    border-color: transparent;\n",
              "    border-bottom-color: var(--fill-color);\n",
              "    animation:\n",
              "      spin 1s steps(1) infinite;\n",
              "  }\n",
              "\n",
              "  @keyframes spin {\n",
              "    0% {\n",
              "      border-color: transparent;\n",
              "      border-bottom-color: var(--fill-color);\n",
              "      border-left-color: var(--fill-color);\n",
              "    }\n",
              "    20% {\n",
              "      border-color: transparent;\n",
              "      border-left-color: var(--fill-color);\n",
              "      border-top-color: var(--fill-color);\n",
              "    }\n",
              "    30% {\n",
              "      border-color: transparent;\n",
              "      border-left-color: var(--fill-color);\n",
              "      border-top-color: var(--fill-color);\n",
              "      border-right-color: var(--fill-color);\n",
              "    }\n",
              "    40% {\n",
              "      border-color: transparent;\n",
              "      border-right-color: var(--fill-color);\n",
              "      border-top-color: var(--fill-color);\n",
              "    }\n",
              "    60% {\n",
              "      border-color: transparent;\n",
              "      border-right-color: var(--fill-color);\n",
              "    }\n",
              "    80% {\n",
              "      border-color: transparent;\n",
              "      border-right-color: var(--fill-color);\n",
              "      border-bottom-color: var(--fill-color);\n",
              "    }\n",
              "    90% {\n",
              "      border-color: transparent;\n",
              "      border-bottom-color: var(--fill-color);\n",
              "    }\n",
              "  }\n",
              "</style>\n",
              "\n",
              "  <script>\n",
              "    async function quickchart(key) {\n",
              "      const quickchartButtonEl =\n",
              "        document.querySelector('#' + key + ' button');\n",
              "      quickchartButtonEl.disabled = true;  // To prevent multiple clicks.\n",
              "      quickchartButtonEl.classList.add('colab-df-spinner');\n",
              "      try {\n",
              "        const charts = await google.colab.kernel.invokeFunction(\n",
              "            'suggestCharts', [key], {});\n",
              "      } catch (error) {\n",
              "        console.error('Error during call to suggestCharts:', error);\n",
              "      }\n",
              "      quickchartButtonEl.classList.remove('colab-df-spinner');\n",
              "      quickchartButtonEl.classList.add('colab-df-quickchart-complete');\n",
              "    }\n",
              "    (() => {\n",
              "      let quickchartButtonEl =\n",
              "        document.querySelector('#df-cf5fec58-5fe4-47ee-8c20-715ec7bfb3ae button');\n",
              "      quickchartButtonEl.style.display =\n",
              "        google.colab.kernel.accessAllowed ? 'block' : 'none';\n",
              "    })();\n",
              "  </script>\n",
              "</div>\n",
              "\n",
              "    </div>\n",
              "  </div>\n"
            ],
            "text/plain": [
              "                                        Comment Text             Publish Date  \\\n",
              "0                hi recommend skincare acne oil skin   12/17/2023, 9:40:43 PM   \n",
              "1  established customers please make bigger packa...  12/17/2023, 11:19:41 PM   \n",
              "2                                 cannot wait launch   12/18/2023, 6:05:10 PM   \n",
              "3  thank much enthusiasm thrilled hear youre look...   12/19/2023, 6:56:37 PM   \n",
              "4                                                yes   12/21/2023, 7:51:46 PM   \n",
              "\n",
              "      Source Normalized Publish Date  \\\n",
              "0  Instagram              17/12/2023   \n",
              "1  Instagram              17/12/2023   \n",
              "2  Instagram              18/12/2023   \n",
              "3  Instagram              19/12/2023   \n",
              "4  Instagram              21/12/2023   \n",
              "\n",
              "                                      Comment Tokens Sentiment Label  \n",
              "0  ['hi', 'recommend', 'skincare', 'acne', 'oil',...             NEU  \n",
              "1  ['established', 'customers', 'please', 'make',...             NEG  \n",
              "2                   ['can', 'not', 'wait', 'launch']             POS  \n",
              "3  ['thank', 'much', 'enthusiasm', 'thrilled', 'h...             POS  \n",
              "4                                            ['yes']             NEU  "
            ]
          },
          "execution_count": 1,
          "metadata": {},
          "output_type": "execute_result"
        }
      ],
      "source": [
        "import pandas as pd\n",
        "import requests\n",
        "from io import StringIO\n",
        "\n",
        "# Define the file ID of the CSV file on Google Drive\n",
        "file_id = \"1Qgfh01uL8Cd0SLcrLkv5CGnPWmLzWZjG\"\n",
        "\n",
        "# Construct the direct download URL\n",
        "url = f\"https://drive.google.com/uc?export=download&id={file_id}\"\n",
        "\n",
        "# Make a GET request to fetch the CSV file from Google Drive\n",
        "response = requests.get(url)\n",
        "\n",
        "# Read the content of the CSV file\n",
        "content = response.content.decode('utf-8')\n",
        "\n",
        "# Load the CSV content into a DataFrame\n",
        "df = pd.read_csv(StringIO(content))\n",
        "\n",
        "# Display the DataFrame\n",
        "df.head()"
      ]
    },
    {
      "cell_type": "code",
      "execution_count": 6,
      "metadata": {
        "colab": {
          "base_uri": "https://localhost:8080/"
        },
        "id": "9wwTf4Syu3N9",
        "outputId": "41aacd43-bf8b-410a-c9d7-1bd24e7ebda2"
      },
      "outputs": [
        {
          "name": "stdout",
          "output_type": "stream",
          "text": [
            "\n",
            "Summary statistics:\n",
            "                               Comment Text      Publish Date     Source  \\\n",
            "count                                 82905             82905      82905   \n",
            "unique                                82905             76540          3   \n",
            "top     hi recommend skincare acne oil skin  04/08/2021 21:48  Instagram   \n",
            "freq                                      1                56      66488   \n",
            "\n",
            "       Normalized Publish Date  \\\n",
            "count                    82905   \n",
            "unique                    1945   \n",
            "top                 05/01/2022   \n",
            "freq                      1631   \n",
            "\n",
            "                                           Comment Tokens Sentiment Label  \n",
            "count                                               82905           82905  \n",
            "unique                                              82905               3  \n",
            "top     ['hi', 'recommend', 'skincare', 'acne', 'oil',...             NEU  \n",
            "freq                                                    1           56215  \n"
          ]
        }
      ],
      "source": [
        "# Summary statistics\n",
        "print(\"\\nSummary statistics:\")\n",
        "print(df.describe())"
      ]
    },
    {
      "cell_type": "markdown",
      "metadata": {
        "id": "4DH1-T2RoFr-"
      },
      "source": [
        "##*4.2 Splitting train/test*"
      ]
    },
    {
      "cell_type": "code",
      "execution_count": 2,
      "metadata": {
        "colab": {
          "base_uri": "https://localhost:8080/"
        },
        "id": "PS5GgXDYoL25",
        "outputId": "4a8ba55d-a165-48ea-e908-75f3caa57158"
      },
      "outputs": [
        {
          "name": "stdout",
          "output_type": "stream",
          "text": [
            "X_train shape: (66324,)\n",
            "X_test shape: (16581,)\n",
            "y_train shape: (66324,)\n",
            "y_test shape: (16581,)\n"
          ]
        }
      ],
      "source": [
        "import pandas as pd\n",
        "from sklearn.model_selection import train_test_split\n",
        "\n",
        "# Define the feature and target variables\n",
        "X = df['Comment Tokens']\n",
        "y = df['Sentiment Label']\n",
        "\n",
        "# Split the dataset into training and testing sets\n",
        "X_train, X_test, y_train, y_test = train_test_split(X, y, test_size=0.2, random_state=42)\n",
        "\n",
        "# Display the shapes of the resulting data\n",
        "print(f'X_train shape: {X_train.shape}')\n",
        "print(f'X_test shape: {X_test.shape}')\n",
        "print(f'y_train shape: {y_train.shape}')\n",
        "print(f'y_test shape: {y_test.shape}')\n",
        "\n",
        "# Combine the training data into a DataFrame (optional)\n",
        "train_df = pd.DataFrame({'Comment Tokens': X_train, 'Sentiment Label': y_train})\n",
        "test_df = pd.DataFrame({'Comment Tokens': X_test, 'Sentiment Label': y_test})\n",
        "\n",
        "# Save the split datasets as CSV files (optional)\n",
        "train_df.to_csv('train_data.csv', index=False)\n",
        "test_df.to_csv('test_data.csv', index=False)"
      ]
    },
    {
      "cell_type": "markdown",
      "metadata": {
        "id": "ToQzj0GepGqf"
      },
      "source": [
        "##*4.3 Logistic Regression*"
      ]
    },
    {
      "cell_type": "code",
      "execution_count": 9,
      "metadata": {
        "colab": {
          "base_uri": "https://localhost:8080/"
        },
        "id": "Y0jNMcDcrvfP",
        "outputId": "33079f5f-33e0-42d7-c54d-74d754abf9ec"
      },
      "outputs": [
        {
          "name": "stderr",
          "output_type": "stream",
          "text": [
            "100%|██████████| 1/1 [04:22<00:00, 262.42s/it]\n"
          ]
        },
        {
          "name": "stdout",
          "output_type": "stream",
          "text": [
            "              precision    recall  f1-score   support\n",
            "\n",
            "         NEG       0.87      0.39      0.53      1045\n",
            "         NEU       0.89      0.96      0.92     11197\n",
            "         POS       0.88      0.81      0.85      4339\n",
            "\n",
            "    accuracy                           0.88     16581\n",
            "   macro avg       0.88      0.72      0.77     16581\n",
            "weighted avg       0.88      0.88      0.88     16581\n",
            "\n",
            "Accuracy: 0.8842048127374706\n"
          ]
        }
      ],
      "source": [
        "import pandas as pd\n",
        "from sklearn.feature_extraction.text import TfidfVectorizer\n",
        "from sklearn.ensemble import RandomForestClassifier\n",
        "from sklearn.pipeline import make_pipeline\n",
        "from sklearn.model_selection import train_test_split\n",
        "from sklearn.metrics import classification_report, accuracy_score\n",
        "from sklearn.model_selection import learning_curve\n",
        "import matplotlib.pyplot as plt\n",
        "import numpy as np\n",
        "from tqdm import tqdm\n",
        "\n",
        "# Prepare text data\n",
        "texts = df['Comment Text']\n",
        "labels = df['Sentiment Label']\n",
        "\n",
        "# Split data\n",
        "X_train, X_test, y_train, y_test = train_test_split(texts, labels, test_size=0.2, random_state=42)\n",
        "\n",
        "# Create a pipeline with a TfidfVectorizer and RandomForestClassifier\n",
        "pipeline = make_pipeline(TfidfVectorizer(), RandomForestClassifier(n_estimators=100, random_state=42))\n",
        "\n",
        "# Fit the model with a progress bar\n",
        "for _ in tqdm(range(1)):\n",
        "    pipeline.fit(X_train, y_train)\n",
        "\n",
        "# Predict on the test set\n",
        "y_pred = pipeline.predict(X_test)\n",
        "\n",
        "# Evaluate the model\n",
        "print(classification_report(y_test, y_pred))\n",
        "accuracy = accuracy_score(y_test, y_pred)\n",
        "print(f\"Accuracy: {accuracy}\")"
      ]
    },
    {
      "cell_type": "markdown",
      "metadata": {
        "id": "aFeDcf9FP7Zz"
      },
      "source": [
        "# **5. Model fine tuning**"
      ]
    },
    {
      "cell_type": "code",
      "execution_count": null,
      "metadata": {
        "id": "i2VCqRTUP9s3"
      },
      "outputs": [],
      "source": []
    },
    {
      "cell_type": "markdown",
      "metadata": {
        "id": "4dkNeaQ_P98N"
      },
      "source": [
        "# **6. Cross validation**"
      ]
    },
    {
      "cell_type": "code",
      "execution_count": null,
      "metadata": {
        "id": "O2aOTCHVQBw7"
      },
      "outputs": [],
      "source": []
    },
    {
      "cell_type": "markdown",
      "metadata": {
        "id": "BeCiHkEdQCJZ"
      },
      "source": [
        "# **7. Model Evaluation**"
      ]
    },
    {
      "cell_type": "code",
      "execution_count": null,
      "metadata": {
        "id": "V_jucuW6QENi"
      },
      "outputs": [],
      "source": []
    },
    {
      "cell_type": "markdown",
      "metadata": {
        "id": "sn-owO2P7kPK"
      },
      "source": [
        "---\n",
        "#**8. Influential Keywords**\n",
        "---\n",
        "\n"
      ]
    },
    {
      "cell_type": "markdown",
      "metadata": {
        "id": "kTdI88mmGGJr"
      },
      "source": [
        "##**8.0 Importing & Preprocessing**"
      ]
    },
    {
      "cell_type": "markdown",
      "metadata": {
        "id": "uLxi7GQD9t1L"
      },
      "source": [
        "###*Importing clean data for analytics*"
      ]
    },
    {
      "cell_type": "code",
      "execution_count": 1,
      "metadata": {
        "colab": {
          "base_uri": "https://localhost:8080/",
          "height": 206
        },
        "id": "4w-uS-tf9tCY",
        "outputId": "fef8cdb2-215a-451a-88e6-b00776ae74e0"
      },
      "outputs": [
        {
          "data": {
            "text/html": [
              "<div>\n",
              "<style scoped>\n",
              "    .dataframe tbody tr th:only-of-type {\n",
              "        vertical-align: middle;\n",
              "    }\n",
              "\n",
              "    .dataframe tbody tr th {\n",
              "        vertical-align: top;\n",
              "    }\n",
              "\n",
              "    .dataframe thead th {\n",
              "        text-align: right;\n",
              "    }\n",
              "</style>\n",
              "<table border=\"1\" class=\"dataframe\">\n",
              "  <thead>\n",
              "    <tr style=\"text-align: right;\">\n",
              "      <th></th>\n",
              "      <th>Comment Text</th>\n",
              "      <th>Source</th>\n",
              "      <th>Normalized Publish Date</th>\n",
              "      <th>Sentiment Label</th>\n",
              "    </tr>\n",
              "  </thead>\n",
              "  <tbody>\n",
              "    <tr>\n",
              "      <th>0</th>\n",
              "      <td>hi recommend skincare acne oil skin</td>\n",
              "      <td>Instagram</td>\n",
              "      <td>17/12/2023</td>\n",
              "      <td>NEU</td>\n",
              "    </tr>\n",
              "    <tr>\n",
              "      <th>1</th>\n",
              "      <td>established customers please make bigger packa...</td>\n",
              "      <td>Instagram</td>\n",
              "      <td>17/12/2023</td>\n",
              "      <td>NEG</td>\n",
              "    </tr>\n",
              "    <tr>\n",
              "      <th>2</th>\n",
              "      <td>cannot wait launch</td>\n",
              "      <td>Instagram</td>\n",
              "      <td>18/12/2023</td>\n",
              "      <td>POS</td>\n",
              "    </tr>\n",
              "    <tr>\n",
              "      <th>3</th>\n",
              "      <td>thank much enthusiasm thrilled hear youre look...</td>\n",
              "      <td>Instagram</td>\n",
              "      <td>19/12/2023</td>\n",
              "      <td>POS</td>\n",
              "    </tr>\n",
              "    <tr>\n",
              "      <th>4</th>\n",
              "      <td>yes</td>\n",
              "      <td>Instagram</td>\n",
              "      <td>21/12/2023</td>\n",
              "      <td>NEU</td>\n",
              "    </tr>\n",
              "  </tbody>\n",
              "</table>\n",
              "</div>"
            ],
            "text/plain": [
              "                                        Comment Text     Source  \\\n",
              "0                hi recommend skincare acne oil skin  Instagram   \n",
              "1  established customers please make bigger packa...  Instagram   \n",
              "2                                 cannot wait launch  Instagram   \n",
              "3  thank much enthusiasm thrilled hear youre look...  Instagram   \n",
              "4                                                yes  Instagram   \n",
              "\n",
              "  Normalized Publish Date Sentiment Label  \n",
              "0              17/12/2023             NEU  \n",
              "1              17/12/2023             NEG  \n",
              "2              18/12/2023             POS  \n",
              "3              19/12/2023             POS  \n",
              "4              21/12/2023             NEU  "
            ]
          },
          "execution_count": 1,
          "metadata": {},
          "output_type": "execute_result"
        }
      ],
      "source": [
        "import pandas as pd\n",
        "import requests\n",
        "from io import StringIO\n",
        "\n",
        "# Define the file ID of the CSV file on Google Drive\n",
        "file_id = \"1rgQpKAyB8XsJ1XyukORJ36aRpqHGLuqP\"\n",
        "\n",
        "# Construct the direct download URL\n",
        "url = f\"https://drive.google.com/uc?export=download&id={file_id}\"\n",
        "\n",
        "# Make a GET request to fetch the CSV file from Google Drive\n",
        "response = requests.get(url)\n",
        "\n",
        "# Read the content of the CSV file\n",
        "content = response.content.decode('utf-8')\n",
        "\n",
        "# Load the CSV content into a DataFrame\n",
        "df = pd.read_csv(StringIO(content))\n",
        "\n",
        "# Display the DataFrame\n",
        "df.head()"
      ]
    },
    {
      "cell_type": "code",
      "execution_count": 10,
      "metadata": {
        "colab": {
          "base_uri": "https://localhost:8080/"
        },
        "id": "2I3Why49FO4Z",
        "outputId": "a877bade-2c29-47e7-fca8-663cc8a6fd30"
      },
      "outputs": [
        {
          "name": "stdout",
          "output_type": "stream",
          "text": [
            "\n",
            "Summary statistics:\n",
            "                               Comment Text     Source  \\\n",
            "count                                 82512      82512   \n",
            "unique                                82512          3   \n",
            "top     hi recommend skincare acne oil skin  Instagram   \n",
            "freq                                      1      66188   \n",
            "\n",
            "       Normalized Publish Date Sentiment Label  \\\n",
            "count                    82512           82512   \n",
            "unique                    1945               3   \n",
            "top                 05/01/2022             NEU   \n",
            "freq                      1630           55950   \n",
            "\n",
            "                                        lemmatized_tokens product_categories  \n",
            "count                                               82512              82512  \n",
            "unique                                              82512                186  \n",
            "top     ['hi', 'recommend', 'skincare', 'acne', 'oil',...                 []  \n",
            "freq                                                    1              57776  \n"
          ]
        }
      ],
      "source": [
        "# Summary statistics\n",
        "print(\"\\nSummary statistics:\")\n",
        "print(df.describe())"
      ]
    },
    {
      "cell_type": "markdown",
      "metadata": {
        "id": "vASXtrl4GWFS"
      },
      "source": [
        "###*Preprocessing*"
      ]
    },
    {
      "cell_type": "code",
      "execution_count": 3,
      "metadata": {
        "colab": {
          "base_uri": "https://localhost:8080/"
        },
        "id": "__yPpyiBYKA0",
        "outputId": "7a57784c-692b-4687-a722-5fc609318b24"
      },
      "outputs": [
        {
          "name": "stderr",
          "output_type": "stream",
          "text": [
            "[nltk_data] Downloading package punkt to\n",
            "[nltk_data]     C:\\Users\\Chummy\\AppData\\Roaming\\nltk_data...\n",
            "[nltk_data]   Package punkt is already up-to-date!\n",
            "[nltk_data] Downloading package wordnet to\n",
            "[nltk_data]     C:\\Users\\Chummy\\AppData\\Roaming\\nltk_data...\n",
            "[nltk_data]   Package wordnet is already up-to-date!\n",
            "Lemmatizing Comments:   5%|▌         | 4286/82903 [00:25<07:53, 166.11it/s]\n"
          ]
        },
        {
          "ename": "KeyboardInterrupt",
          "evalue": "",
          "output_type": "error",
          "traceback": [
            "\u001b[1;31m---------------------------------------------------------------------------\u001b[0m",
            "\u001b[1;31mKeyboardInterrupt\u001b[0m                         Traceback (most recent call last)",
            "Cell \u001b[1;32mIn[3], line 21\u001b[0m\n\u001b[0;32m     19\u001b[0m \u001b[38;5;66;03m# Initialize tqdm with total number of rows\u001b[39;00m\n\u001b[0;32m     20\u001b[0m tqdm\u001b[38;5;241m.\u001b[39mpandas(desc\u001b[38;5;241m=\u001b[39m\u001b[38;5;124m\"\u001b[39m\u001b[38;5;124mLemmatizing Comments\u001b[39m\u001b[38;5;124m\"\u001b[39m)\n\u001b[1;32m---> 21\u001b[0m df[\u001b[38;5;124m'\u001b[39m\u001b[38;5;124mspacy_lemmatized_tokens_2\u001b[39m\u001b[38;5;124m'\u001b[39m] \u001b[38;5;241m=\u001b[39m \u001b[43mdf\u001b[49m\u001b[43m[\u001b[49m\u001b[38;5;124;43m'\u001b[39;49m\u001b[38;5;124;43mComment Text\u001b[39;49m\u001b[38;5;124;43m'\u001b[39;49m\u001b[43m]\u001b[49m\u001b[38;5;241;43m.\u001b[39;49m\u001b[43mprogress_apply\u001b[49m\u001b[43m(\u001b[49m\u001b[38;5;28;43;01mlambda\u001b[39;49;00m\u001b[43m \u001b[49m\u001b[43mx\u001b[49m\u001b[43m:\u001b[49m\u001b[43m \u001b[49m\u001b[43m[\u001b[49m\u001b[43mtoken\u001b[49m\u001b[38;5;241;43m.\u001b[39;49m\u001b[43mlemma_\u001b[49m\u001b[43m \u001b[49m\u001b[38;5;28;43;01mfor\u001b[39;49;00m\u001b[43m \u001b[49m\u001b[43mtoken\u001b[49m\u001b[43m \u001b[49m\u001b[38;5;129;43;01min\u001b[39;49;00m\u001b[43m \u001b[49m\u001b[43mnlp\u001b[49m\u001b[43m(\u001b[49m\u001b[43mx\u001b[49m\u001b[43m)\u001b[49m\u001b[43m]\u001b[49m\u001b[43m)\u001b[49m\n\u001b[0;32m     23\u001b[0m \u001b[38;5;66;03m# Flatten the list of lemmatized tokens to count word frequencies\u001b[39;00m\n\u001b[0;32m     24\u001b[0m all_words \u001b[38;5;241m=\u001b[39m [word \u001b[38;5;28;01mfor\u001b[39;00m sublist \u001b[38;5;129;01min\u001b[39;00m df[\u001b[38;5;124m'\u001b[39m\u001b[38;5;124mspacy_lemmatized_tokens_2\u001b[39m\u001b[38;5;124m'\u001b[39m] \u001b[38;5;28;01mfor\u001b[39;00m word \u001b[38;5;129;01min\u001b[39;00m sublist]\n",
            "File \u001b[1;32mc:\\Users\\Chummy\\AppData\\Local\\Programs\\Python\\Python39\\lib\\site-packages\\tqdm\\std.py:917\u001b[0m, in \u001b[0;36mtqdm.pandas.<locals>.inner_generator.<locals>.inner\u001b[1;34m(df, func, *args, **kwargs)\u001b[0m\n\u001b[0;32m    914\u001b[0m \u001b[38;5;66;03m# Apply the provided function (in **kwargs)\u001b[39;00m\n\u001b[0;32m    915\u001b[0m \u001b[38;5;66;03m# on the df using our wrapper (which provides bar updating)\u001b[39;00m\n\u001b[0;32m    916\u001b[0m \u001b[38;5;28;01mtry\u001b[39;00m:\n\u001b[1;32m--> 917\u001b[0m     \u001b[38;5;28;01mreturn\u001b[39;00m \u001b[38;5;28mgetattr\u001b[39m(df, df_function)(wrapper, \u001b[38;5;241m*\u001b[39m\u001b[38;5;241m*\u001b[39mkwargs)\n\u001b[0;32m    918\u001b[0m \u001b[38;5;28;01mfinally\u001b[39;00m:\n\u001b[0;32m    919\u001b[0m     t\u001b[38;5;241m.\u001b[39mclose()\n",
            "File \u001b[1;32mc:\\Users\\Chummy\\AppData\\Local\\Programs\\Python\\Python39\\lib\\site-packages\\pandas\\core\\series.py:4917\u001b[0m, in \u001b[0;36mSeries.apply\u001b[1;34m(self, func, convert_dtype, args, by_row, **kwargs)\u001b[0m\n\u001b[0;32m   4789\u001b[0m \u001b[38;5;28;01mdef\u001b[39;00m \u001b[38;5;21mapply\u001b[39m(\n\u001b[0;32m   4790\u001b[0m     \u001b[38;5;28mself\u001b[39m,\n\u001b[0;32m   4791\u001b[0m     func: AggFuncType,\n\u001b[1;32m   (...)\u001b[0m\n\u001b[0;32m   4796\u001b[0m     \u001b[38;5;241m*\u001b[39m\u001b[38;5;241m*\u001b[39mkwargs,\n\u001b[0;32m   4797\u001b[0m ) \u001b[38;5;241m-\u001b[39m\u001b[38;5;241m>\u001b[39m DataFrame \u001b[38;5;241m|\u001b[39m Series:\n\u001b[0;32m   4798\u001b[0m \u001b[38;5;250m    \u001b[39m\u001b[38;5;124;03m\"\"\"\u001b[39;00m\n\u001b[0;32m   4799\u001b[0m \u001b[38;5;124;03m    Invoke function on values of Series.\u001b[39;00m\n\u001b[0;32m   4800\u001b[0m \n\u001b[1;32m   (...)\u001b[0m\n\u001b[0;32m   4915\u001b[0m \u001b[38;5;124;03m    dtype: float64\u001b[39;00m\n\u001b[0;32m   4916\u001b[0m \u001b[38;5;124;03m    \"\"\"\u001b[39;00m\n\u001b[1;32m-> 4917\u001b[0m     \u001b[38;5;28;01mreturn\u001b[39;00m \u001b[43mSeriesApply\u001b[49m\u001b[43m(\u001b[49m\n\u001b[0;32m   4918\u001b[0m \u001b[43m        \u001b[49m\u001b[38;5;28;43mself\u001b[39;49m\u001b[43m,\u001b[49m\n\u001b[0;32m   4919\u001b[0m \u001b[43m        \u001b[49m\u001b[43mfunc\u001b[49m\u001b[43m,\u001b[49m\n\u001b[0;32m   4920\u001b[0m \u001b[43m        \u001b[49m\u001b[43mconvert_dtype\u001b[49m\u001b[38;5;241;43m=\u001b[39;49m\u001b[43mconvert_dtype\u001b[49m\u001b[43m,\u001b[49m\n\u001b[0;32m   4921\u001b[0m \u001b[43m        \u001b[49m\u001b[43mby_row\u001b[49m\u001b[38;5;241;43m=\u001b[39;49m\u001b[43mby_row\u001b[49m\u001b[43m,\u001b[49m\n\u001b[0;32m   4922\u001b[0m \u001b[43m        \u001b[49m\u001b[43margs\u001b[49m\u001b[38;5;241;43m=\u001b[39;49m\u001b[43margs\u001b[49m\u001b[43m,\u001b[49m\n\u001b[0;32m   4923\u001b[0m \u001b[43m        \u001b[49m\u001b[43mkwargs\u001b[49m\u001b[38;5;241;43m=\u001b[39;49m\u001b[43mkwargs\u001b[49m\u001b[43m,\u001b[49m\n\u001b[0;32m   4924\u001b[0m \u001b[43m    \u001b[49m\u001b[43m)\u001b[49m\u001b[38;5;241;43m.\u001b[39;49m\u001b[43mapply\u001b[49m\u001b[43m(\u001b[49m\u001b[43m)\u001b[49m\n",
            "File \u001b[1;32mc:\\Users\\Chummy\\AppData\\Local\\Programs\\Python\\Python39\\lib\\site-packages\\pandas\\core\\apply.py:1427\u001b[0m, in \u001b[0;36mSeriesApply.apply\u001b[1;34m(self)\u001b[0m\n\u001b[0;32m   1424\u001b[0m     \u001b[38;5;28;01mreturn\u001b[39;00m \u001b[38;5;28mself\u001b[39m\u001b[38;5;241m.\u001b[39mapply_compat()\n\u001b[0;32m   1426\u001b[0m \u001b[38;5;66;03m# self.func is Callable\u001b[39;00m\n\u001b[1;32m-> 1427\u001b[0m \u001b[38;5;28;01mreturn\u001b[39;00m \u001b[38;5;28;43mself\u001b[39;49m\u001b[38;5;241;43m.\u001b[39;49m\u001b[43mapply_standard\u001b[49m\u001b[43m(\u001b[49m\u001b[43m)\u001b[49m\n",
            "File \u001b[1;32mc:\\Users\\Chummy\\AppData\\Local\\Programs\\Python\\Python39\\lib\\site-packages\\pandas\\core\\apply.py:1507\u001b[0m, in \u001b[0;36mSeriesApply.apply_standard\u001b[1;34m(self)\u001b[0m\n\u001b[0;32m   1501\u001b[0m \u001b[38;5;66;03m# row-wise access\u001b[39;00m\n\u001b[0;32m   1502\u001b[0m \u001b[38;5;66;03m# apply doesn't have a `na_action` keyword and for backward compat reasons\u001b[39;00m\n\u001b[0;32m   1503\u001b[0m \u001b[38;5;66;03m# we need to give `na_action=\"ignore\"` for categorical data.\u001b[39;00m\n\u001b[0;32m   1504\u001b[0m \u001b[38;5;66;03m# TODO: remove the `na_action=\"ignore\"` when that default has been changed in\u001b[39;00m\n\u001b[0;32m   1505\u001b[0m \u001b[38;5;66;03m#  Categorical (GH51645).\u001b[39;00m\n\u001b[0;32m   1506\u001b[0m action \u001b[38;5;241m=\u001b[39m \u001b[38;5;124m\"\u001b[39m\u001b[38;5;124mignore\u001b[39m\u001b[38;5;124m\"\u001b[39m \u001b[38;5;28;01mif\u001b[39;00m \u001b[38;5;28misinstance\u001b[39m(obj\u001b[38;5;241m.\u001b[39mdtype, CategoricalDtype) \u001b[38;5;28;01melse\u001b[39;00m \u001b[38;5;28;01mNone\u001b[39;00m\n\u001b[1;32m-> 1507\u001b[0m mapped \u001b[38;5;241m=\u001b[39m \u001b[43mobj\u001b[49m\u001b[38;5;241;43m.\u001b[39;49m\u001b[43m_map_values\u001b[49m\u001b[43m(\u001b[49m\n\u001b[0;32m   1508\u001b[0m \u001b[43m    \u001b[49m\u001b[43mmapper\u001b[49m\u001b[38;5;241;43m=\u001b[39;49m\u001b[43mcurried\u001b[49m\u001b[43m,\u001b[49m\u001b[43m \u001b[49m\u001b[43mna_action\u001b[49m\u001b[38;5;241;43m=\u001b[39;49m\u001b[43maction\u001b[49m\u001b[43m,\u001b[49m\u001b[43m \u001b[49m\u001b[43mconvert\u001b[49m\u001b[38;5;241;43m=\u001b[39;49m\u001b[38;5;28;43mself\u001b[39;49m\u001b[38;5;241;43m.\u001b[39;49m\u001b[43mconvert_dtype\u001b[49m\n\u001b[0;32m   1509\u001b[0m \u001b[43m\u001b[49m\u001b[43m)\u001b[49m\n\u001b[0;32m   1511\u001b[0m \u001b[38;5;28;01mif\u001b[39;00m \u001b[38;5;28mlen\u001b[39m(mapped) \u001b[38;5;129;01mand\u001b[39;00m \u001b[38;5;28misinstance\u001b[39m(mapped[\u001b[38;5;241m0\u001b[39m], ABCSeries):\n\u001b[0;32m   1512\u001b[0m     \u001b[38;5;66;03m# GH#43986 Need to do list(mapped) in order to get treated as nested\u001b[39;00m\n\u001b[0;32m   1513\u001b[0m     \u001b[38;5;66;03m#  See also GH#25959 regarding EA support\u001b[39;00m\n\u001b[0;32m   1514\u001b[0m     \u001b[38;5;28;01mreturn\u001b[39;00m obj\u001b[38;5;241m.\u001b[39m_constructor_expanddim(\u001b[38;5;28mlist\u001b[39m(mapped), index\u001b[38;5;241m=\u001b[39mobj\u001b[38;5;241m.\u001b[39mindex)\n",
            "File \u001b[1;32mc:\\Users\\Chummy\\AppData\\Local\\Programs\\Python\\Python39\\lib\\site-packages\\pandas\\core\\base.py:921\u001b[0m, in \u001b[0;36mIndexOpsMixin._map_values\u001b[1;34m(self, mapper, na_action, convert)\u001b[0m\n\u001b[0;32m    918\u001b[0m \u001b[38;5;28;01mif\u001b[39;00m \u001b[38;5;28misinstance\u001b[39m(arr, ExtensionArray):\n\u001b[0;32m    919\u001b[0m     \u001b[38;5;28;01mreturn\u001b[39;00m arr\u001b[38;5;241m.\u001b[39mmap(mapper, na_action\u001b[38;5;241m=\u001b[39mna_action)\n\u001b[1;32m--> 921\u001b[0m \u001b[38;5;28;01mreturn\u001b[39;00m \u001b[43malgorithms\u001b[49m\u001b[38;5;241;43m.\u001b[39;49m\u001b[43mmap_array\u001b[49m\u001b[43m(\u001b[49m\u001b[43marr\u001b[49m\u001b[43m,\u001b[49m\u001b[43m \u001b[49m\u001b[43mmapper\u001b[49m\u001b[43m,\u001b[49m\u001b[43m \u001b[49m\u001b[43mna_action\u001b[49m\u001b[38;5;241;43m=\u001b[39;49m\u001b[43mna_action\u001b[49m\u001b[43m,\u001b[49m\u001b[43m \u001b[49m\u001b[43mconvert\u001b[49m\u001b[38;5;241;43m=\u001b[39;49m\u001b[43mconvert\u001b[49m\u001b[43m)\u001b[49m\n",
            "File \u001b[1;32mc:\\Users\\Chummy\\AppData\\Local\\Programs\\Python\\Python39\\lib\\site-packages\\pandas\\core\\algorithms.py:1743\u001b[0m, in \u001b[0;36mmap_array\u001b[1;34m(arr, mapper, na_action, convert)\u001b[0m\n\u001b[0;32m   1741\u001b[0m values \u001b[38;5;241m=\u001b[39m arr\u001b[38;5;241m.\u001b[39mastype(\u001b[38;5;28mobject\u001b[39m, copy\u001b[38;5;241m=\u001b[39m\u001b[38;5;28;01mFalse\u001b[39;00m)\n\u001b[0;32m   1742\u001b[0m \u001b[38;5;28;01mif\u001b[39;00m na_action \u001b[38;5;129;01mis\u001b[39;00m \u001b[38;5;28;01mNone\u001b[39;00m:\n\u001b[1;32m-> 1743\u001b[0m     \u001b[38;5;28;01mreturn\u001b[39;00m \u001b[43mlib\u001b[49m\u001b[38;5;241;43m.\u001b[39;49m\u001b[43mmap_infer\u001b[49m\u001b[43m(\u001b[49m\u001b[43mvalues\u001b[49m\u001b[43m,\u001b[49m\u001b[43m \u001b[49m\u001b[43mmapper\u001b[49m\u001b[43m,\u001b[49m\u001b[43m \u001b[49m\u001b[43mconvert\u001b[49m\u001b[38;5;241;43m=\u001b[39;49m\u001b[43mconvert\u001b[49m\u001b[43m)\u001b[49m\n\u001b[0;32m   1744\u001b[0m \u001b[38;5;28;01melse\u001b[39;00m:\n\u001b[0;32m   1745\u001b[0m     \u001b[38;5;28;01mreturn\u001b[39;00m lib\u001b[38;5;241m.\u001b[39mmap_infer_mask(\n\u001b[0;32m   1746\u001b[0m         values, mapper, mask\u001b[38;5;241m=\u001b[39misna(values)\u001b[38;5;241m.\u001b[39mview(np\u001b[38;5;241m.\u001b[39muint8), convert\u001b[38;5;241m=\u001b[39mconvert\n\u001b[0;32m   1747\u001b[0m     )\n",
            "File \u001b[1;32mlib.pyx:2972\u001b[0m, in \u001b[0;36mpandas._libs.lib.map_infer\u001b[1;34m()\u001b[0m\n",
            "File \u001b[1;32mc:\\Users\\Chummy\\AppData\\Local\\Programs\\Python\\Python39\\lib\\site-packages\\tqdm\\std.py:912\u001b[0m, in \u001b[0;36mtqdm.pandas.<locals>.inner_generator.<locals>.inner.<locals>.wrapper\u001b[1;34m(*args, **kwargs)\u001b[0m\n\u001b[0;32m    906\u001b[0m \u001b[38;5;28;01mdef\u001b[39;00m \u001b[38;5;21mwrapper\u001b[39m(\u001b[38;5;241m*\u001b[39margs, \u001b[38;5;241m*\u001b[39m\u001b[38;5;241m*\u001b[39mkwargs):\n\u001b[0;32m    907\u001b[0m     \u001b[38;5;66;03m# update tbar correctly\u001b[39;00m\n\u001b[0;32m    908\u001b[0m     \u001b[38;5;66;03m# it seems `pandas apply` calls `func` twice\u001b[39;00m\n\u001b[0;32m    909\u001b[0m     \u001b[38;5;66;03m# on the first column/row to decide whether it can\u001b[39;00m\n\u001b[0;32m    910\u001b[0m     \u001b[38;5;66;03m# take a fast or slow code path; so stop when t.total==t.n\u001b[39;00m\n\u001b[0;32m    911\u001b[0m     t\u001b[38;5;241m.\u001b[39mupdate(n\u001b[38;5;241m=\u001b[39m\u001b[38;5;241m1\u001b[39m \u001b[38;5;28;01mif\u001b[39;00m \u001b[38;5;129;01mnot\u001b[39;00m t\u001b[38;5;241m.\u001b[39mtotal \u001b[38;5;129;01mor\u001b[39;00m t\u001b[38;5;241m.\u001b[39mn \u001b[38;5;241m<\u001b[39m t\u001b[38;5;241m.\u001b[39mtotal \u001b[38;5;28;01melse\u001b[39;00m \u001b[38;5;241m0\u001b[39m)\n\u001b[1;32m--> 912\u001b[0m     \u001b[38;5;28;01mreturn\u001b[39;00m func(\u001b[38;5;241m*\u001b[39margs, \u001b[38;5;241m*\u001b[39m\u001b[38;5;241m*\u001b[39mkwargs)\n",
            "Cell \u001b[1;32mIn[3], line 21\u001b[0m, in \u001b[0;36m<lambda>\u001b[1;34m(x)\u001b[0m\n\u001b[0;32m     19\u001b[0m \u001b[38;5;66;03m# Initialize tqdm with total number of rows\u001b[39;00m\n\u001b[0;32m     20\u001b[0m tqdm\u001b[38;5;241m.\u001b[39mpandas(desc\u001b[38;5;241m=\u001b[39m\u001b[38;5;124m\"\u001b[39m\u001b[38;5;124mLemmatizing Comments\u001b[39m\u001b[38;5;124m\"\u001b[39m)\n\u001b[1;32m---> 21\u001b[0m df[\u001b[38;5;124m'\u001b[39m\u001b[38;5;124mspacy_lemmatized_tokens_2\u001b[39m\u001b[38;5;124m'\u001b[39m] \u001b[38;5;241m=\u001b[39m df[\u001b[38;5;124m'\u001b[39m\u001b[38;5;124mComment Text\u001b[39m\u001b[38;5;124m'\u001b[39m]\u001b[38;5;241m.\u001b[39mprogress_apply(\u001b[38;5;28;01mlambda\u001b[39;00m x: [token\u001b[38;5;241m.\u001b[39mlemma_ \u001b[38;5;28;01mfor\u001b[39;00m token \u001b[38;5;129;01min\u001b[39;00m \u001b[43mnlp\u001b[49m\u001b[43m(\u001b[49m\u001b[43mx\u001b[49m\u001b[43m)\u001b[49m])\n\u001b[0;32m     23\u001b[0m \u001b[38;5;66;03m# Flatten the list of lemmatized tokens to count word frequencies\u001b[39;00m\n\u001b[0;32m     24\u001b[0m all_words \u001b[38;5;241m=\u001b[39m [word \u001b[38;5;28;01mfor\u001b[39;00m sublist \u001b[38;5;129;01min\u001b[39;00m df[\u001b[38;5;124m'\u001b[39m\u001b[38;5;124mspacy_lemmatized_tokens_2\u001b[39m\u001b[38;5;124m'\u001b[39m] \u001b[38;5;28;01mfor\u001b[39;00m word \u001b[38;5;129;01min\u001b[39;00m sublist]\n",
            "File \u001b[1;32mc:\\Users\\Chummy\\AppData\\Local\\Programs\\Python\\Python39\\lib\\site-packages\\spacy\\language.py:1049\u001b[0m, in \u001b[0;36mLanguage.__call__\u001b[1;34m(self, text, disable, component_cfg)\u001b[0m\n\u001b[0;32m   1047\u001b[0m     error_handler \u001b[38;5;241m=\u001b[39m proc\u001b[38;5;241m.\u001b[39mget_error_handler()\n\u001b[0;32m   1048\u001b[0m \u001b[38;5;28;01mtry\u001b[39;00m:\n\u001b[1;32m-> 1049\u001b[0m     doc \u001b[38;5;241m=\u001b[39m proc(doc, \u001b[38;5;241m*\u001b[39m\u001b[38;5;241m*\u001b[39mcomponent_cfg\u001b[38;5;241m.\u001b[39mget(name, {}))  \u001b[38;5;66;03m# type: ignore[call-arg]\u001b[39;00m\n\u001b[0;32m   1050\u001b[0m \u001b[38;5;28;01mexcept\u001b[39;00m \u001b[38;5;167;01mKeyError\u001b[39;00m \u001b[38;5;28;01mas\u001b[39;00m e:\n\u001b[0;32m   1051\u001b[0m     \u001b[38;5;66;03m# This typically happens if a component is not initialized\u001b[39;00m\n\u001b[0;32m   1052\u001b[0m     \u001b[38;5;28;01mraise\u001b[39;00m \u001b[38;5;167;01mValueError\u001b[39;00m(Errors\u001b[38;5;241m.\u001b[39mE109\u001b[38;5;241m.\u001b[39mformat(name\u001b[38;5;241m=\u001b[39mname)) \u001b[38;5;28;01mfrom\u001b[39;00m \u001b[38;5;21;01me\u001b[39;00m\n",
            "File \u001b[1;32mc:\\Users\\Chummy\\AppData\\Local\\Programs\\Python\\Python39\\lib\\site-packages\\spacy\\pipeline\\trainable_pipe.pyx:52\u001b[0m, in \u001b[0;36mspacy.pipeline.trainable_pipe.TrainablePipe.__call__\u001b[1;34m()\u001b[0m\n",
            "File \u001b[1;32mc:\\Users\\Chummy\\AppData\\Local\\Programs\\Python\\Python39\\lib\\site-packages\\spacy\\pipeline\\transition_parser.pyx:264\u001b[0m, in \u001b[0;36mspacy.pipeline.transition_parser.Parser.predict\u001b[1;34m()\u001b[0m\n",
            "File \u001b[1;32mc:\\Users\\Chummy\\AppData\\Local\\Programs\\Python\\Python39\\lib\\site-packages\\spacy\\pipeline\\transition_parser.pyx:285\u001b[0m, in \u001b[0;36mspacy.pipeline.transition_parser.Parser.greedy_parse\u001b[1;34m()\u001b[0m\n",
            "File \u001b[1;32mc:\\Users\\Chummy\\AppData\\Local\\Programs\\Python\\Python39\\lib\\site-packages\\thinc\\model.py:334\u001b[0m, in \u001b[0;36mModel.predict\u001b[1;34m(self, X)\u001b[0m\n\u001b[0;32m    330\u001b[0m \u001b[38;5;28;01mdef\u001b[39;00m \u001b[38;5;21mpredict\u001b[39m(\u001b[38;5;28mself\u001b[39m, X: InT) \u001b[38;5;241m-\u001b[39m\u001b[38;5;241m>\u001b[39m OutT:\n\u001b[0;32m    331\u001b[0m \u001b[38;5;250m    \u001b[39m\u001b[38;5;124;03m\"\"\"Call the model's `forward` function with `is_train=False`, and return\u001b[39;00m\n\u001b[0;32m    332\u001b[0m \u001b[38;5;124;03m    only the output, instead of the `(output, callback)` tuple.\u001b[39;00m\n\u001b[0;32m    333\u001b[0m \u001b[38;5;124;03m    \"\"\"\u001b[39;00m\n\u001b[1;32m--> 334\u001b[0m     \u001b[38;5;28;01mreturn\u001b[39;00m \u001b[38;5;28;43mself\u001b[39;49m\u001b[38;5;241;43m.\u001b[39;49m\u001b[43m_func\u001b[49m\u001b[43m(\u001b[49m\u001b[38;5;28;43mself\u001b[39;49m\u001b[43m,\u001b[49m\u001b[43m \u001b[49m\u001b[43mX\u001b[49m\u001b[43m,\u001b[49m\u001b[43m \u001b[49m\u001b[43mis_train\u001b[49m\u001b[38;5;241;43m=\u001b[39;49m\u001b[38;5;28;43;01mFalse\u001b[39;49;00m\u001b[43m)\u001b[49m[\u001b[38;5;241m0\u001b[39m]\n",
            "File \u001b[1;32mc:\\Users\\Chummy\\AppData\\Local\\Programs\\Python\\Python39\\lib\\site-packages\\spacy\\ml\\tb_framework.py:34\u001b[0m, in \u001b[0;36mforward\u001b[1;34m(model, X, is_train)\u001b[0m\n\u001b[0;32m     33\u001b[0m \u001b[38;5;28;01mdef\u001b[39;00m \u001b[38;5;21mforward\u001b[39m(model, X, is_train):\n\u001b[1;32m---> 34\u001b[0m     step_model \u001b[38;5;241m=\u001b[39m \u001b[43mParserStepModel\u001b[49m\u001b[43m(\u001b[49m\n\u001b[0;32m     35\u001b[0m \u001b[43m        \u001b[49m\u001b[43mX\u001b[49m\u001b[43m,\u001b[49m\n\u001b[0;32m     36\u001b[0m \u001b[43m        \u001b[49m\u001b[43mmodel\u001b[49m\u001b[38;5;241;43m.\u001b[39;49m\u001b[43mlayers\u001b[49m\u001b[43m,\u001b[49m\n\u001b[0;32m     37\u001b[0m \u001b[43m        \u001b[49m\u001b[43munseen_classes\u001b[49m\u001b[38;5;241;43m=\u001b[39;49m\u001b[43mmodel\u001b[49m\u001b[38;5;241;43m.\u001b[39;49m\u001b[43mattrs\u001b[49m\u001b[43m[\u001b[49m\u001b[38;5;124;43m\"\u001b[39;49m\u001b[38;5;124;43munseen_classes\u001b[39;49m\u001b[38;5;124;43m\"\u001b[39;49m\u001b[43m]\u001b[49m\u001b[43m,\u001b[49m\n\u001b[0;32m     38\u001b[0m \u001b[43m        \u001b[49m\u001b[43mtrain\u001b[49m\u001b[38;5;241;43m=\u001b[39;49m\u001b[43mis_train\u001b[49m\u001b[43m,\u001b[49m\n\u001b[0;32m     39\u001b[0m \u001b[43m        \u001b[49m\u001b[43mhas_upper\u001b[49m\u001b[38;5;241;43m=\u001b[39;49m\u001b[43mmodel\u001b[49m\u001b[38;5;241;43m.\u001b[39;49m\u001b[43mattrs\u001b[49m\u001b[43m[\u001b[49m\u001b[38;5;124;43m\"\u001b[39;49m\u001b[38;5;124;43mhas_upper\u001b[39;49m\u001b[38;5;124;43m\"\u001b[39;49m\u001b[43m]\u001b[49m\u001b[43m,\u001b[49m\n\u001b[0;32m     40\u001b[0m \u001b[43m    \u001b[49m\u001b[43m)\u001b[49m\n\u001b[0;32m     42\u001b[0m     \u001b[38;5;28;01mreturn\u001b[39;00m step_model, step_model\u001b[38;5;241m.\u001b[39mfinish_steps\n",
            "File \u001b[1;32mc:\\Users\\Chummy\\AppData\\Local\\Programs\\Python\\Python39\\lib\\site-packages\\spacy\\ml\\parser_model.pyx:250\u001b[0m, in \u001b[0;36mspacy.ml.parser_model.ParserStepModel.__init__\u001b[1;34m()\u001b[0m\n",
            "File \u001b[1;32mc:\\Users\\Chummy\\AppData\\Local\\Programs\\Python\\Python39\\lib\\site-packages\\thinc\\model.py:310\u001b[0m, in \u001b[0;36mModel.__call__\u001b[1;34m(self, X, is_train)\u001b[0m\n\u001b[0;32m    307\u001b[0m \u001b[38;5;28;01mdef\u001b[39;00m \u001b[38;5;21m__call__\u001b[39m(\u001b[38;5;28mself\u001b[39m, X: InT, is_train: \u001b[38;5;28mbool\u001b[39m) \u001b[38;5;241m-\u001b[39m\u001b[38;5;241m>\u001b[39m Tuple[OutT, Callable]:\n\u001b[0;32m    308\u001b[0m \u001b[38;5;250m    \u001b[39m\u001b[38;5;124;03m\"\"\"Call the model's `forward` function, returning the output and a\u001b[39;00m\n\u001b[0;32m    309\u001b[0m \u001b[38;5;124;03m    callback to compute the gradients via backpropagation.\"\"\"\u001b[39;00m\n\u001b[1;32m--> 310\u001b[0m     \u001b[38;5;28;01mreturn\u001b[39;00m \u001b[38;5;28;43mself\u001b[39;49m\u001b[38;5;241;43m.\u001b[39;49m\u001b[43m_func\u001b[49m\u001b[43m(\u001b[49m\u001b[38;5;28;43mself\u001b[39;49m\u001b[43m,\u001b[49m\u001b[43m \u001b[49m\u001b[43mX\u001b[49m\u001b[43m,\u001b[49m\u001b[43m \u001b[49m\u001b[43mis_train\u001b[49m\u001b[38;5;241;43m=\u001b[39;49m\u001b[43mis_train\u001b[49m\u001b[43m)\u001b[49m\n",
            "File \u001b[1;32mc:\\Users\\Chummy\\AppData\\Local\\Programs\\Python\\Python39\\lib\\site-packages\\thinc\\layers\\chain.py:54\u001b[0m, in \u001b[0;36mforward\u001b[1;34m(model, X, is_train)\u001b[0m\n\u001b[0;32m     52\u001b[0m callbacks \u001b[38;5;241m=\u001b[39m []\n\u001b[0;32m     53\u001b[0m \u001b[38;5;28;01mfor\u001b[39;00m layer \u001b[38;5;129;01min\u001b[39;00m model\u001b[38;5;241m.\u001b[39mlayers:\n\u001b[1;32m---> 54\u001b[0m     Y, inc_layer_grad \u001b[38;5;241m=\u001b[39m \u001b[43mlayer\u001b[49m\u001b[43m(\u001b[49m\u001b[43mX\u001b[49m\u001b[43m,\u001b[49m\u001b[43m \u001b[49m\u001b[43mis_train\u001b[49m\u001b[38;5;241;43m=\u001b[39;49m\u001b[43mis_train\u001b[49m\u001b[43m)\u001b[49m\n\u001b[0;32m     55\u001b[0m     callbacks\u001b[38;5;241m.\u001b[39mappend(inc_layer_grad)\n\u001b[0;32m     56\u001b[0m     X \u001b[38;5;241m=\u001b[39m Y\n",
            "File \u001b[1;32mc:\\Users\\Chummy\\AppData\\Local\\Programs\\Python\\Python39\\lib\\site-packages\\thinc\\model.py:310\u001b[0m, in \u001b[0;36mModel.__call__\u001b[1;34m(self, X, is_train)\u001b[0m\n\u001b[0;32m    307\u001b[0m \u001b[38;5;28;01mdef\u001b[39;00m \u001b[38;5;21m__call__\u001b[39m(\u001b[38;5;28mself\u001b[39m, X: InT, is_train: \u001b[38;5;28mbool\u001b[39m) \u001b[38;5;241m-\u001b[39m\u001b[38;5;241m>\u001b[39m Tuple[OutT, Callable]:\n\u001b[0;32m    308\u001b[0m \u001b[38;5;250m    \u001b[39m\u001b[38;5;124;03m\"\"\"Call the model's `forward` function, returning the output and a\u001b[39;00m\n\u001b[0;32m    309\u001b[0m \u001b[38;5;124;03m    callback to compute the gradients via backpropagation.\"\"\"\u001b[39;00m\n\u001b[1;32m--> 310\u001b[0m     \u001b[38;5;28;01mreturn\u001b[39;00m \u001b[38;5;28;43mself\u001b[39;49m\u001b[38;5;241;43m.\u001b[39;49m\u001b[43m_func\u001b[49m\u001b[43m(\u001b[49m\u001b[38;5;28;43mself\u001b[39;49m\u001b[43m,\u001b[49m\u001b[43m \u001b[49m\u001b[43mX\u001b[49m\u001b[43m,\u001b[49m\u001b[43m \u001b[49m\u001b[43mis_train\u001b[49m\u001b[38;5;241;43m=\u001b[39;49m\u001b[43mis_train\u001b[49m\u001b[43m)\u001b[49m\n",
            "File \u001b[1;32mc:\\Users\\Chummy\\AppData\\Local\\Programs\\Python\\Python39\\lib\\site-packages\\thinc\\layers\\chain.py:54\u001b[0m, in \u001b[0;36mforward\u001b[1;34m(model, X, is_train)\u001b[0m\n\u001b[0;32m     52\u001b[0m callbacks \u001b[38;5;241m=\u001b[39m []\n\u001b[0;32m     53\u001b[0m \u001b[38;5;28;01mfor\u001b[39;00m layer \u001b[38;5;129;01min\u001b[39;00m model\u001b[38;5;241m.\u001b[39mlayers:\n\u001b[1;32m---> 54\u001b[0m     Y, inc_layer_grad \u001b[38;5;241m=\u001b[39m \u001b[43mlayer\u001b[49m\u001b[43m(\u001b[49m\u001b[43mX\u001b[49m\u001b[43m,\u001b[49m\u001b[43m \u001b[49m\u001b[43mis_train\u001b[49m\u001b[38;5;241;43m=\u001b[39;49m\u001b[43mis_train\u001b[49m\u001b[43m)\u001b[49m\n\u001b[0;32m     55\u001b[0m     callbacks\u001b[38;5;241m.\u001b[39mappend(inc_layer_grad)\n\u001b[0;32m     56\u001b[0m     X \u001b[38;5;241m=\u001b[39m Y\n",
            "    \u001b[1;31m[... skipping similar frames: Model.__call__ at line 310 (1 times)]\u001b[0m\n",
            "File \u001b[1;32mc:\\Users\\Chummy\\AppData\\Local\\Programs\\Python\\Python39\\lib\\site-packages\\thinc\\layers\\chain.py:54\u001b[0m, in \u001b[0;36mforward\u001b[1;34m(model, X, is_train)\u001b[0m\n\u001b[0;32m     52\u001b[0m callbacks \u001b[38;5;241m=\u001b[39m []\n\u001b[0;32m     53\u001b[0m \u001b[38;5;28;01mfor\u001b[39;00m layer \u001b[38;5;129;01min\u001b[39;00m model\u001b[38;5;241m.\u001b[39mlayers:\n\u001b[1;32m---> 54\u001b[0m     Y, inc_layer_grad \u001b[38;5;241m=\u001b[39m \u001b[43mlayer\u001b[49m\u001b[43m(\u001b[49m\u001b[43mX\u001b[49m\u001b[43m,\u001b[49m\u001b[43m \u001b[49m\u001b[43mis_train\u001b[49m\u001b[38;5;241;43m=\u001b[39;49m\u001b[43mis_train\u001b[49m\u001b[43m)\u001b[49m\n\u001b[0;32m     55\u001b[0m     callbacks\u001b[38;5;241m.\u001b[39mappend(inc_layer_grad)\n\u001b[0;32m     56\u001b[0m     X \u001b[38;5;241m=\u001b[39m Y\n",
            "File \u001b[1;32mc:\\Users\\Chummy\\AppData\\Local\\Programs\\Python\\Python39\\lib\\site-packages\\thinc\\model.py:310\u001b[0m, in \u001b[0;36mModel.__call__\u001b[1;34m(self, X, is_train)\u001b[0m\n\u001b[0;32m    307\u001b[0m \u001b[38;5;28;01mdef\u001b[39;00m \u001b[38;5;21m__call__\u001b[39m(\u001b[38;5;28mself\u001b[39m, X: InT, is_train: \u001b[38;5;28mbool\u001b[39m) \u001b[38;5;241m-\u001b[39m\u001b[38;5;241m>\u001b[39m Tuple[OutT, Callable]:\n\u001b[0;32m    308\u001b[0m \u001b[38;5;250m    \u001b[39m\u001b[38;5;124;03m\"\"\"Call the model's `forward` function, returning the output and a\u001b[39;00m\n\u001b[0;32m    309\u001b[0m \u001b[38;5;124;03m    callback to compute the gradients via backpropagation.\"\"\"\u001b[39;00m\n\u001b[1;32m--> 310\u001b[0m     \u001b[38;5;28;01mreturn\u001b[39;00m \u001b[38;5;28;43mself\u001b[39;49m\u001b[38;5;241;43m.\u001b[39;49m\u001b[43m_func\u001b[49m\u001b[43m(\u001b[49m\u001b[38;5;28;43mself\u001b[39;49m\u001b[43m,\u001b[49m\u001b[43m \u001b[49m\u001b[43mX\u001b[49m\u001b[43m,\u001b[49m\u001b[43m \u001b[49m\u001b[43mis_train\u001b[49m\u001b[38;5;241;43m=\u001b[39;49m\u001b[43mis_train\u001b[49m\u001b[43m)\u001b[49m\n",
            "File \u001b[1;32mc:\\Users\\Chummy\\AppData\\Local\\Programs\\Python\\Python39\\lib\\site-packages\\thinc\\layers\\with_array.py:36\u001b[0m, in \u001b[0;36mforward\u001b[1;34m(model, Xseq, is_train)\u001b[0m\n\u001b[0;32m     32\u001b[0m \u001b[38;5;28;01mdef\u001b[39;00m \u001b[38;5;21mforward\u001b[39m(\n\u001b[0;32m     33\u001b[0m     model: Model[SeqT, SeqT], Xseq: SeqT, is_train: \u001b[38;5;28mbool\u001b[39m\n\u001b[0;32m     34\u001b[0m ) \u001b[38;5;241m-\u001b[39m\u001b[38;5;241m>\u001b[39m Tuple[SeqT, Callable]:\n\u001b[0;32m     35\u001b[0m     \u001b[38;5;28;01mif\u001b[39;00m \u001b[38;5;28misinstance\u001b[39m(Xseq, Ragged):\n\u001b[1;32m---> 36\u001b[0m         \u001b[38;5;28;01mreturn\u001b[39;00m cast(Tuple[SeqT, Callable], \u001b[43m_ragged_forward\u001b[49m\u001b[43m(\u001b[49m\u001b[43mmodel\u001b[49m\u001b[43m,\u001b[49m\u001b[43m \u001b[49m\u001b[43mXseq\u001b[49m\u001b[43m,\u001b[49m\u001b[43m \u001b[49m\u001b[43mis_train\u001b[49m\u001b[43m)\u001b[49m)\n\u001b[0;32m     37\u001b[0m     \u001b[38;5;28;01melif\u001b[39;00m \u001b[38;5;28misinstance\u001b[39m(Xseq, Padded):\n\u001b[0;32m     38\u001b[0m         \u001b[38;5;28;01mreturn\u001b[39;00m cast(Tuple[SeqT, Callable], _padded_forward(model, Xseq, is_train))\n",
            "File \u001b[1;32mc:\\Users\\Chummy\\AppData\\Local\\Programs\\Python\\Python39\\lib\\site-packages\\thinc\\layers\\with_array.py:91\u001b[0m, in \u001b[0;36m_ragged_forward\u001b[1;34m(model, Xr, is_train)\u001b[0m\n\u001b[0;32m     87\u001b[0m \u001b[38;5;28;01mdef\u001b[39;00m \u001b[38;5;21m_ragged_forward\u001b[39m(\n\u001b[0;32m     88\u001b[0m     model: Model[SeqT, SeqT], Xr: Ragged, is_train: \u001b[38;5;28mbool\u001b[39m\n\u001b[0;32m     89\u001b[0m ) \u001b[38;5;241m-\u001b[39m\u001b[38;5;241m>\u001b[39m Tuple[Ragged, Callable]:\n\u001b[0;32m     90\u001b[0m     layer: Model[ArrayXd, ArrayXd] \u001b[38;5;241m=\u001b[39m model\u001b[38;5;241m.\u001b[39mlayers[\u001b[38;5;241m0\u001b[39m]\n\u001b[1;32m---> 91\u001b[0m     Y, get_dX \u001b[38;5;241m=\u001b[39m \u001b[43mlayer\u001b[49m\u001b[43m(\u001b[49m\u001b[43mXr\u001b[49m\u001b[38;5;241;43m.\u001b[39;49m\u001b[43mdataXd\u001b[49m\u001b[43m,\u001b[49m\u001b[43m \u001b[49m\u001b[43mis_train\u001b[49m\u001b[43m)\u001b[49m\n\u001b[0;32m     93\u001b[0m     \u001b[38;5;28;01mdef\u001b[39;00m \u001b[38;5;21mbackprop\u001b[39m(dYr: Ragged) \u001b[38;5;241m-\u001b[39m\u001b[38;5;241m>\u001b[39m Ragged:\n\u001b[0;32m     94\u001b[0m         \u001b[38;5;28;01mreturn\u001b[39;00m Ragged(get_dX(dYr\u001b[38;5;241m.\u001b[39mdataXd), dYr\u001b[38;5;241m.\u001b[39mlengths)\n",
            "File \u001b[1;32mc:\\Users\\Chummy\\AppData\\Local\\Programs\\Python\\Python39\\lib\\site-packages\\thinc\\model.py:310\u001b[0m, in \u001b[0;36mModel.__call__\u001b[1;34m(self, X, is_train)\u001b[0m\n\u001b[0;32m    307\u001b[0m \u001b[38;5;28;01mdef\u001b[39;00m \u001b[38;5;21m__call__\u001b[39m(\u001b[38;5;28mself\u001b[39m, X: InT, is_train: \u001b[38;5;28mbool\u001b[39m) \u001b[38;5;241m-\u001b[39m\u001b[38;5;241m>\u001b[39m Tuple[OutT, Callable]:\n\u001b[0;32m    308\u001b[0m \u001b[38;5;250m    \u001b[39m\u001b[38;5;124;03m\"\"\"Call the model's `forward` function, returning the output and a\u001b[39;00m\n\u001b[0;32m    309\u001b[0m \u001b[38;5;124;03m    callback to compute the gradients via backpropagation.\"\"\"\u001b[39;00m\n\u001b[1;32m--> 310\u001b[0m     \u001b[38;5;28;01mreturn\u001b[39;00m \u001b[38;5;28;43mself\u001b[39;49m\u001b[38;5;241;43m.\u001b[39;49m\u001b[43m_func\u001b[49m\u001b[43m(\u001b[49m\u001b[38;5;28;43mself\u001b[39;49m\u001b[43m,\u001b[49m\u001b[43m \u001b[49m\u001b[43mX\u001b[49m\u001b[43m,\u001b[49m\u001b[43m \u001b[49m\u001b[43mis_train\u001b[49m\u001b[38;5;241;43m=\u001b[39;49m\u001b[43mis_train\u001b[49m\u001b[43m)\u001b[49m\n",
            "File \u001b[1;32mc:\\Users\\Chummy\\AppData\\Local\\Programs\\Python\\Python39\\lib\\site-packages\\thinc\\layers\\chain.py:54\u001b[0m, in \u001b[0;36mforward\u001b[1;34m(model, X, is_train)\u001b[0m\n\u001b[0;32m     52\u001b[0m callbacks \u001b[38;5;241m=\u001b[39m []\n\u001b[0;32m     53\u001b[0m \u001b[38;5;28;01mfor\u001b[39;00m layer \u001b[38;5;129;01min\u001b[39;00m model\u001b[38;5;241m.\u001b[39mlayers:\n\u001b[1;32m---> 54\u001b[0m     Y, inc_layer_grad \u001b[38;5;241m=\u001b[39m \u001b[43mlayer\u001b[49m\u001b[43m(\u001b[49m\u001b[43mX\u001b[49m\u001b[43m,\u001b[49m\u001b[43m \u001b[49m\u001b[43mis_train\u001b[49m\u001b[38;5;241;43m=\u001b[39;49m\u001b[43mis_train\u001b[49m\u001b[43m)\u001b[49m\n\u001b[0;32m     55\u001b[0m     callbacks\u001b[38;5;241m.\u001b[39mappend(inc_layer_grad)\n\u001b[0;32m     56\u001b[0m     X \u001b[38;5;241m=\u001b[39m Y\n",
            "File \u001b[1;32mc:\\Users\\Chummy\\AppData\\Local\\Programs\\Python\\Python39\\lib\\site-packages\\thinc\\model.py:310\u001b[0m, in \u001b[0;36mModel.__call__\u001b[1;34m(self, X, is_train)\u001b[0m\n\u001b[0;32m    307\u001b[0m \u001b[38;5;28;01mdef\u001b[39;00m \u001b[38;5;21m__call__\u001b[39m(\u001b[38;5;28mself\u001b[39m, X: InT, is_train: \u001b[38;5;28mbool\u001b[39m) \u001b[38;5;241m-\u001b[39m\u001b[38;5;241m>\u001b[39m Tuple[OutT, Callable]:\n\u001b[0;32m    308\u001b[0m \u001b[38;5;250m    \u001b[39m\u001b[38;5;124;03m\"\"\"Call the model's `forward` function, returning the output and a\u001b[39;00m\n\u001b[0;32m    309\u001b[0m \u001b[38;5;124;03m    callback to compute the gradients via backpropagation.\"\"\"\u001b[39;00m\n\u001b[1;32m--> 310\u001b[0m     \u001b[38;5;28;01mreturn\u001b[39;00m \u001b[38;5;28;43mself\u001b[39;49m\u001b[38;5;241;43m.\u001b[39;49m\u001b[43m_func\u001b[49m\u001b[43m(\u001b[49m\u001b[38;5;28;43mself\u001b[39;49m\u001b[43m,\u001b[49m\u001b[43m \u001b[49m\u001b[43mX\u001b[49m\u001b[43m,\u001b[49m\u001b[43m \u001b[49m\u001b[43mis_train\u001b[49m\u001b[38;5;241;43m=\u001b[39;49m\u001b[43mis_train\u001b[49m\u001b[43m)\u001b[49m\n",
            "File \u001b[1;32mc:\\Users\\Chummy\\AppData\\Local\\Programs\\Python\\Python39\\lib\\site-packages\\thinc\\layers\\chain.py:54\u001b[0m, in \u001b[0;36mforward\u001b[1;34m(model, X, is_train)\u001b[0m\n\u001b[0;32m     52\u001b[0m callbacks \u001b[38;5;241m=\u001b[39m []\n\u001b[0;32m     53\u001b[0m \u001b[38;5;28;01mfor\u001b[39;00m layer \u001b[38;5;129;01min\u001b[39;00m model\u001b[38;5;241m.\u001b[39mlayers:\n\u001b[1;32m---> 54\u001b[0m     Y, inc_layer_grad \u001b[38;5;241m=\u001b[39m \u001b[43mlayer\u001b[49m\u001b[43m(\u001b[49m\u001b[43mX\u001b[49m\u001b[43m,\u001b[49m\u001b[43m \u001b[49m\u001b[43mis_train\u001b[49m\u001b[38;5;241;43m=\u001b[39;49m\u001b[43mis_train\u001b[49m\u001b[43m)\u001b[49m\n\u001b[0;32m     55\u001b[0m     callbacks\u001b[38;5;241m.\u001b[39mappend(inc_layer_grad)\n\u001b[0;32m     56\u001b[0m     X \u001b[38;5;241m=\u001b[39m Y\n",
            "File \u001b[1;32mc:\\Users\\Chummy\\AppData\\Local\\Programs\\Python\\Python39\\lib\\site-packages\\thinc\\model.py:310\u001b[0m, in \u001b[0;36mModel.__call__\u001b[1;34m(self, X, is_train)\u001b[0m\n\u001b[0;32m    307\u001b[0m \u001b[38;5;28;01mdef\u001b[39;00m \u001b[38;5;21m__call__\u001b[39m(\u001b[38;5;28mself\u001b[39m, X: InT, is_train: \u001b[38;5;28mbool\u001b[39m) \u001b[38;5;241m-\u001b[39m\u001b[38;5;241m>\u001b[39m Tuple[OutT, Callable]:\n\u001b[0;32m    308\u001b[0m \u001b[38;5;250m    \u001b[39m\u001b[38;5;124;03m\"\"\"Call the model's `forward` function, returning the output and a\u001b[39;00m\n\u001b[0;32m    309\u001b[0m \u001b[38;5;124;03m    callback to compute the gradients via backpropagation.\"\"\"\u001b[39;00m\n\u001b[1;32m--> 310\u001b[0m     \u001b[38;5;28;01mreturn\u001b[39;00m \u001b[38;5;28;43mself\u001b[39;49m\u001b[38;5;241;43m.\u001b[39;49m\u001b[43m_func\u001b[49m\u001b[43m(\u001b[49m\u001b[38;5;28;43mself\u001b[39;49m\u001b[43m,\u001b[49m\u001b[43m \u001b[49m\u001b[43mX\u001b[49m\u001b[43m,\u001b[49m\u001b[43m \u001b[49m\u001b[43mis_train\u001b[49m\u001b[38;5;241;43m=\u001b[39;49m\u001b[43mis_train\u001b[49m\u001b[43m)\u001b[49m\n",
            "File \u001b[1;32mc:\\Users\\Chummy\\AppData\\Local\\Programs\\Python\\Python39\\lib\\site-packages\\thinc\\layers\\maxout.py:52\u001b[0m, in \u001b[0;36mforward\u001b[1;34m(model, X, is_train)\u001b[0m\n\u001b[0;32m     50\u001b[0m W \u001b[38;5;241m=\u001b[39m model\u001b[38;5;241m.\u001b[39mget_param(\u001b[38;5;124m\"\u001b[39m\u001b[38;5;124mW\u001b[39m\u001b[38;5;124m\"\u001b[39m)\n\u001b[0;32m     51\u001b[0m W \u001b[38;5;241m=\u001b[39m model\u001b[38;5;241m.\u001b[39mops\u001b[38;5;241m.\u001b[39mreshape2f(W, nO \u001b[38;5;241m*\u001b[39m nP, nI)\n\u001b[1;32m---> 52\u001b[0m Y \u001b[38;5;241m=\u001b[39m \u001b[43mmodel\u001b[49m\u001b[38;5;241;43m.\u001b[39;49m\u001b[43mops\u001b[49m\u001b[38;5;241;43m.\u001b[39;49m\u001b[43mgemm\u001b[49m\u001b[43m(\u001b[49m\u001b[43mX\u001b[49m\u001b[43m,\u001b[49m\u001b[43m \u001b[49m\u001b[43mW\u001b[49m\u001b[43m,\u001b[49m\u001b[43m \u001b[49m\u001b[43mtrans2\u001b[49m\u001b[38;5;241;43m=\u001b[39;49m\u001b[38;5;28;43;01mTrue\u001b[39;49;00m\u001b[43m)\u001b[49m\n\u001b[0;32m     53\u001b[0m Y \u001b[38;5;241m+\u001b[39m\u001b[38;5;241m=\u001b[39m model\u001b[38;5;241m.\u001b[39mops\u001b[38;5;241m.\u001b[39mreshape1f(b, nO \u001b[38;5;241m*\u001b[39m nP)\n\u001b[0;32m     54\u001b[0m Z \u001b[38;5;241m=\u001b[39m model\u001b[38;5;241m.\u001b[39mops\u001b[38;5;241m.\u001b[39mreshape3f(Y, Y\u001b[38;5;241m.\u001b[39mshape[\u001b[38;5;241m0\u001b[39m], nO, nP)\n",
            "\u001b[1;31mKeyboardInterrupt\u001b[0m: "
          ]
        }
      ],
      "source": [
        "import spacy\n",
        "from collections import Counter\n",
        "import pandas as pd\n",
        "import nltk\n",
        "from nltk.tokenize import word_tokenize\n",
        "from nltk.stem import WordNetLemmatizer\n",
        "from tqdm import tqdm  # Import tqdm for progress bar\n",
        "\n",
        "# Download NLTK resources if not already downloaded\n",
        "nltk.download('punkt')\n",
        "nltk.download('wordnet')\n",
        "\n",
        "# Tokenization and Lowercasing\n",
        "df['tokens'] = df['Comment Text'].apply(lambda x: word_tokenize(x.lower()))\n",
        "\n",
        "# Lemmatization with spaCy\n",
        "nlp = spacy.load('en_core_web_sm')\n",
        "\n",
        "# Initialize tqdm with total number of rows\n",
        "tqdm.pandas(desc=\"Lemmatizing Comments\")\n",
        "df['spacy_lemmatized_tokens_2'] = df['Comment Text'].progress_apply(lambda x: [token.lemma_ for token in nlp(x)])\n",
        "\n",
        "# Flatten the list of lemmatized tokens to count word frequencies\n",
        "all_words = [word for sublist in df['spacy_lemmatized_tokens_2'] for word in sublist]\n",
        "\n",
        "# Count the number of words lemmatized\n",
        "num_lemmatized_words = len(all_words)\n",
        "\n",
        "# Count the frequency of each word\n",
        "word_freq = Counter(all_words)\n",
        "\n",
        "# Find the top 10 words with the highest frequency\n",
        "top_10_words = word_freq.most_common(10)\n",
        "\n",
        "# Display the results\n",
        "print(f\"Number of words lemmatized: {num_lemmatized_words}\")\n",
        "print(f\"Top 10 words with highest frequency and their counts:\")\n",
        "for word, freq in top_10_words:\n",
        "    print(f\"{word}: {freq}\")\n",
        "\n",
        "# Display the DataFrame with original text, tokens, and lemmatized tokens\n",
        "print(df[['Comment Text', 'tokens', 'spacy_lemmatized_tokens_2']])\n"
      ]
    },
    {
      "cell_type": "code",
      "execution_count": 4,
      "metadata": {},
      "outputs": [],
      "source": [
        "# Save the labelled DataFrame\n",
        "df.to_csv('ready_to_analyze.csv', index=False)"
      ]
    },
    {
      "cell_type": "code",
      "execution_count": 19,
      "metadata": {},
      "outputs": [],
      "source": [
        "# Load your dataset\n",
        "df = pd.read_csv('ready_to_analyze.csv')"
      ]
    },
    {
      "cell_type": "code",
      "execution_count": 5,
      "metadata": {},
      "outputs": [
        {
          "name": "stdout",
          "output_type": "stream",
          "text": [
            "\n",
            "Summary statistics:\n",
            "                               Comment Text     Source  \\\n",
            "count                                 82512      82512   \n",
            "unique                                82512          3   \n",
            "top     hi recommend skincare acne oil skin  Instagram   \n",
            "freq                                      1      66188   \n",
            "\n",
            "       Normalized Publish Date Sentiment Label  \\\n",
            "count                    82512           82512   \n",
            "unique                    1945               3   \n",
            "top                 05/01/2022             NEU   \n",
            "freq                      1630           55950   \n",
            "\n",
            "                                        lemmatized_tokens  \n",
            "count                                               82512  \n",
            "unique                                              82512  \n",
            "top     ['hi', 'recommend', 'skincare', 'acne', 'oil',...  \n",
            "freq                                                    1  \n"
          ]
        }
      ],
      "source": [
        "# Summary statistics\n",
        "print(\"\\nSummary statistics:\")\n",
        "print(df.describe())"
      ]
    },
    {
      "cell_type": "markdown",
      "metadata": {
        "id": "8dR4TckM9Coo"
      },
      "source": [
        "##**8.1 Product-Related**"
      ]
    },
    {
      "cell_type": "markdown",
      "metadata": {
        "id": "nrq1A178-FW2"
      },
      "source": [
        "###*8.1.1 By Functionality (cleanser, moisturizer, serum, sunscreen, toner, mask, exfoliator)*"
      ]
    },
    {
      "cell_type": "markdown",
      "metadata": {
        "id": "wbt6TC8G-cOJ"
      },
      "source": [
        "#####1. Frequency of each product"
      ]
    },
    {
      "cell_type": "code",
      "execution_count": 12,
      "metadata": {
        "id": "Txy0WVK_-KOT"
      },
      "outputs": [
        {
          "name": "stderr",
          "output_type": "stream",
          "text": [
            "Processing categories: 100%|██████████| 9/9 [00:01<00:00,  7.50it/s]\n"
          ]
        },
        {
          "data": {
            "image/png": "[encoded data removed]",
            "text/plain": [
              "<Figure size 1000x600 with 1 Axes>"
            ]
          },
          "metadata": {},
          "output_type": "display_data"
        }
      ],
      "source": [
        "import pandas as pd\n",
        "import matplotlib.pyplot as plt\n",
        "from tqdm import tqdm\n",
        "\n",
        "# Define product categories and subcategories\n",
        "product_categories = {\n",
        "    'Cleansers': [\n",
        "        'cleanser', 'foam', 'micellar'\n",
        "    ],\n",
        "    'Exfoliants': [\n",
        "        'exfoliant', 'aha', 'bha', 'pha', 'enzyme', 'exfoliating', 'scrub'\n",
        "    ],\n",
        "    'Toners': [\n",
        "        'toner','hydrating', 'essence'\n",
        "    ],\n",
        "    'Serums': [\n",
        "        'serum', 'brightening', 'antioxidant', 'calming'\n",
        "    ],\n",
        "    'Moisturizers': [\n",
        "        'moisturizer', 'lotion', 'ointment', 'hydrating'\n",
        "    ],\n",
        "    'Masks': [\n",
        "        'mask', 'sheet', 'clay', 'peel', 'overnight', 'mud', 'bubble'\n",
        "    ],\n",
        "    'Treatments': [\n",
        "        'treatment', 'spot', 'acne', 'scar', 'retinol', 'peptide', 'dry'\n",
        "    ],\n",
        "    'Sunscreens': [\n",
        "        'sunscreen', 'mineral', 'tinted', 'stick'\n",
        "    ],\n",
        "    'Mists': [\n",
        "        'mist', 'hydrating', 'setting', 'soothing', 'refreshing'\n",
        "    ]\n",
        "}\n",
        "\n",
        "\n",
        "\n",
        "# Initialize an empty list to store the frequency counts\n",
        "frequency_counts = []\n",
        "\n",
        "# Iterate through each product category\n",
        "for category, subcategories in tqdm(product_categories.items(), desc=\"Processing categories\"):\n",
        "    # Count occurrences of each category and subcategory in the 'lemmatized_tokens' column\n",
        "    for subcategory in subcategories:\n",
        "        count = df['lemmatized_tokens'].str.contains(subcategory).sum()\n",
        "        frequency_counts.append([category, subcategory, count])\n",
        "\n",
        "# Create a new DataFrame with the frequency counts\n",
        "df_product_by_function = pd.DataFrame(frequency_counts, columns=['Category', 'Subcategory', 'Frequency'])\n",
        "\n",
        "# Group by Category and sum the frequencies\n",
        "df_summary = df_product_by_function.groupby('Category')['Frequency'].sum().reset_index()\n",
        "\n",
        "# Sort the DataFrame in descending order of Frequency\n",
        "df_summary = df_summary.sort_values(by='Frequency', ascending=False)\n",
        "\n",
        "# Plotting the bar chart\n",
        "plt.figure(figsize=(10, 6))\n",
        "plt.bar(df_summary['Category'], df_summary['Frequency'], color='skyblue')\n",
        "plt.xlabel('Product Category')\n",
        "plt.ylabel('Frequency')\n",
        "plt.title('Frequency of Product Categories')\n",
        "plt.xticks(rotation=45, ha='right')\n",
        "plt.tight_layout()\n",
        "plt.show()\n",
        "\n",
        "# Save the df_product_by_function DataFrame\n",
        "df_product_by_function.to_csv('df_product_by_function_3.csv', index=False)\n"
      ]
    },
    {
      "cell_type": "markdown",
      "metadata": {
        "id": "TaJrGgvh-qsb"
      },
      "source": [
        "#####2. Semantic for each product"
      ]
    },
    {
      "cell_type": "code",
      "execution_count": 13,
      "metadata": {
        "id": "-B63VbKC-w9Q"
      },
      "outputs": [
        {
          "name": "stderr",
          "output_type": "stream",
          "text": [
            "Processing categories: 100%|██████████| 9/9 [00:02<00:00,  3.29it/s]\n"
          ]
        },
        {
          "data": {
            "image/png": "[encoded data removed]",
            "text/plain": [
              "<Figure size 1000x600 with 1 Axes>"
            ]
          },
          "metadata": {},
          "output_type": "display_data"
        },
        {
          "data": {
            "image/png": "[encoded data removed]",
            "text/plain": [
              "<Figure size 1000x600 with 1 Axes>"
            ]
          },
          "metadata": {},
          "output_type": "display_data"
        },
        {
          "data": {
            "image/png": "[encoded data removed]",
            "text/plain": [
              "<Figure size 1000x600 with 1 Axes>"
            ]
          },
          "metadata": {},
          "output_type": "display_data"
        }
      ],
      "source": [
        "import pandas as pd\n",
        "import matplotlib.pyplot as plt\n",
        "from tqdm import tqdm\n",
        "\n",
        "# Define product categories and subcategories\n",
        "product_categories = {\n",
        "    'Cleansers': ['cleanser', 'foam', 'micellar'],\n",
        "    'Exfoliants': ['exfoliant', 'aha', 'bha', 'pha', 'enzyme', 'exfoliating', 'scrub'],\n",
        "    'Toners': ['toner', 'hydrating', 'essence'],\n",
        "    'Serums': ['serum', 'brightening', 'antioxidant', 'calming'],\n",
        "    'Moisturizers': ['moisturizer', 'lotion', 'ointment', 'hydrating'],\n",
        "    'Masks': ['mask', 'sheet', 'clay', 'peel', 'overnight', 'mud', 'bubble'],\n",
        "    'Treatments': ['treatment', 'spot', 'acne', 'scar', 'retinol', 'peptide', 'dry'],\n",
        "    'Sunscreens': ['sunscreen', 'mineral', 'tinted', 'stick'],\n",
        "    'Mists': ['mist', 'hydrating', 'setting', 'soothing', 'refreshing']\n",
        "}\n",
        "\n",
        "# Initialize an empty list to store the frequency counts\n",
        "frequency_counts = []\n",
        "\n",
        "# Iterate through each product category\n",
        "for category, subcategories in tqdm(product_categories.items(), desc=\"Processing categories\"):\n",
        "    # Count occurrences of each category and subcategory in the 'lemmatized_tokens' column and count sentiment labels\n",
        "    for subcategory in subcategories:\n",
        "        sub_df = df[df['lemmatized_tokens'].str.contains(subcategory, na=False)]\n",
        "        sentiment_counts = sub_df['Sentiment Label'].value_counts().to_dict()\n",
        "        for sentiment, count in sentiment_counts.items():\n",
        "            frequency_counts.append([category, subcategory, sentiment, count])\n",
        "\n",
        "# Create a new DataFrame with the frequency counts\n",
        "df_product_by_function = pd.DataFrame(frequency_counts, columns=['Category', 'Subcategory', 'Sentiment', 'Frequency'])\n",
        "\n",
        "# Group by Category and sum the frequencies\n",
        "df_summary = df_product_by_function.groupby(['Category', 'Sentiment'])['Frequency'].sum().reset_index()\n",
        "\n",
        "# Sort the DataFrame in descending order of Frequency within each Category\n",
        "df_summary = df_summary.sort_values(by=['Category', 'Frequency'], ascending=[True, False])\n",
        "\n",
        "# Plotting the bar chart for each sentiment\n",
        "for sentiment in df_summary['Sentiment'].unique():\n",
        "    sentiment_data = df_summary[df_summary['Sentiment'] == sentiment]\n",
        "    plt.figure(figsize=(10, 6))\n",
        "    plt.bar(sentiment_data['Category'], sentiment_data['Frequency'], color='skyblue')\n",
        "    plt.xlabel('Product Category')\n",
        "    plt.ylabel('Frequency')\n",
        "    plt.title(f'Frequency of Product Categories with {sentiment} Sentiment')\n",
        "    plt.xticks(rotation=45, ha='right')\n",
        "    plt.tight_layout()\n",
        "    plt.show()\n",
        "\n",
        "# Save the df_product_by_function DataFrame\n",
        "df_product_by_function.to_csv('df_product_by_function_sentiment_1.csv', index=False)\n"
      ]
    },
    {
      "cell_type": "code",
      "execution_count": 14,
      "metadata": {},
      "outputs": [
        {
          "name": "stderr",
          "output_type": "stream",
          "text": [
            "Processing categories: 100%|██████████| 9/9 [00:02<00:00,  3.46it/s]\n"
          ]
        },
        {
          "data": {
            "image/png": "[encoded data removed]",
            "text/plain": [
              "<Figure size 1200x800 with 1 Axes>"
            ]
          },
          "metadata": {},
          "output_type": "display_data"
        }
      ],
      "source": [
        "import pandas as pd\n",
        "import matplotlib.pyplot as plt\n",
        "from tqdm import tqdm\n",
        "\n",
        "# Define product categories and subcategories\n",
        "product_categories = {\n",
        "    'Cleansers': ['cleanser', 'foam', 'micellar'],\n",
        "    'Exfoliants': ['exfoliant', 'aha', 'bha', 'pha', 'enzyme', 'exfoliating', 'scrub'],\n",
        "    'Toners': ['toner', 'hydrating', 'essence'],\n",
        "    'Serums': ['serum', 'brightening', 'antioxidant', 'calming'],\n",
        "    'Moisturizers': ['moisturizer', 'lotion', 'ointment', 'hydrating'],\n",
        "    'Masks': ['mask', 'sheet', 'clay', 'peel', 'overnight', 'mud', 'bubble'],\n",
        "    'Treatments': ['treatment', 'spot', 'acne', 'scar', 'retinol', 'peptide', 'dry'],\n",
        "    'Sunscreens': ['sunscreen', 'mineral', 'tinted', 'stick'],\n",
        "    'Mists': ['mist', 'hydrating', 'setting', 'soothing', 'refreshing']\n",
        "}\n",
        "\n",
        "# Initialize an empty list to store the frequency counts\n",
        "frequency_counts = []\n",
        "\n",
        "# Iterate through each product category\n",
        "for category, subcategories in tqdm(product_categories.items(), desc=\"Processing categories\"):\n",
        "    # Count occurrences of each category and subcategory in the 'lemmatized_tokens' column and count sentiment labels\n",
        "    for subcategory in subcategories:\n",
        "        sub_df = df[df['lemmatized_tokens'].str.contains(subcategory, na=False)]\n",
        "        sentiment_counts = sub_df['Sentiment Label'].value_counts().to_dict()\n",
        "        for sentiment, count in sentiment_counts.items():\n",
        "            frequency_counts.append([category, subcategory, sentiment, count])\n",
        "\n",
        "# Create a new DataFrame with the frequency counts\n",
        "df_product_by_function = pd.DataFrame(frequency_counts, columns=['Category', 'Subcategory', 'Sentiment', 'Frequency'])\n",
        "\n",
        "# Group by Category and Sentiment and sum the frequencies\n",
        "df_summary = df_product_by_function.groupby(['Category', 'Sentiment'])['Frequency'].sum().reset_index()\n",
        "\n",
        "# Pivot the data for plotting\n",
        "df_pivot = df_summary.pivot(index='Category', columns='Sentiment', values='Frequency').fillna(0)\n",
        "\n",
        "# Plotting the grouped bar chart\n",
        "df_pivot.plot(kind='bar', figsize=(12, 8), color=['red', 'green', 'blue'])\n",
        "plt.xlabel('Product Category')\n",
        "plt.ylabel('Frequency')\n",
        "plt.title('Frequency of Product Categories by Sentiment')\n",
        "plt.xticks(rotation=45, ha='right')\n",
        "plt.legend(title='Sentiment')\n",
        "plt.tight_layout()\n",
        "plt.show()\n",
        "\n",
        "# Save the df_product_by_function DataFrame\n",
        "df_product_by_function.to_csv('df_product_by_function_sentiment_2.csv', index=False)\n"
      ]
    },
    {
      "cell_type": "code",
      "execution_count": 17,
      "metadata": {},
      "outputs": [
        {
          "name": "stderr",
          "output_type": "stream",
          "text": [
            "Processing categories: 100%|██████████| 9/9 [00:01<00:00,  6.95it/s]\n"
          ]
        },
        {
          "data": {
            "image/png": "[encoded data removed]",
            "text/plain": [
              "<Figure size 1200x800 with 1 Axes>"
            ]
          },
          "metadata": {},
          "output_type": "display_data"
        }
      ],
      "source": [
        "import pandas as pd\n",
        "import matplotlib.pyplot as plt\n",
        "from tqdm import tqdm\n",
        "\n",
        "# Define product categories and subcategories\n",
        "product_categories = {\n",
        "    'Cleansers': ['cleanser', 'foam', 'micellar'],\n",
        "    'Exfoliants': ['exfoliant', 'aha', 'bha', 'pha', 'enzyme', 'exfoliating', 'scrub'],\n",
        "    'Toners': ['toner', 'hydrating', 'essence'],\n",
        "    'Serums': ['serum', 'brightening', 'antioxidant', 'calming'],\n",
        "    'Moisturizers': ['moisturizer', 'lotion', 'ointment', 'hydrating'],\n",
        "    'Masks': ['mask', 'sheet', 'clay', 'peel', 'overnight', 'mud', 'bubble'],\n",
        "    'Treatments': ['treatment', 'spot', 'acne', 'scar', 'retinol', 'peptide', 'dry'],\n",
        "    'Sunscreens': ['sunscreen', 'mineral', 'tinted', 'stick'],\n",
        "    'Mists': ['mist', 'hydrating', 'setting', 'soothing', 'refreshing']\n",
        "}\n",
        "\n",
        "# Initialize an empty list to store the frequency counts\n",
        "frequency_counts = []\n",
        "\n",
        "# Iterate through each product category\n",
        "for category, subcategories in tqdm(product_categories.items(), desc=\"Processing categories\"):\n",
        "    # Count occurrences of each category and subcategory in the 'lemmatized_tokens' column and count sentiment labels\n",
        "    for subcategory in subcategories:\n",
        "        sub_df = df[df['lemmatized_tokens'].str.contains(subcategory, na=False)]\n",
        "        sentiment_counts = sub_df['Sentiment Label'].value_counts().to_dict()\n",
        "        for sentiment, count in sentiment_counts.items():\n",
        "            frequency_counts.append([category, subcategory, sentiment, count])\n",
        "\n",
        "# Create a new DataFrame with the frequency counts\n",
        "df_product_by_function = pd.DataFrame(frequency_counts, columns=['Category', 'Subcategory', 'Sentiment', 'Frequency'])\n",
        "\n",
        "# Group by Category and Sentiment and sum the frequencies\n",
        "df_summary = df_product_by_function.groupby(['Category', 'Sentiment'])['Frequency'].sum().reset_index()\n",
        "\n",
        "# Pivot the data for plotting, including only NEG and POS sentiments\n",
        "df_pivot = df_summary.pivot(index='Category', columns='Sentiment', values='Frequency').fillna(0)\n",
        "\n",
        "# Calculate the total frequencies for each category\n",
        "df_pivot['Total'] = df_pivot.sum(axis=1)\n",
        "\n",
        "# Calculate the percentage for NEG and POS sentiments\n",
        "df_pivot['NEG'] = (df_pivot['NEG'] / df_pivot['Total']) * 100\n",
        "df_pivot['POS'] = (df_pivot['POS'] / df_pivot['Total']) * 100\n",
        "\n",
        "# Drop the 'Total' column as it is no longer needed for plotting\n",
        "df_pivot = df_pivot[['NEG', 'POS']]\n",
        "\n",
        "# Plotting the grouped bar chart\n",
        "df_pivot.plot(kind='bar', figsize=(12, 8), color=['red', 'green'])\n",
        "plt.xlabel('Product Category')\n",
        "plt.ylabel('Percentage')\n",
        "plt.title('Percentage of Product Categories by Sentiment (NEG and POS)')\n",
        "plt.xticks(rotation=45, ha='right')\n",
        "plt.legend(title='Sentiment')\n",
        "plt.tight_layout()\n",
        "plt.show()\n"
      ]
    },
    {
      "cell_type": "markdown",
      "metadata": {
        "id": "fJO0RwNU-xbd"
      },
      "source": [
        "#####3. Co-occurrence (Association)"
      ]
    },
    {
      "cell_type": "code",
      "execution_count": 20,
      "metadata": {
        "id": "6O-2MFyv_Ss9"
      },
      "outputs": [
        {
          "name": "stderr",
          "output_type": "stream",
          "text": [
            "Processing categories:   0%|          | 0/9 [00:00<?, ?it/s]"
          ]
        },
        {
          "name": "stderr",
          "output_type": "stream",
          "text": [
            "Processing categories: 100%|██████████| 9/9 [00:02<00:00,  4.46it/s]\n"
          ]
        },
        {
          "data": {
            "text/plain": [
              "{'Cleansers': [('e', 16962), ('a', 11876), ('i', 10251)],\n",
              " 'Exfoliants': [('a', 75741), ('e', 65202), ('i', 52110)],\n",
              " 'Toners': [('e', 11362), ('a', 8398), ('i', 8175)],\n",
              " 'Serums': [('e', 69359), ('i', 52010), ('a', 51322)],\n",
              " 'Moisturizers': [('e', 19319), ('i', 16990), ('a', 14031)],\n",
              " 'Masks': [('e', 11807), ('a', 10566), ('i', 7387)],\n",
              " 'Treatments': [('e', 117558), ('a', 89331), ('i', 81088)],\n",
              " 'Sunscreens': [('e', 38642), ('s', 26266), ('n', 25494)],\n",
              " 'Mists': [('e', 1404), ('a', 1095), ('i', 987)]}"
            ]
          },
          "execution_count": 20,
          "metadata": {},
          "output_type": "execute_result"
        }
      ],
      "source": [
        "import pandas as pd\n",
        "from tqdm import tqdm\n",
        "from collections import Counter\n",
        "import string\n",
        "\n",
        "# Define product categories and subcategories\n",
        "product_categories = {\n",
        "    'Cleansers': ['cleanser', 'foam', 'micellar'],\n",
        "    'Exfoliants': ['exfoliant', 'aha', 'bha', 'pha', 'enzyme', 'exfoliating', 'scrub'],\n",
        "    'Toners': ['toner', 'hydrating', 'essence'],\n",
        "    'Serums': ['serum', 'brightening', 'antioxidant', 'calming'],\n",
        "    'Moisturizers': ['moisturizer', 'lotion', 'ointment', 'hydrating'],\n",
        "    'Masks': ['mask', 'sheet', 'clay', 'peel', 'overnight', 'mud', 'bubble'],\n",
        "    'Treatments': ['treatment', 'spot', 'acne', 'scar', 'retinol', 'peptide', 'dry'],\n",
        "    'Sunscreens': ['sunscreen', 'mineral', 'tinted', 'stick'],\n",
        "    'Mists': ['mist', 'hydrating', 'setting', 'soothing', 'refreshing']\n",
        "}\n",
        "\n",
        "# Function to find co-occurrences\n",
        "def find_cooccurrences(df, keywords):\n",
        "    cooccurrences = Counter()\n",
        "    for tokens in df['lemmatized_tokens']:\n",
        "        for keyword in keywords:\n",
        "            if keyword in tokens:\n",
        "                filtered_tokens = [token for token in tokens if token.isalpha()]\n",
        "                cooccurrences.update(filtered_tokens)\n",
        "                cooccurrences[keyword] -= 1  # Remove the count of the keyword itself\n",
        "    return cooccurrences\n",
        "\n",
        "# Perform co-occurrence analysis\n",
        "cooccurrence_results = {}\n",
        "\n",
        "for category, keywords in tqdm(product_categories.items(), desc=\"Processing categories\"):\n",
        "    cooccurrences = find_cooccurrences(df, keywords)\n",
        "    top_cooccurrences = cooccurrences.most_common(3)\n",
        "    cooccurrence_results[category] = top_cooccurrences\n",
        "\n",
        "# Display the results\n",
        "cooccurrence_results\n"
      ]
    },
    {
      "cell_type": "code",
      "execution_count": 21,
      "metadata": {},
      "outputs": [
        {
          "name": "stderr",
          "output_type": "stream",
          "text": [
            "Processing categories: 100%|██████████| 9/9 [00:16<00:00,  1.81s/it]\n"
          ]
        },
        {
          "data": {
            "text/plain": [
              "{'Cleansers': [['use', 597], ['skin', 551], ['solution', 379]],\n",
              " 'Exfoliants': [['use', 1824], ['skin', 1175], ['acid', 1152]],\n",
              " 'Toners': [['use', 746], ['skin', 384], ['acid', 381]],\n",
              " 'Serums': [['use', 3991], ['skin', 2438], ['acid', 1910]],\n",
              " 'Moisturizers': [['use', 1030], ['skin', 806], ['body', 463]],\n",
              " 'Masks': [['use', 585], ['aha', 352], ['bha', 318]],\n",
              " 'Treatments': [['skin', 6479], ['use', 5290], ['serum', 3064]],\n",
              " 'Sunscreens': [['please', 824], ['use', 807], ['hey', 802]],\n",
              " 'Mists': [['skin', 20], ['toner', 12], ['love', 11]]}"
            ]
          },
          "execution_count": 21,
          "metadata": {},
          "output_type": "execute_result"
        }
      ],
      "source": [
        "import pandas as pd\n",
        "from tqdm import tqdm\n",
        "from collections import Counter\n",
        "\n",
        "# Define product categories and subcategories\n",
        "product_categories = {\n",
        "    'Cleansers': ['cleanser', 'foam', 'micellar'],\n",
        "    'Exfoliants': ['exfoliant', 'aha', 'bha', 'pha', 'enzyme', 'exfoliating', 'scrub'],\n",
        "    'Toners': ['toner', 'hydrating', 'essence'],\n",
        "    'Serums': ['serum', 'brightening', 'antioxidant', 'calming'],\n",
        "    'Moisturizers': ['moisturizer', 'lotion', 'ointment', 'hydrating'],\n",
        "    'Masks': ['mask', 'sheet', 'clay', 'peel', 'overnight', 'mud', 'bubble'],\n",
        "    'Treatments': ['treatment', 'spot', 'acne', 'scar', 'retinol', 'peptide', 'dry'],\n",
        "    'Sunscreens': ['sunscreen', 'mineral', 'tinted', 'stick'],\n",
        "    'Mists': ['mist', 'hydrating', 'setting', 'soothing', 'refreshing']\n",
        "}\n",
        "\n",
        "# Function to find co-occurrences\n",
        "def find_cooccurrences(df, keywords):\n",
        "    cooccurrences = Counter()\n",
        "    for tokens in df['lemmatized_tokens']:\n",
        "        tokens_list = eval(tokens)  # Convert string representation of list back to list\n",
        "        for keyword in keywords:\n",
        "            if keyword in tokens_list:\n",
        "                filtered_tokens = [token for token in tokens_list if token.isalpha() and token != keyword]\n",
        "                cooccurrences.update(filtered_tokens)\n",
        "    return cooccurrences\n",
        "\n",
        "# Perform co-occurrence analysis\n",
        "cooccurrence_results = {}\n",
        "\n",
        "for category, keywords in tqdm(product_categories.items(), desc=\"Processing categories\"):\n",
        "    cooccurrences = find_cooccurrences(df, keywords)\n",
        "    top_cooccurrences = cooccurrences.most_common(3)\n",
        "    cooccurrence_results[category] = top_cooccurrences\n",
        "\n",
        "# Display the results in the desired format\n",
        "formatted_results = {}\n",
        "for category, cooccurrences in cooccurrence_results.items():\n",
        "    formatted_results[category] = [[item[0], item[1]] for item in cooccurrences]\n",
        "\n",
        "formatted_results\n"
      ]
    },
    {
      "cell_type": "markdown",
      "metadata": {},
      "source": [
        "#####4. TF-IDF"
      ]
    },
    {
      "cell_type": "code",
      "execution_count": 11,
      "metadata": {},
      "outputs": [
        {
          "name": "stderr",
          "output_type": "stream",
          "text": [
            "Calculating TF-IDF:  22%|██▏       | 2/9 [00:00<00:01,  6.54it/s]"
          ]
        },
        {
          "name": "stdout",
          "output_type": "stream",
          "text": [
            "Cleansers: ['cleanser', 'use', 'skin', 'solution', 'salicylic']\n",
            "Exfoliants: ['use', 'alpha', 'arbutin', 'acid', 'serum']\n",
            "Toners: ['toner', 'use', 'acid', 'skin', 'serum']\n"
          ]
        },
        {
          "name": "stderr",
          "output_type": "stream",
          "text": [
            "Calculating TF-IDF:  67%|██████▋   | 6/9 [00:00<00:00,  8.60it/s]"
          ]
        },
        {
          "name": "stdout",
          "output_type": "stream",
          "text": [
            "Serums: ['serum', 'use', 'skin', 'acid', 'niacinamide']\n",
            "Moisturizers: ['moisturizer', 'use', 'skin', 'body', 'lotion']\n",
            "Masks: ['use', 'peel', 'aha', 'mask', 'bha']\n"
          ]
        },
        {
          "name": "stderr",
          "output_type": "stream",
          "text": [
            "Calculating TF-IDF: 100%|██████████| 9/9 [00:01<00:00,  7.19it/s]"
          ]
        },
        {
          "name": "stdout",
          "output_type": "stream",
          "text": [
            "Treatments: ['acne', 'skin', 'use', 'serum', 'retinol']\n",
            "Sunscreens: ['sunscreen', 'please', 'stick', 'use', 'hey']\n",
            "Mists: ['mist', 'product', 'skin', 'available', 'hey']\n"
          ]
        },
        {
          "name": "stderr",
          "output_type": "stream",
          "text": [
            "\n"
          ]
        }
      ],
      "source": [
        "import pandas as pd\n",
        "from sklearn.feature_extraction.text import TfidfVectorizer\n",
        "from tqdm import tqdm\n",
        "\n",
        "# Define product categories and subcategories\n",
        "product_categories = {\n",
        "    'Cleansers': ['cleanser', 'foam', 'micellar'],\n",
        "    'Exfoliants': ['exfoliant', 'aha', 'bha', 'pha', 'enzyme', 'exfoliating', 'scrub'],\n",
        "    'Toners': ['toner', 'hydrating', 'essence'],\n",
        "    'Serums': ['serum', 'brightening', 'antioxidant', 'calming'],\n",
        "    'Moisturizers': ['moisturizer', 'lotion', 'ointment', 'hydrating'],\n",
        "    'Masks': ['mask', 'sheet', 'clay', 'peel', 'overnight', 'mud', 'bubble'],\n",
        "    'Treatments': ['treatment', 'spot', 'acne', 'scar', 'retinol', 'peptide', 'dry'],\n",
        "    'Sunscreens': ['sunscreen', 'mineral', 'tinted', 'stick'],\n",
        "    'Mists': ['mist', 'hydrating', 'setting', 'soothing', 'refreshing']\n",
        "}\n",
        "\n",
        "# Function to categorize the tokens\n",
        "def categorize_tokens(tokens):\n",
        "    categories = []\n",
        "    for category, subcategories in product_categories.items():\n",
        "        if any(subcategory in tokens for subcategory in subcategories):\n",
        "            categories.append(category)\n",
        "    return categories\n",
        "\n",
        "# Apply the categorize_tokens function to each row in the 'lemmatized_tokens' column\n",
        "df['product_categories'] = df['lemmatized_tokens'].apply(categorize_tokens)\n",
        "\n",
        "# Function to calculate and print top 5 TF-IDF scores for a given category\n",
        "def print_top_tfidf_scores(category):\n",
        "    # Filter the DataFrame for rows that contain the given category\n",
        "    category_df = df[df['product_categories'].apply(lambda x: category in x)]\n",
        "    \n",
        "    # Join the lemmatized tokens for TF-IDF calculation\n",
        "    documents = category_df['lemmatized_tokens'].apply(lambda x: ' '.join(eval(x)) if isinstance(x, str) else ' '.join(x))\n",
        "    \n",
        "    if len(documents) > 0:\n",
        "        # Initialize a TF-IDF vectorizer\n",
        "        tfidf_vectorizer = TfidfVectorizer()\n",
        "        \n",
        "        # Fit the TF-IDF vectorizer and transform the documents\n",
        "        tfidf_matrix = tfidf_vectorizer.fit_transform(documents)\n",
        "        \n",
        "        # Get the feature names (terms)\n",
        "        feature_names = tfidf_vectorizer.get_feature_names_out()\n",
        "        \n",
        "        # Calculate the average TF-IDF score for each term\n",
        "        tfidf_scores = tfidf_matrix.mean(axis=0).A1\n",
        "        tfidf_scores = dict(zip(feature_names, tfidf_scores))\n",
        "        \n",
        "        # Sort the terms by their TF-IDF score in descending order and get the top 5\n",
        "        sorted_terms = sorted(tfidf_scores.items(), key=lambda item: item[1], reverse=True)[:5]\n",
        "        top_terms = [term for term, score in sorted_terms]\n",
        "        \n",
        "        # Print the top 5 terms for the category\n",
        "        print(f\"{category}: {top_terms}\")\n",
        "    else:\n",
        "        print(f\"{category}: No data available\")\n",
        "\n",
        "# Calculate and print top 5 TF-IDF scores for each category with a progress bar\n",
        "for category in tqdm(product_categories.keys(), desc=\"Calculating TF-IDF\"):\n",
        "    print_top_tfidf_scores(category)\n",
        "\n",
        "# Save the updated DataFrame with product categories\n",
        "df.to_csv('df_with_product_categories.csv', index=False)\n"
      ]
    },
    {
      "cell_type": "code",
      "execution_count": 13,
      "metadata": {},
      "outputs": [
        {
          "name": "stderr",
          "output_type": "stream",
          "text": [
            "Calculating TF-IDF:   0%|          | 0/9 [00:00<?, ?it/s]"
          ]
        },
        {
          "name": "stdout",
          "output_type": "stream",
          "text": [
            "Cleansers: [('use', 0.06), ('skin', 0.05), ('solution', 0.04), ('salicylic', 0.04), ('serum', 0.03), ('acne', 0.03), ('eucerin', 0.03), ('acid', 0.03), ('hey', 0.03), ('pore', 0.03)]\n"
          ]
        },
        {
          "name": "stderr",
          "output_type": "stream",
          "text": [
            "Calculating TF-IDF:  22%|██▏       | 2/9 [00:00<00:01,  5.60it/s]"
          ]
        },
        {
          "name": "stdout",
          "output_type": "stream",
          "text": [
            "Exfoliants: [('use', 0.05), ('alpha', 0.05), ('arbutin', 0.05), ('acid', 0.03), ('serum', 0.03), ('skin', 0.03), ('hey', 0.03), ('matahari', 0.02), ('skinhealth', 0.02), ('cetaphil5soss', 0.02)]\n",
            "Toners: [('use', 0.08), ('acid', 0.05), ('skin', 0.05), ('serum', 0.04), ('pha', 0.04), ('beminimalist', 0.03), ('please', 0.03), ('niacinamide', 0.03), ('hey', 0.03), ('salicylic', 0.02)]\n"
          ]
        },
        {
          "name": "stderr",
          "output_type": "stream",
          "text": [
            "Calculating TF-IDF:  56%|█████▌    | 5/9 [00:00<00:00,  5.75it/s]"
          ]
        },
        {
          "name": "stdout",
          "output_type": "stream",
          "text": [
            "Serums: [('use', 0.06), ('skin', 0.04), ('acid', 0.04), ('niacinamide', 0.03), ('vitamin', 0.03), ('acne', 0.03), ('salicylic', 0.03), ('beminimalist', 0.03), ('please', 0.02), ('hey', 0.02)]\n",
            "Moisturizers: [('use', 0.06), ('skin', 0.04), ('body', 0.04), ('serum', 0.03), ('acid', 0.03), ('hey', 0.03), ('apply', 0.03), ('please', 0.03), ('vitamin', 0.02), ('product', 0.02)]\n",
            "Masks: [('use', 0.06), ('aha', 0.04), ('bha', 0.04), ('skin', 0.03), ('acid', 0.03), ('serum', 0.03), ('hair', 0.03), ('hey', 0.03), ('pha', 0.03), ('beminimalist', 0.02)]\n"
          ]
        },
        {
          "name": "stderr",
          "output_type": "stream",
          "text": [
            "Calculating TF-IDF: 100%|██████████| 9/9 [00:01<00:00,  6.05it/s]"
          ]
        },
        {
          "name": "stdout",
          "output_type": "stream",
          "text": [
            "Treatments: [('skin', 0.06), ('use', 0.05), ('serum', 0.04), ('acid', 0.03), ('product', 0.03), ('please', 0.03), ('hey', 0.03), ('beminimalist', 0.02), ('help', 0.02), ('niacinamide', 0.02)]\n",
            "Sunscreens: [('please', 0.04), ('use', 0.03), ('hey', 0.03), ('skin', 0.03), ('launch', 0.03), ('beminimalist', 0.03), ('spf', 0.02), ('wait', 0.02), ('product', 0.02), ('soon', 0.02)]\n",
            "Mists: [('product', 0.03), ('skin', 0.03), ('available', 0.03), ('hey', 0.03), ('mistake', 0.03), ('please', 0.03), ('use', 0.03), ('order', 0.03), ('face', 0.02), ('toner', 0.02)]\n"
          ]
        },
        {
          "name": "stderr",
          "output_type": "stream",
          "text": [
            "\n"
          ]
        }
      ],
      "source": [
        "import pandas as pd\n",
        "from sklearn.feature_extraction.text import TfidfVectorizer\n",
        "from tqdm import tqdm\n",
        "\n",
        "# Define product categories and subcategories\n",
        "product_categories = {\n",
        "    'Cleansers': ['cleanser', 'foam', 'micellar'],\n",
        "    'Exfoliants': ['exfoliant', 'aha', 'bha', 'pha', 'enzyme', 'exfoliating', 'scrub'],\n",
        "    'Toners': ['toner', 'hydrating', 'essence'],\n",
        "    'Serums': ['serum', 'brightening', 'antioxidant', 'calming'],\n",
        "    'Moisturizers': ['moisturizer', 'lotion', 'ointment', 'hydrating'],\n",
        "    'Masks': ['mask', 'sheet', 'clay', 'peel', 'overnight', 'mud', 'bubble'],\n",
        "    'Treatments': ['treatment', 'spot', 'acne', 'scar', 'retinol', 'peptide', 'dry'],\n",
        "    'Sunscreens': ['sunscreen', 'mineral', 'tinted', 'stick'],\n",
        "    'Mists': ['mist', 'hydrating', 'setting', 'soothing', 'refreshing']\n",
        "}\n",
        "\n",
        "# Function to categorize the tokens\n",
        "def categorize_tokens(tokens):\n",
        "    categories = []\n",
        "    for category, subcategories in product_categories.items():\n",
        "        if any(subcategory in tokens for subcategory in subcategories):\n",
        "            categories.append(category)\n",
        "    return categories\n",
        "\n",
        "# Apply the categorize_tokens function to each row in the 'lemmatized_tokens' column\n",
        "df['product_categories'] = df['lemmatized_tokens'].apply(categorize_tokens)\n",
        "\n",
        "# Function to calculate and print top 10 TF-IDF scores for a given category\n",
        "def print_top_tfidf_scores(category):\n",
        "    # Filter the DataFrame for rows that contain the given category\n",
        "    category_df = df[df['product_categories'].apply(lambda x: category in x)]\n",
        "    \n",
        "    # Join the lemmatized tokens for TF-IDF calculation\n",
        "    documents = category_df['lemmatized_tokens'].apply(lambda x: ' '.join(eval(x)) if isinstance(x, str) else ' '.join(x))\n",
        "    \n",
        "    if len(documents) > 0:\n",
        "        # Initialize a TF-IDF vectorizer\n",
        "        tfidf_vectorizer = TfidfVectorizer()\n",
        "        \n",
        "        # Fit the TF-IDF vectorizer and transform the documents\n",
        "        tfidf_matrix = tfidf_vectorizer.fit_transform(documents)\n",
        "        \n",
        "        # Get the feature names (terms)\n",
        "        feature_names = tfidf_vectorizer.get_feature_names_out()\n",
        "        \n",
        "        # Calculate the average TF-IDF score for each term\n",
        "        tfidf_scores = tfidf_matrix.mean(axis=0).A1\n",
        "        tfidf_scores = dict(zip(feature_names, tfidf_scores))\n",
        "        \n",
        "        # Sort the terms by their TF-IDF score in descending order and get the top 10\n",
        "        sorted_terms = sorted(tfidf_scores.items(), key=lambda item: item[1], reverse=True)\n",
        "        top_terms = [(term, round(score, 2)) for term, score in sorted_terms if term not in product_categories[category]][:10]\n",
        "        \n",
        "        # Print the top 10 terms with their TF-IDF scores for the category\n",
        "        print(f\"{category}: {top_terms}\")\n",
        "    else:\n",
        "        print(f\"{category}: No data available\")\n",
        "\n",
        "\n",
        "# Calculate and print top 10 TF-IDF scores for each category with a progress bar\n",
        "for category in tqdm(product_categories.keys(), desc=\"Calculating TF-IDF\"):\n",
        "    print_top_tfidf_scores(category)\n",
        "\n",
        "# Save the updated DataFrame with product categories\n",
        "df.to_csv('df_with_product_categories.csv', index=False)\n"
      ]
    },
    {
      "cell_type": "markdown",
      "metadata": {},
      "source": []
    },
    {
      "cell_type": "code",
      "execution_count": null,
      "metadata": {},
      "outputs": [],
      "source": []
    },
    {
      "cell_type": "code",
      "execution_count": null,
      "metadata": {},
      "outputs": [],
      "source": []
    },
    {
      "cell_type": "markdown",
      "metadata": {
        "id": "0tLWuy8i-K-b"
      },
      "source": [
        "###*8.1.2 By Target Area (Face, Body, Hands and Feet, Lips)*"
      ]
    },
    {
      "cell_type": "markdown",
      "metadata": {
        "id": "EylWDfUh_kMm"
      },
      "source": [
        "#####1. Frequency of the each area"
      ]
    },
    {
      "cell_type": "code",
      "execution_count": null,
      "metadata": {
        "id": "ur8tqX-E-NAZ"
      },
      "outputs": [],
      "source": []
    },
    {
      "cell_type": "markdown",
      "metadata": {
        "id": "7xa63kEm_rVe"
      },
      "source": [
        "#####2. Co-occurrence (Association)"
      ]
    },
    {
      "cell_type": "code",
      "execution_count": null,
      "metadata": {
        "id": "L2OhTXIU_vFc"
      },
      "outputs": [],
      "source": []
    },
    {
      "cell_type": "markdown",
      "metadata": {
        "id": "mUmXsRtD-NXM"
      },
      "source": [
        "###*8.1.3 By Ingredient Type (Natural and Organic, Chemical-Based, Halal, Vegan, Fragrance-Free, Alcohol-Free)*"
      ]
    },
    {
      "cell_type": "markdown",
      "metadata": {
        "id": "6cTYyvRoDth2"
      },
      "source": [
        "#####1. Frequency of Ingredient Type"
      ]
    },
    {
      "cell_type": "code",
      "execution_count": null,
      "metadata": {
        "id": "aUGvlyev7tFg"
      },
      "outputs": [],
      "source": []
    },
    {
      "cell_type": "markdown",
      "metadata": {
        "id": "q_FEy-OGD0jy"
      },
      "source": [
        "#####2. Semantic for each Ingredient Type"
      ]
    },
    {
      "cell_type": "code",
      "execution_count": null,
      "metadata": {
        "id": "pror9rBPD30K"
      },
      "outputs": [],
      "source": []
    },
    {
      "cell_type": "markdown",
      "metadata": {
        "id": "nlNMCaPGD4W5"
      },
      "source": [
        "#####3. Co-occurrence (Association)"
      ]
    },
    {
      "cell_type": "code",
      "execution_count": null,
      "metadata": {
        "id": "urD98NSwD_E3"
      },
      "outputs": [],
      "source": []
    },
    {
      "cell_type": "markdown",
      "metadata": {
        "id": "iOhcHkOu9O-D"
      },
      "source": [
        "##**8.2 Branding & Customer Service**"
      ]
    },
    {
      "cell_type": "markdown",
      "metadata": {},
      "source": [
        "###*8.2.1 Feedback*"
      ]
    },
    {
      "cell_type": "code",
      "execution_count": null,
      "metadata": {
        "id": "GXseTzyP9VtR"
      },
      "outputs": [],
      "source": []
    },
    {
      "cell_type": "markdown",
      "metadata": {},
      "source": [
        "###*8.2.2 Policies*"
      ]
    },
    {
      "cell_type": "markdown",
      "metadata": {},
      "source": [
        "#####1. Frequency of the Policy-related words"
      ]
    },
    {
      "cell_type": "code",
      "execution_count": 26,
      "metadata": {},
      "outputs": [
        {
          "name": "stderr",
          "output_type": "stream",
          "text": [
            "Processing categories: 100%|██████████| 4/4 [00:00<00:00, 11.37it/s]\n"
          ]
        },
        {
          "data": {
            "image/png": "[encoded data removed]",
            "text/plain": [
              "<Figure size 1000x600 with 1 Axes>"
            ]
          },
          "metadata": {},
          "output_type": "display_data"
        }
      ],
      "source": [
        "import pandas as pd\n",
        "import matplotlib.pyplot as plt\n",
        "from tqdm import tqdm\n",
        "\n",
        "# Define product categories and subcategories\n",
        "policy_keywords = {\n",
        "    'Return': ['return', 'return policy', 'restoration', 'regaining', 'income_tax_return', 'give', 'turn_back', 'take_back', 'rejoin', 'give_back', 'recurrence', 'riposte', 'come_back', 'pass', 'revert', 'return_key', 'bring_back', 'retort', 'reelect', 'restitution', 'regress', 'recall', 'retrovert', 'tax_return'],\n",
        "    'Refund': ['refund', 'refund policy', 'money back', 'repay', 'repayment', 'back','paying_back', 'payoff'],\n",
        "    'Exchange': ['exchange', 'exchange policy', 'commutation', 'rally', 'substitution', 'interchange', 'change', 'replace', 'switch', 'substitute', 'switch_over', 'telephone_exchange', 'convert'],\n",
        "    'Guarantee': ['guarantee', 'warranty', 'warrantee', 'ensure', 'assure', 'secure', 'insure', 'undertake', 'warrant', 'guaranty', 'vouch']\n",
        "}\n",
        "\n",
        "# Initialize an empty list to store the frequency counts\n",
        "frequency_counts = []\n",
        "\n",
        "# Iterate through each product category\n",
        "for category, subcategories in tqdm(policy_keywords.items(), desc=\"Processing categories\"):\n",
        "    # Count occurrences of each category and subcategory in the 'lemmatized_tokens' column\n",
        "    for subcategory in subcategories:\n",
        "        count = df['lemmatized_tokens'].str.contains(subcategory).sum()\n",
        "        frequency_counts.append([category, subcategory, count])\n",
        "\n",
        "# Create a new DataFrame with the frequency counts\n",
        "df_product_by_function = pd.DataFrame(frequency_counts, columns=['Keywords', 'Sub-keywords', 'Frequency'])\n",
        "\n",
        "# Group by Category and sum the frequencies\n",
        "df_summary = df_product_by_function.groupby('Keywords')['Frequency'].sum().reset_index()\n",
        "\n",
        "# Sort the DataFrame in descending order of Frequency\n",
        "df_summary = df_summary.sort_values(by='Frequency', ascending=False)\n",
        "\n",
        "# Plotting the bar chart\n",
        "plt.figure(figsize=(10, 6))\n",
        "plt.bar(df_summary['Keywords'], df_summary['Frequency'], color='skyblue')\n",
        "plt.xlabel('Policies')\n",
        "plt.ylabel('Frequency')\n",
        "plt.title('Frequency of Policies')\n",
        "plt.xticks(rotation=45, ha='right')\n",
        "plt.tight_layout()\n",
        "plt.show()\n",
        "\n",
        "# Save the df_product_by_function DataFrame\n",
        "df_product_by_function.to_csv('df_policies_by_frequency.csv', index=False)\n"
      ]
    },
    {
      "cell_type": "code",
      "execution_count": 32,
      "metadata": {},
      "outputs": [
        {
          "name": "stderr",
          "output_type": "stream",
          "text": [
            "[nltk_data] Downloading package wordnet to\n",
            "[nltk_data]     C:\\Users\\Chummy\\AppData\\Roaming\\nltk_data...\n",
            "[nltk_data]   Package wordnet is already up-to-date!\n",
            "[nltk_data] Downloading package omw-1.4 to\n",
            "[nltk_data]     C:\\Users\\Chummy\\AppData\\Roaming\\nltk_data...\n"
          ]
        },
        {
          "data": {
            "text/plain": [
              "True"
            ]
          },
          "execution_count": 32,
          "metadata": {},
          "output_type": "execute_result"
        }
      ],
      "source": [
        "import nltk\n",
        "nltk.download('wordnet')\n",
        "nltk.download('omw-1.4')"
      ]
    },
    {
      "cell_type": "code",
      "execution_count": 34,
      "metadata": {},
      "outputs": [
        {
          "name": "stdout",
          "output_type": "stream",
          "text": [
            "Synonyms for 'return': {'paying_back', 'restoration', 'render', 'regaining', 'homecoming', 'comeback', 'income_tax_return', 'give', 'turn_back', 'take_back', 'rejoin', 'return', 'give_back', 'deliver', 'recurrence', 'riposte', 'payoff', 'generate', 'come_back', 'pass', 'rejoinder', 'proceeds', 'revert', 'return_key', 'issue', 'bring_back', 'replication', 'devolve', 'counter', 'hark_back', 'reappearance', 'yield', 'takings', 'retort', 'refund', 'reelect', 'restitution', 'take', 'repay', 'getting_even', 'regress', 'recall', 'retrovert', 'coming_back', 'fall', 'tax_return'}\n",
            "Synonyms for 'refund': {'give_back', 'repay', 'repayment', 'refund', 'return'}\n",
            "Synonyms for 'exchange': {'commutation', 'exchange', 'rally', 'commute', 'substitution', 'interchange', 'change', 'replace', 'switch', 'substitute', 'central', 'switch_over', 'telephone_exchange', 'convert'}\n",
            "Synonyms for 'guarantee': {'guarantee', 'warrantee', 'ensure', 'assure', 'secure', 'insure', 'warranty', 'undertake', 'warrant', 'guaranty', 'vouch'}\n"
          ]
        }
      ],
      "source": [
        "from nltk.corpus import wordnet\n",
        "\n",
        "def get_synonyms(word):\n",
        "    synonyms = set()\n",
        "    for syn in wordnet.synsets(word):\n",
        "        for lemma in syn.lemmas():\n",
        "            synonyms.add(lemma.name())\n",
        "    return synonyms\n",
        "\n",
        "# List of words to find synonyms for\n",
        "words = ['return', 'refund', 'exchange', 'guarantee']\n",
        "\n",
        "# Find and print synonyms for each word\n",
        "for word in words:\n",
        "    synonyms = get_synonyms(word)\n",
        "    print(f\"Synonyms for '{word}': {synonyms}\")\n"
      ]
    },
    {
      "cell_type": "code",
      "execution_count": 36,
      "metadata": {},
      "outputs": [
        {
          "name": "stderr",
          "output_type": "stream",
          "text": [
            "Processing categories: 100%|██████████| 4/4 [00:01<00:00,  2.56it/s]\n"
          ]
        },
        {
          "data": {
            "image/png": "[encoded data removed]",
            "text/plain": [
              "<Figure size 1000x600 with 1 Axes>"
            ]
          },
          "metadata": {},
          "output_type": "display_data"
        }
      ],
      "source": [
        "import pandas as pd\n",
        "import matplotlib.pyplot as plt\n",
        "from tqdm import tqdm\n",
        "\n",
        "# Define product categories and subcategories\n",
        "policy_keywords = {\n",
        "    'Return': ['return', 'return policy', 'restoration', 'regaining', 'income_tax_return', 'give', 'turn_back', 'take_back', 'rejoin', 'give_back', 'recurrence', 'riposte', 'come_back', 'pass', 'revert', 'return_key', 'bring_back', 'retort', 'reelect', 'restitution', 'regress', 'recall', 'retrovert', 'tax_return'],\n",
        "    'Refund': ['refund', 'refund policy', 'money back', 'repay', 'repayment', 'back','paying_back', 'payoff'],\n",
        "    'Exchange': ['exchange', 'exchange policy', 'commutation', 'rally', 'substitution', 'interchange', 'change', 'replace', 'switch', 'substitute', 'switch_over', 'telephone_exchange', 'convert'],\n",
        "    'Guarantee': ['guarantee', 'warranty', 'warrantee', 'ensure', 'assure', 'secure', 'insure', 'undertake', 'warrant', 'guaranty', 'vouch']\n",
        "}\n",
        "\n",
        "# Initialize an empty list to store the frequency counts\n",
        "frequency_counts = []\n",
        "\n",
        "# Iterate through each product category\n",
        "for category, subcategories in tqdm(policy_keywords.items(), desc=\"Processing categories\"):\n",
        "    # Count occurrences of each category and subcategory in the 'lemmatized_tokens' column\n",
        "    for subcategory in subcategories:\n",
        "        count = df['lemmatized_tokens'].str.contains(subcategory).sum()\n",
        "        frequency_counts.append([category, subcategory, count])\n",
        "\n",
        "# Create a new DataFrame with the frequency counts\n",
        "df_product_by_function = pd.DataFrame(frequency_counts, columns=['Keywords', 'Sub-keywords', 'Frequency'])\n",
        "\n",
        "# Group by Category and sum the frequencies\n",
        "df_summary = df_product_by_function.groupby('Keywords')['Frequency'].sum().reset_index()\n",
        "\n",
        "# Sort the DataFrame in descending order of Frequency\n",
        "df_summary = df_summary.sort_values(by='Frequency', ascending=False)\n",
        "\n",
        "# Plotting the bar chart\n",
        "plt.figure(figsize=(10, 6))\n",
        "plt.bar(df_summary['Keywords'], df_summary['Frequency'], color='skyblue')\n",
        "plt.xlabel('Policies')\n",
        "plt.ylabel('Frequency')\n",
        "plt.title('Frequency of Policies')\n",
        "plt.xticks(rotation=45, ha='right')\n",
        "plt.tight_layout()\n",
        "plt.show()\n",
        "\n",
        "# Save the df_product_by_function DataFrame\n",
        "df_product_by_function.to_csv('df_policies_by_frequency_2.csv', index=False)\n"
      ]
    },
    {
      "cell_type": "code",
      "execution_count": 23,
      "metadata": {},
      "outputs": [
        {
          "name": "stderr",
          "output_type": "stream",
          "text": [
            "Processing categories: 100%|██████████| 4/4 [00:00<00:00,  4.34it/s]\n"
          ]
        },
        {
          "data": {
            "image/png": "[encoded data removed]",
            "text/plain": [
              "<Figure size 1000x600 with 1 Axes>"
            ]
          },
          "metadata": {},
          "output_type": "display_data"
        }
      ],
      "source": [
        "import pandas as pd\n",
        "import matplotlib.pyplot as plt\n",
        "from tqdm import tqdm\n",
        "\n",
        "# Define product categories and subcategories\n",
        "policy_keywords = {\n",
        "    'Return': ['return', 'give', 'pass', 'revert'],\n",
        "    'Refund': ['refund', 'repay', 'back'],\n",
        "    'Exchange': ['exchange', 'rally', 'change', 'replace', 'switch', 'substitute', 'convert'],\n",
        "    'Guarantee': ['guarantee', 'ensure', 'assure', 'secure', 'vouch']\n",
        "}\n",
        "\n",
        "# Initialize an empty list to store the frequency counts\n",
        "frequency_counts = []\n",
        "\n",
        "# Iterate through each product category\n",
        "for category, subcategories in tqdm(policy_keywords.items(), desc=\"Processing categories\"):\n",
        "    # Count occurrences of each category and subcategory in the 'lemmatized_tokens' column\n",
        "    for subcategory in subcategories:\n",
        "        count = df['lemmatized_tokens'].str.contains(subcategory).sum()\n",
        "        frequency_counts.append([category, subcategory, count])\n",
        "\n",
        "# Create a new DataFrame with the frequency counts\n",
        "df_product_by_function = pd.DataFrame(frequency_counts, columns=['Keywords', 'Sub-keywords', 'Frequency'])\n",
        "\n",
        "# Group by Category and sum the frequencies\n",
        "df_summary = df_product_by_function.groupby('Keywords')['Frequency'].sum().reset_index()\n",
        "\n",
        "# Sort the DataFrame in descending order of Frequency\n",
        "df_summary = df_summary.sort_values(by='Frequency', ascending=False)\n",
        "\n",
        "# Plotting the bar chart\n",
        "plt.figure(figsize=(10, 6))\n",
        "plt.bar(df_summary['Keywords'], df_summary['Frequency'], color='skyblue')\n",
        "plt.xlabel('Policies')\n",
        "plt.ylabel('Frequency')\n",
        "plt.title('Frequency of Policies')\n",
        "plt.xticks(rotation=45, ha='right')\n",
        "plt.tight_layout()\n",
        "plt.show()\n",
        "\n",
        "# Save the df_product_by_function DataFrame\n",
        "df_product_by_function.to_csv('df_policies_by_frequency_3.csv', index=False)\n"
      ]
    },
    {
      "cell_type": "markdown",
      "metadata": {},
      "source": [
        "#####2. Semantic of the Policy-related words"
      ]
    },
    {
      "cell_type": "code",
      "execution_count": null,
      "metadata": {},
      "outputs": [],
      "source": [
        "import pandas as pd\n",
        "import matplotlib.pyplot as plt\n",
        "from tqdm import tqdm\n",
        "\n",
        "# Define product categories and subcategories\n",
        "policy_keywords = {\n",
        "    'Return': ['return', 'give', 'pass', 'revert'],\n",
        "    'Refund': ['refund', 'repay', 'back'],\n",
        "    'Exchange': ['exchange', 'rally', 'change', 'replace', 'switch', 'substitute', 'convert'],\n",
        "    'Guarantee': ['guarantee', 'ensure', 'assure', 'secure', 'vouch']\n",
        "}\n",
        "\n",
        "# Initialize an empty list to store the frequency counts\n",
        "frequency_counts = []\n",
        "\n",
        "# Iterate through each product category\n",
        "for keywords, subkeywords in tqdm(policy_keywords.items(), desc=\"Policy keywords\"):\n",
        "    # Count occurrences of each category and subcategory in the 'lemmatized_tokens' column and count sentiment labels\n",
        "    for subkeyword in subkeywords:\n",
        "        sub_df = df[df['lemmatized_tokens'].str.contains(subkeyword, na=False)]\n",
        "        sentiment_counts = sub_df['Sentiment Label'].value_counts().to_dict()\n",
        "        for sentiment, count in sentiment_counts.items():\n",
        "            frequency_counts.append([keywords, subkeyword, sentiment, count])\n",
        "\n",
        "# Create a new DataFrame with the frequency counts\n",
        "df_product_by_function = pd.DataFrame(frequency_counts, columns=['Keyword', 'Subkeyword', 'Sentiment', 'Frequency'])\n",
        "\n",
        "# Group by Category and Sentiment and sum the frequencies\n",
        "df_summary = df_product_by_function.groupby(['Category', 'Sentiment'])['Frequency'].sum().reset_index()\n",
        "\n",
        "# Pivot the data for plotting\n",
        "df_pivot = df_summary.pivot(index='Category', columns='Sentiment', values='Frequency').fillna(0)\n",
        "\n",
        "# Plotting the grouped bar chart\n",
        "df_pivot.plot(kind='bar', figsize=(12, 8), color=['red', 'green', 'blue'])\n",
        "plt.xlabel('Product Category')\n",
        "plt.ylabel('Frequency')\n",
        "plt.title('Frequency of Product Categories by Sentiment')\n",
        "plt.xticks(rotation=45, ha='right')\n",
        "plt.legend(title='Sentiment')\n",
        "plt.tight_layout()\n",
        "plt.show()\n",
        "\n",
        "# Save the df_product_by_function DataFrame\n",
        "df_product_by_function.to_csv('df_product_by_function_sentiment_2.csv', index=False)"
      ]
    },
    {
      "cell_type": "markdown",
      "metadata": {},
      "source": [
        "#####3. Reason for return/refund"
      ]
    },
    {
      "cell_type": "markdown",
      "metadata": {},
      "source": [
        "Finding the co-occurence of words related to the policy-related keywords"
      ]
    },
    {
      "cell_type": "code",
      "execution_count": 15,
      "metadata": {},
      "outputs": [
        {
          "name": "stderr",
          "output_type": "stream",
          "text": [
            "Policy keywords: 100%|██████████| 4/4 [00:13<00:00,  3.25s/it]\n"
          ]
        },
        {
          "data": {
            "text/plain": [
              "{'Return': [['hey', 2825],\n",
              "  ['dm', 2351],\n",
              "  ['please', 1915],\n",
              "  ['check', 1803],\n",
              "  ['back', 1365],\n",
              "  ['we', 1354],\n",
              "  ['delay', 1243],\n",
              "  ['response', 1158],\n",
              "  ['team', 1129],\n",
              "  ['information', 1079]],\n",
              " 'Refund': [['please', 1840],\n",
              "  ['check', 1655],\n",
              "  ['hey', 1645],\n",
              "  ['revert', 1336],\n",
              "  ['dm', 1330],\n",
              "  ['we', 750],\n",
              "  ['help', 709],\n",
              "  ['team', 656],\n",
              "  ['respond', 626],\n",
              "  ['require', 615]],\n",
              " 'Exchange': [['use', 345],\n",
              "  ['skin', 281],\n",
              "  ['product', 231],\n",
              "  ['acid', 173],\n",
              "  ['serum', 159],\n",
              "  ['hey', 148],\n",
              "  ['please', 137],\n",
              "  ['beminimalist', 110],\n",
              "  ['niacinamide', 109],\n",
              "  ['retinol', 109]],\n",
              " 'Guarantee': [['please', 545],\n",
              "  ['hey', 365],\n",
              "  ['help', 222],\n",
              "  ['we', 221],\n",
              "  ['dm', 205],\n",
              "  ['team', 187],\n",
              "  ['sorry', 182],\n",
              "  ['detail', 171],\n",
              "  ['understand', 170],\n",
              "  ['hear', 166]]}"
            ]
          },
          "execution_count": 15,
          "metadata": {},
          "output_type": "execute_result"
        }
      ],
      "source": [
        "import pandas as pd\n",
        "from tqdm import tqdm\n",
        "from collections import Counter\n",
        "\n",
        "# Define policy categories and subcategories\n",
        "\n",
        "policy_keywords = {\n",
        "    'Return': ['return', 'give', 'pass', 'revert'],\n",
        "    'Refund': ['refund', 'repay', 'back'],\n",
        "    'Exchange': ['exchange', 'rally', 'change', 'replace', 'switch', 'substitute', 'convert'],\n",
        "    'Guarantee': ['guarantee', 'ensure', 'assure', 'secure', 'vouch']\n",
        "}\n",
        "\n",
        "# Function to find co-occurrences\n",
        "def find_cooccurrences(df, keywords):\n",
        "    cooccurrences = Counter()\n",
        "    for tokens in df['lemmatized_tokens']:\n",
        "        tokens_list = eval(tokens)  # Convert string representation of list back to list\n",
        "        for keyword in keywords:\n",
        "            if keyword in tokens_list:\n",
        "                filtered_tokens = [token for token in tokens_list if token.isalpha() and token != keyword]\n",
        "                cooccurrences.update(filtered_tokens)\n",
        "    return cooccurrences\n",
        "\n",
        "# Perform co-occurrence analysis\n",
        "cooccurrence_results = {}\n",
        "\n",
        "for category, keywords in tqdm(policy_keywords.items(), desc=\"Policy keywords\"):\n",
        "    cooccurrences = find_cooccurrences(df, keywords)\n",
        "    top_cooccurrences = cooccurrences.most_common(10)\n",
        "    cooccurrence_results[category] = top_cooccurrences\n",
        "\n",
        "# Display the results in the desired format\n",
        "formatted_results = {}\n",
        "for category, cooccurrences in cooccurrence_results.items():\n",
        "    formatted_results[category] = [[item[0], item[1]] for item in cooccurrences]\n",
        "\n",
        "formatted_results\n"
      ]
    },
    {
      "cell_type": "markdown",
      "metadata": {},
      "source": [
        "Calculate the TF-IDF for words"
      ]
    },
    {
      "cell_type": "code",
      "execution_count": 16,
      "metadata": {},
      "outputs": [
        {
          "name": "stderr",
          "output_type": "stream",
          "text": [
            "Calculating TF-IDF:  25%|██▌       | 1/4 [00:00<00:01,  1.52it/s]"
          ]
        },
        {
          "name": "stdout",
          "output_type": "stream",
          "text": [
            "Return: ['revert', 'hey', 'dm', 'check', 'please']\n"
          ]
        },
        {
          "name": "stderr",
          "output_type": "stream",
          "text": [
            "Calculating TF-IDF:  75%|███████▌  | 3/4 [00:01<00:00,  2.52it/s]"
          ]
        },
        {
          "name": "stdout",
          "output_type": "stream",
          "text": [
            "Refund: ['back', 'please', 'hey', 'check', 'revert']\n",
            "Exchange: ['change', 'use', 'product', 'skin', 'acid']\n"
          ]
        },
        {
          "name": "stderr",
          "output_type": "stream",
          "text": [
            "Calculating TF-IDF: 100%|██████████| 4/4 [00:01<00:00,  2.62it/s]\n"
          ]
        },
        {
          "name": "stdout",
          "output_type": "stream",
          "text": [
            "Guarantee: ['please', 'assure', 'hey', 'team', 'help']\n"
          ]
        }
      ],
      "source": [
        "import pandas as pd\n",
        "from sklearn.feature_extraction.text import TfidfVectorizer\n",
        "from tqdm import tqdm\n",
        "\n",
        "# Define policy categories and subcategories\n",
        "\n",
        "policy_keywords = {\n",
        "    'Return': ['return', 'give', 'pass', 'revert'],\n",
        "    'Refund': ['refund', 'repay', 'back'],\n",
        "    'Exchange': ['exchange', 'rally', 'change', 'replace', 'switch', 'substitute', 'convert'],\n",
        "    'Guarantee': ['guarantee', 'ensure', 'assure', 'secure', 'vouch']\n",
        "}\n",
        "\n",
        "# Function to categorize the tokens\n",
        "def categorize_tokens(tokens):\n",
        "    categories = []\n",
        "    for category, subcategories in policy_keywords.items():\n",
        "        if any(subcategory in tokens for subcategory in subcategories):\n",
        "            categories.append(category)\n",
        "    return categories\n",
        "\n",
        "# Apply the categorize_tokens function to each row in the 'lemmatized_tokens' column\n",
        "df['policy_keywords'] = df['lemmatized_tokens'].apply(categorize_tokens)\n",
        "\n",
        "# Function to calculate and print top 5 TF-IDF scores for a given category\n",
        "def print_top_tfidf_scores(category):\n",
        "    # Filter the DataFrame for rows that contain the given category\n",
        "    category_df = df[df['policy_keywords'].apply(lambda x: category in x)]\n",
        "    \n",
        "    # Join the lemmatized tokens for TF-IDF calculation\n",
        "    documents = category_df['lemmatized_tokens'].apply(lambda x: ' '.join(eval(x)) if isinstance(x, str) else ' '.join(x))\n",
        "    \n",
        "    if len(documents) > 0:\n",
        "        # Initialize a TF-IDF vectorizer\n",
        "        tfidf_vectorizer = TfidfVectorizer()\n",
        "        \n",
        "        # Fit the TF-IDF vectorizer and transform the documents\n",
        "        tfidf_matrix = tfidf_vectorizer.fit_transform(documents)\n",
        "        \n",
        "        # Get the feature names (terms)\n",
        "        feature_names = tfidf_vectorizer.get_feature_names_out()\n",
        "        \n",
        "        # Calculate the average TF-IDF score for each term\n",
        "        tfidf_scores = tfidf_matrix.mean(axis=0).A1\n",
        "        tfidf_scores = dict(zip(feature_names, tfidf_scores))\n",
        "        \n",
        "        # Sort the terms by their TF-IDF score in descending order and get the top 5\n",
        "        sorted_terms = sorted(tfidf_scores.items(), key=lambda item: item[1], reverse=True)[:5]\n",
        "        top_terms = [term for term, score in sorted_terms]\n",
        "        \n",
        "        # Print the top 5 terms for the category\n",
        "        print(f\"{category}: {top_terms}\")\n",
        "    else:\n",
        "        print(f\"{category}: No data available\")\n",
        "\n",
        "# Calculate and print top 5 TF-IDF scores for each category with a progress bar\n",
        "for category in tqdm(policy_keywords.keys(), desc=\"Calculating TF-IDF\"):\n",
        "    print_top_tfidf_scores(category)\n",
        "\n",
        "# Save the updated DataFrame with product categories\n",
        "df.to_csv('df_with_policy_keywords.csv', index=False)\n"
      ]
    },
    {
      "cell_type": "code",
      "execution_count": 17,
      "metadata": {},
      "outputs": [
        {
          "name": "stderr",
          "output_type": "stream",
          "text": [
            "Calculating TF-IDF:  25%|██▌       | 1/4 [00:00<00:01,  2.20it/s]"
          ]
        },
        {
          "name": "stdout",
          "output_type": "stream",
          "text": [
            "Return: [('hey', 0.07), ('dm', 0.07), ('check', 0.07), ('please', 0.07), ('back', 0.06), ('delay', 0.05), ('we', 0.05), ('team', 0.05), ('response', 0.05), ('information', 0.05)]\n"
          ]
        },
        {
          "name": "stderr",
          "output_type": "stream",
          "text": [
            "Calculating TF-IDF:  50%|█████     | 2/4 [00:00<00:00,  2.01it/s]"
          ]
        },
        {
          "name": "stdout",
          "output_type": "stream",
          "text": [
            "Refund: [('please', 0.07), ('hey', 0.07), ('check', 0.07), ('revert', 0.06), ('dm', 0.06), ('we', 0.05), ('team', 0.04), ('feedback', 0.04), ('respond', 0.04), ('help', 0.04)]\n"
          ]
        },
        {
          "name": "stderr",
          "output_type": "stream",
          "text": [
            "Calculating TF-IDF: 100%|██████████| 4/4 [00:01<00:00,  2.77it/s]"
          ]
        },
        {
          "name": "stdout",
          "output_type": "stream",
          "text": [
            "Exchange: [('use', 0.04), ('product', 0.04), ('skin', 0.04), ('acid', 0.03), ('serum', 0.03), ('hey', 0.03), ('please', 0.03), ('packaging', 0.02), ('beminimalist', 0.02), ('literally', 0.02)]\n",
            "Guarantee: [('please', 0.11), ('hey', 0.06), ('team', 0.06), ('help', 0.05), ('work', 0.05), ('we', 0.05), ('dm', 0.05), ('sorry', 0.05), ('detail', 0.05), ('understand', 0.04)]\n"
          ]
        },
        {
          "name": "stderr",
          "output_type": "stream",
          "text": [
            "\n"
          ]
        }
      ],
      "source": [
        "import pandas as pd\n",
        "from sklearn.feature_extraction.text import TfidfVectorizer\n",
        "from tqdm import tqdm\n",
        "\n",
        "# Define product categories and subcategories\n",
        "\n",
        "policy_keywords = {\n",
        "    'Return': ['return', 'give', 'pass', 'revert'],\n",
        "    'Refund': ['refund', 'repay', 'back'],\n",
        "    'Exchange': ['exchange', 'rally', 'change', 'replace', 'switch', 'substitute', 'convert'],\n",
        "    'Guarantee': ['guarantee', 'ensure', 'assure', 'secure', 'vouch']\n",
        "}\n",
        "\n",
        "# Function to categorize the tokens\n",
        "def categorize_tokens(tokens):\n",
        "    categories = []\n",
        "    for category, subcategories in policy_keywords.items():\n",
        "        if any(subcategory in tokens for subcategory in subcategories):\n",
        "            categories.append(category)\n",
        "    return categories\n",
        "\n",
        "# Apply the categorize_tokens function to each row in the 'lemmatized_tokens' column\n",
        "df['policy_keywords'] = df['lemmatized_tokens'].apply(categorize_tokens)\n",
        "\n",
        "# Function to calculate and print top 10 TF-IDF scores for a given category\n",
        "def print_top_tfidf_scores(category):\n",
        "    # Filter the DataFrame for rows that contain the given category\n",
        "    category_df = df[df['policy_keywords'].apply(lambda x: category in x)]\n",
        "    \n",
        "    # Join the lemmatized tokens for TF-IDF calculation\n",
        "    documents = category_df['lemmatized_tokens'].apply(lambda x: ' '.join(eval(x)) if isinstance(x, str) else ' '.join(x))\n",
        "    \n",
        "    if len(documents) > 0:\n",
        "        # Initialize a TF-IDF vectorizer\n",
        "        tfidf_vectorizer = TfidfVectorizer()\n",
        "        \n",
        "        # Fit the TF-IDF vectorizer and transform the documents\n",
        "        tfidf_matrix = tfidf_vectorizer.fit_transform(documents)\n",
        "        \n",
        "        # Get the feature names (terms)\n",
        "        feature_names = tfidf_vectorizer.get_feature_names_out()\n",
        "        \n",
        "        # Calculate the average TF-IDF score for each term\n",
        "        tfidf_scores = tfidf_matrix.mean(axis=0).A1\n",
        "        tfidf_scores = dict(zip(feature_names, tfidf_scores))\n",
        "        \n",
        "        # Sort the terms by their TF-IDF score in descending order and get the top 10\n",
        "        sorted_terms = sorted(tfidf_scores.items(), key=lambda item: item[1], reverse=True)\n",
        "        top_terms = [(term, round(score, 2)) for term, score in sorted_terms if term not in policy_keywords[category]][:10]\n",
        "        \n",
        "        # Print the top 10 terms with their TF-IDF scores for the category\n",
        "        print(f\"{category}: {top_terms}\")\n",
        "    else:\n",
        "        print(f\"{category}: No data available\")\n",
        "\n",
        "\n",
        "# Calculate and print top 10 TF-IDF scores for each category with a progress bar\n",
        "for category in tqdm(policy_keywords.keys(), desc=\"Calculating TF-IDF\"):\n",
        "    print_top_tfidf_scores(category)\n",
        "\n",
        "# Save the updated DataFrame with product categories\n",
        "df.to_csv('df_with_policy_keywords.csv', index=False)\n"
      ]
    },
    {
      "cell_type": "markdown",
      "metadata": {
        "id": "AUbD1g5P9WDC"
      },
      "source": [
        "##**8.3 Delivery and Shipping**"
      ]
    },
    {
      "cell_type": "code",
      "execution_count": 24,
      "metadata": {
        "id": "e52cetRK9eQd"
      },
      "outputs": [
        {
          "name": "stderr",
          "output_type": "stream",
          "text": [
            "Delivery keywords: 100%|██████████| 15/15 [00:12<00:00,  1.18it/s]\n"
          ]
        },
        {
          "data": {
            "image/png": "[encoded data removed]",
            "text/plain": [
              "<Figure size 1000x600 with 1 Axes>"
            ]
          },
          "metadata": {},
          "output_type": "display_data"
        }
      ],
      "source": [
        "import pandas as pd\n",
        "import matplotlib.pyplot as plt\n",
        "from tqdm import tqdm\n",
        "\n",
        "# Define product categories and subcategories\n",
        "delivery_keywords = {\n",
        "    'delivery': ['pitch', 'manner_of_speaking', 'saving', 'delivery', 'deliverance', 'bringing', 'obstetrical_delivery', 'legal_transfer', 'rescue', 'livery', 'speech'],\n",
        "    'delay': ['time_lag', 'check', 'wait', 'postponement', 'stay', 'hold_up', 'holdup', 'delay', 'retard', 'detain', 'hold'],\n",
        "    'ship': ['ship', 'send', 'embark', 'transport'],\n",
        "    'package': ['computer_software', 'package', 'software', 'software_package', 'box', 'packet', 'parcel', 'software_program', 'bundle', 'software_system'],\n",
        "    'track': ['rail', 'get_over', 'cut_through', 'course', 'racecourse', 'lead', 'tag', 'give_chase', 'go_after', 'data_track', 'runway', 'chase', 'rails', 'trail', 'caterpillar_tread', 'dog', 'get_across', 'cart_track', 'cut_across', 'running', 'cover', 'chase_after', 'traverse', 'racetrack', 'cartroad', 'track', 'raceway', 'pass_over', 'path', 'tail', 'caterpillar_track', 'cut', 'cross'],\n",
        "    'long': ['tenacious', 'foresightful', 'farsighted', 'yearn', 'retentive', 'prospicient', 'longsighted', 'recollective', 'foresighted', 'farseeing', 'hanker', 'long'],\n",
        "    'Pickup': ['getaway', 'pick-me-up', 'pickup', 'cartridge', 'tone_arm', 'pickup_arm', 'pickup_truck'],\n",
        "    'Courier': ['courier', 'messenger'],\n",
        "    'lost': ['recede', 'drop_off', 'befuddled', 'confused', 'bemused', 'at_sea', 'turn_a_loss', 'confounded', 'bewildered', 'baffled', 'lost', 'lose', 'deep_in_thought', 'fall_behind', 'preoccupied', 'mazed', 'mixed-up', 'mislay', 'fall_back', 'disoriented', 'helpless', 'misplace', 'miss', 'missed', 'doomed', 'suffer'],\n",
        "    'late': ['of_late', 'belated', 'latterly', 'late', 'recent', 'former', 'tardy', 'lately', 'later', 'recently', 'belatedly', 'previous', 'deep', 'tardily'],\n",
        "    'Broken': ['crushed', 'intermit', 'offend', 'go', 'wear', 'let_on', 'broken_in', 'get_around', 'confused', 'break-dance', 'impoverished', 'transgress', 'go_bad', 'low', 'unkept', 'relegate', 'divulge', 'breach', 'fail', 'wiped_out', 'crack', 'fracture', 'ruin', 'expose', 'humiliated', 'demote', 'give_away', 'give', 'dampen', 'discover', 'discontinue', 'fall_apart', 'burst', 'come_apart', 'founder', 'fall_in', 'break_in', 'part', 'break_down', 'disordered', 'snap_off', 'erupt', 'soften', 'break_up', 'give_out', 'busted', 'better', 'reveal', 'rugged', 'conk_out', 'pause', 'cave_in', 'break_dance', 'damp', 'weaken', 'go_against', 'bring_out', 'develop', 'split', 'infract', 'bankrupt', 'disclose', 'recrudesce', 'upset', 'smash', 'unwrap', 'collapse', 'break_away', 'interrupt', 'bump', 'separate', 'let_out', 'wear_out', 'bust', 'split_up', 'stop', 'give_way', 'violate', 'kick_downstairs', 'break_out', 'check', 'die', 'get_out', 'break_off', 'humbled', 'break', 'broken'],\n",
        "    'Missing': ['lacking', 'wanting', 'lose', 'miss', 'absent', 'drop', 'omit', 'leave_out', 'overlook', 'neglect', 'overleap', 'escape', 'missing', 'pretermit', 'lack'],\n",
        "    'Cancel': ['strike_down', 'delete', 'scratch', 'natural', 'cancel', 'offset', 'scrub', 'call_off', 'set_off', 'invalidate'],\n",
        "    'Stolen': ['steal', 'slip'],\n",
        "    'Defective': ['faulty', 'defective', 'bad']\n",
        "}\n",
        "\n",
        "# Initialize an empty list to store the frequency counts\n",
        "frequency_counts = []\n",
        "\n",
        "# Iterate through each product category\n",
        "for category, subcategories in tqdm(delivery_keywords.items(), desc=\"Delivery keywords\"):\n",
        "    # Count occurrences of each category and subcategory in the 'lemmatized_tokens' column\n",
        "    for subcategory in subcategories:\n",
        "        count = df['lemmatized_tokens'].str.contains(subcategory).sum()\n",
        "        frequency_counts.append([category, subcategory, count])\n",
        "\n",
        "# Create a new DataFrame with the frequency counts\n",
        "df_keyword = pd.DataFrame(frequency_counts, columns=['Keywords', 'Sub-keywords', 'Frequency'])\n",
        "\n",
        "# Group by Category and sum the frequencies\n",
        "df_summary = df_keyword.groupby('Keywords')['Frequency'].sum().reset_index()\n",
        "\n",
        "# Sort the DataFrame in descending order of Frequency\n",
        "df_summary = df_summary.sort_values(by='Frequency', ascending=False)\n",
        "\n",
        "# Plotting the bar chart\n",
        "plt.figure(figsize=(10, 6))\n",
        "plt.bar(df_summary['Keywords'], df_summary['Frequency'], color='skyblue')\n",
        "plt.xlabel('Delivery keywords')\n",
        "plt.ylabel('Frequency')\n",
        "plt.title('Frequency of Delivery keywords')\n",
        "plt.xticks(rotation=45, ha='right')\n",
        "plt.tight_layout()\n",
        "plt.show()\n",
        "\n",
        "# Save the df_keyword DataFrame\n",
        "df_keyword.to_csv('df_delivery_by_frequency_1.csv', index=False)"
      ]
    },
    {
      "cell_type": "markdown",
      "metadata": {
        "id": "vPy5svTQ9e8R"
      },
      "source": [
        "##**8.4 Promotions and Discounts**"
      ]
    },
    {
      "cell_type": "code",
      "execution_count": null,
      "metadata": {
        "id": "kq8sI4Ql9h-o"
      },
      "outputs": [],
      "source": []
    },
    {
      "cell_type": "markdown",
      "metadata": {
        "id": "qQ9t4FOe9im0"
      },
      "source": [
        "##**8.5 Market and Trends**"
      ]
    },
    {
      "cell_type": "code",
      "execution_count": null,
      "metadata": {
        "id": "-6iaj-0y9n_M"
      },
      "outputs": [],
      "source": []
    },
    {
      "cell_type": "markdown",
      "metadata": {
        "id": "gQNUR1zO9oIA"
      },
      "source": [
        "##**8.6 Health and Safety**"
      ]
    },
    {
      "cell_type": "code",
      "execution_count": null,
      "metadata": {
        "id": "mSMW7-Lz9rOR"
      },
      "outputs": [],
      "source": []
    }
  ],
  "metadata": {
    "colab": {
      "provenance": []
    },
    "kernelspec": {
      "display_name": "Python 3",
      "name": "python3"
    },
    "language_info": {
      "codemirror_mode": {
        "name": "ipython",
        "version": 3
      },
      "file_extension": ".py",
      "mimetype": "text/x-python",
      "name": "python",
      "nbconvert_exporter": "python",
      "pygments_lexer": "ipython3",
      "version": "3.9.7"
    },
    "widgets": {
      "application/vnd.jupyter.widget-state+json": {
        "026042a9e3e3493f9069216328e450cf": {
          "model_module": "@jupyter-widgets/controls",
          "model_module_version": "1.5.0",
          "model_name": "FloatProgressModel",
          "state": {
            "_dom_classes": [],
            "_model_module": "@jupyter-widgets/controls",
            "_model_module_version": "1.5.0",
            "_model_name": "FloatProgressModel",
            "_view_count": null,
            "_view_module": "@jupyter-widgets/controls",
            "_view_module_version": "1.5.0",
            "_view_name": "ProgressView",
            "bar_style": "success",
            "description": "",
            "description_tooltip": null,
            "layout": "IPY_MODEL_12b61a65679e44b3ae1b5282e80ee512",
            "max": 539679413,
            "min": 0,
            "orientation": "horizontal",
            "style": "IPY_MODEL_4b89ffc921084af9b27f96598c11eccb",
            "value": 539679413
          }
        },
        "06571f2bcd96471dae1df948c25ff251": {
          "model_module": "@jupyter-widgets/controls",
          "model_module_version": "1.5.0",
          "model_name": "DescriptionStyleModel",
          "state": {
            "_model_module": "@jupyter-widgets/controls",
            "_model_module_version": "1.5.0",
            "_model_name": "DescriptionStyleModel",
            "_view_count": null,
            "_view_module": "@jupyter-widgets/base",
            "_view_module_version": "1.2.0",
            "_view_name": "StyleView",
            "description_width": ""
          }
        },
        "12b61a65679e44b3ae1b5282e80ee512": {
          "model_module": "@jupyter-widgets/base",
          "model_module_version": "1.2.0",
          "model_name": "LayoutModel",
          "state": {
            "_model_module": "@jupyter-widgets/base",
            "_model_module_version": "1.2.0",
            "_model_name": "LayoutModel",
            "_view_count": null,
            "_view_module": "@jupyter-widgets/base",
            "_view_module_version": "1.2.0",
            "_view_name": "LayoutView",
            "align_content": null,
            "align_items": null,
            "align_self": null,
            "border": null,
            "bottom": null,
            "display": null,
            "flex": null,
            "flex_flow": null,
            "grid_area": null,
            "grid_auto_columns": null,
            "grid_auto_flow": null,
            "grid_auto_rows": null,
            "grid_column": null,
            "grid_gap": null,
            "grid_row": null,
            "grid_template_areas": null,
            "grid_template_columns": null,
            "grid_template_rows": null,
            "height": null,
            "justify_content": null,
            "justify_items": null,
            "left": null,
            "margin": null,
            "max_height": null,
            "max_width": null,
            "min_height": null,
            "min_width": null,
            "object_fit": null,
            "object_position": null,
            "order": null,
            "overflow": null,
            "overflow_x": null,
            "overflow_y": null,
            "padding": null,
            "right": null,
            "top": null,
            "visibility": null,
            "width": null
          }
        },
        "197e64b872a6404bb3b63eb295f0f16b": {
          "model_module": "@jupyter-widgets/controls",
          "model_module_version": "1.5.0",
          "model_name": "HTMLModel",
          "state": {
            "_dom_classes": [],
            "_model_module": "@jupyter-widgets/controls",
            "_model_module_version": "1.5.0",
            "_model_name": "HTMLModel",
            "_view_count": null,
            "_view_module": "@jupyter-widgets/controls",
            "_view_module_version": "1.5.0",
            "_view_name": "HTMLView",
            "description": "",
            "description_tooltip": null,
            "layout": "IPY_MODEL_5c390556ff8d480ab63b41733ab4575a",
            "placeholder": "​",
            "style": "IPY_MODEL_7455ef488b17463d9cb92a5e2e2206f0",
            "value": " 338/338 [00:00&lt;00:00, 12.2kB/s]"
          }
        },
        "1a00fed511d44afa8b1f2d576a156aa8": {
          "model_module": "@jupyter-widgets/controls",
          "model_module_version": "1.5.0",
          "model_name": "FloatProgressModel",
          "state": {
            "_dom_classes": [],
            "_model_module": "@jupyter-widgets/controls",
            "_model_module_version": "1.5.0",
            "_model_name": "FloatProgressModel",
            "_view_count": null,
            "_view_module": "@jupyter-widgets/controls",
            "_view_module_version": "1.5.0",
            "_view_name": "ProgressView",
            "bar_style": "success",
            "description": "",
            "description_tooltip": null,
            "layout": "IPY_MODEL_7ade0e30457f4cd6aa6509ef1b5d5f94",
            "max": 22,
            "min": 0,
            "orientation": "horizontal",
            "style": "IPY_MODEL_dd24fb9c92b349eebf9f41b9565e2d82",
            "value": 22
          }
        },
        "1a1779c8b12b47468eb2deed72e1b3ce": {
          "model_module": "@jupyter-widgets/controls",
          "model_module_version": "1.5.0",
          "model_name": "HTMLModel",
          "state": {
            "_dom_classes": [],
            "_model_module": "@jupyter-widgets/controls",
            "_model_module_version": "1.5.0",
            "_model_name": "HTMLModel",
            "_view_count": null,
            "_view_module": "@jupyter-widgets/controls",
            "_view_module_version": "1.5.0",
            "_view_name": "HTMLView",
            "description": "",
            "description_tooltip": null,
            "layout": "IPY_MODEL_54e54ab676424392b875d1d768bad685",
            "placeholder": "​",
            "style": "IPY_MODEL_960f18615d394e96aef6d7a6908e5e04",
            "value": " 82905/82905 [3:06:26&lt;00:00, 12.79it/s]"
          }
        },
        "1f625da70f404469bc091c09500f3e1d": {
          "model_module": "@jupyter-widgets/controls",
          "model_module_version": "1.5.0",
          "model_name": "HTMLModel",
          "state": {
            "_dom_classes": [],
            "_model_module": "@jupyter-widgets/controls",
            "_model_module_version": "1.5.0",
            "_model_name": "HTMLModel",
            "_view_count": null,
            "_view_module": "@jupyter-widgets/controls",
            "_view_module_version": "1.5.0",
            "_view_name": "HTMLView",
            "description": "",
            "description_tooltip": null,
            "layout": "IPY_MODEL_962dbd691522477aaaea23e4ef2ff07d",
            "placeholder": "​",
            "style": "IPY_MODEL_3e37dcc7828c48b2aebda797b12d5b64",
            "value": "vocab.txt: 100%"
          }
        },
        "245b2b3c8bc8401bb9a95ff1408538c2": {
          "model_module": "@jupyter-widgets/base",
          "model_module_version": "1.2.0",
          "model_name": "LayoutModel",
          "state": {
            "_model_module": "@jupyter-widgets/base",
            "_model_module_version": "1.2.0",
            "_model_name": "LayoutModel",
            "_view_count": null,
            "_view_module": "@jupyter-widgets/base",
            "_view_module_version": "1.2.0",
            "_view_name": "LayoutView",
            "align_content": null,
            "align_items": null,
            "align_self": null,
            "border": null,
            "bottom": null,
            "display": null,
            "flex": null,
            "flex_flow": null,
            "grid_area": null,
            "grid_auto_columns": null,
            "grid_auto_flow": null,
            "grid_auto_rows": null,
            "grid_column": null,
            "grid_gap": null,
            "grid_row": null,
            "grid_template_areas": null,
            "grid_template_columns": null,
            "grid_template_rows": null,
            "height": null,
            "justify_content": null,
            "justify_items": null,
            "left": null,
            "margin": null,
            "max_height": null,
            "max_width": null,
            "min_height": null,
            "min_width": null,
            "object_fit": null,
            "object_position": null,
            "order": null,
            "overflow": null,
            "overflow_x": null,
            "overflow_y": null,
            "padding": null,
            "right": null,
            "top": null,
            "visibility": null,
            "width": null
          }
        },
        "25146446bfa64b969a64ee02d7360622": {
          "model_module": "@jupyter-widgets/controls",
          "model_module_version": "1.5.0",
          "model_name": "DescriptionStyleModel",
          "state": {
            "_model_module": "@jupyter-widgets/controls",
            "_model_module_version": "1.5.0",
            "_model_name": "DescriptionStyleModel",
            "_view_count": null,
            "_view_module": "@jupyter-widgets/base",
            "_view_module_version": "1.2.0",
            "_view_name": "StyleView",
            "description_width": ""
          }
        },
        "26c639f06d23405ea68f2e40da84ed45": {
          "model_module": "@jupyter-widgets/controls",
          "model_module_version": "1.5.0",
          "model_name": "DescriptionStyleModel",
          "state": {
            "_model_module": "@jupyter-widgets/controls",
            "_model_module_version": "1.5.0",
            "_model_name": "DescriptionStyleModel",
            "_view_count": null,
            "_view_module": "@jupyter-widgets/base",
            "_view_module_version": "1.2.0",
            "_view_name": "StyleView",
            "description_width": ""
          }
        },
        "2793a569721049a6994d2cb6ff6454d1": {
          "model_module": "@jupyter-widgets/controls",
          "model_module_version": "1.5.0",
          "model_name": "ProgressStyleModel",
          "state": {
            "_model_module": "@jupyter-widgets/controls",
            "_model_module_version": "1.5.0",
            "_model_name": "ProgressStyleModel",
            "_view_count": null,
            "_view_module": "@jupyter-widgets/base",
            "_view_module_version": "1.2.0",
            "_view_name": "StyleView",
            "bar_color": null,
            "description_width": ""
          }
        },
        "28a82c7e71194801b0c1254011f0b093": {
          "model_module": "@jupyter-widgets/controls",
          "model_module_version": "1.5.0",
          "model_name": "DescriptionStyleModel",
          "state": {
            "_model_module": "@jupyter-widgets/controls",
            "_model_module_version": "1.5.0",
            "_model_name": "DescriptionStyleModel",
            "_view_count": null,
            "_view_module": "@jupyter-widgets/base",
            "_view_module_version": "1.2.0",
            "_view_name": "StyleView",
            "description_width": ""
          }
        },
        "305b9f6a73fb42e8bbb287acc480275a": {
          "model_module": "@jupyter-widgets/base",
          "model_module_version": "1.2.0",
          "model_name": "LayoutModel",
          "state": {
            "_model_module": "@jupyter-widgets/base",
            "_model_module_version": "1.2.0",
            "_model_name": "LayoutModel",
            "_view_count": null,
            "_view_module": "@jupyter-widgets/base",
            "_view_module_version": "1.2.0",
            "_view_name": "LayoutView",
            "align_content": null,
            "align_items": null,
            "align_self": null,
            "border": null,
            "bottom": null,
            "display": null,
            "flex": null,
            "flex_flow": null,
            "grid_area": null,
            "grid_auto_columns": null,
            "grid_auto_flow": null,
            "grid_auto_rows": null,
            "grid_column": null,
            "grid_gap": null,
            "grid_row": null,
            "grid_template_areas": null,
            "grid_template_columns": null,
            "grid_template_rows": null,
            "height": null,
            "justify_content": null,
            "justify_items": null,
            "left": null,
            "margin": null,
            "max_height": null,
            "max_width": null,
            "min_height": null,
            "min_width": null,
            "object_fit": null,
            "object_position": null,
            "order": null,
            "overflow": null,
            "overflow_x": null,
            "overflow_y": null,
            "padding": null,
            "right": null,
            "top": null,
            "visibility": null,
            "width": null
          }
        },
        "3081f1e9cc704411a7404e2bf8733627": {
          "model_module": "@jupyter-widgets/controls",
          "model_module_version": "1.5.0",
          "model_name": "HTMLModel",
          "state": {
            "_dom_classes": [],
            "_model_module": "@jupyter-widgets/controls",
            "_model_module_version": "1.5.0",
            "_model_name": "HTMLModel",
            "_view_count": null,
            "_view_module": "@jupyter-widgets/controls",
            "_view_module_version": "1.5.0",
            "_view_name": "HTMLView",
            "description": "",
            "description_tooltip": null,
            "layout": "IPY_MODEL_884f23f2de24421189d398d6014b2469",
            "placeholder": "​",
            "style": "IPY_MODEL_b8537f2fdf074fdca2274850c0e2704f",
            "value": "config.json: 100%"
          }
        },
        "31abe275b91a424fa0d1986ceb8857d3": {
          "model_module": "@jupyter-widgets/controls",
          "model_module_version": "1.5.0",
          "model_name": "HTMLModel",
          "state": {
            "_dom_classes": [],
            "_model_module": "@jupyter-widgets/controls",
            "_model_module_version": "1.5.0",
            "_model_name": "HTMLModel",
            "_view_count": null,
            "_view_module": "@jupyter-widgets/controls",
            "_view_module_version": "1.5.0",
            "_view_name": "HTMLView",
            "description": "",
            "description_tooltip": null,
            "layout": "IPY_MODEL_c28c8f98ff84443ba5ef85a2d6910ec7",
            "placeholder": "​",
            "style": "IPY_MODEL_b82d26e3ea434f8fb6ef6725d435d259",
            "value": "bpe.codes: 100%"
          }
        },
        "31c07efcb16b492584e1444d49a0daa0": {
          "model_module": "@jupyter-widgets/base",
          "model_module_version": "1.2.0",
          "model_name": "LayoutModel",
          "state": {
            "_model_module": "@jupyter-widgets/base",
            "_model_module_version": "1.2.0",
            "_model_name": "LayoutModel",
            "_view_count": null,
            "_view_module": "@jupyter-widgets/base",
            "_view_module_version": "1.2.0",
            "_view_name": "LayoutView",
            "align_content": null,
            "align_items": null,
            "align_self": null,
            "border": null,
            "bottom": null,
            "display": null,
            "flex": null,
            "flex_flow": null,
            "grid_area": null,
            "grid_auto_columns": null,
            "grid_auto_flow": null,
            "grid_auto_rows": null,
            "grid_column": null,
            "grid_gap": null,
            "grid_row": null,
            "grid_template_areas": null,
            "grid_template_columns": null,
            "grid_template_rows": null,
            "height": null,
            "justify_content": null,
            "justify_items": null,
            "left": null,
            "margin": null,
            "max_height": null,
            "max_width": null,
            "min_height": null,
            "min_width": null,
            "object_fit": null,
            "object_position": null,
            "order": null,
            "overflow": null,
            "overflow_x": null,
            "overflow_y": null,
            "padding": null,
            "right": null,
            "top": null,
            "visibility": null,
            "width": null
          }
        },
        "31f7412352f844e1a671b40d2f815c3c": {
          "model_module": "@jupyter-widgets/base",
          "model_module_version": "1.2.0",
          "model_name": "LayoutModel",
          "state": {
            "_model_module": "@jupyter-widgets/base",
            "_model_module_version": "1.2.0",
            "_model_name": "LayoutModel",
            "_view_count": null,
            "_view_module": "@jupyter-widgets/base",
            "_view_module_version": "1.2.0",
            "_view_name": "LayoutView",
            "align_content": null,
            "align_items": null,
            "align_self": null,
            "border": null,
            "bottom": null,
            "display": null,
            "flex": null,
            "flex_flow": null,
            "grid_area": null,
            "grid_auto_columns": null,
            "grid_auto_flow": null,
            "grid_auto_rows": null,
            "grid_column": null,
            "grid_gap": null,
            "grid_row": null,
            "grid_template_areas": null,
            "grid_template_columns": null,
            "grid_template_rows": null,
            "height": null,
            "justify_content": null,
            "justify_items": null,
            "left": null,
            "margin": null,
            "max_height": null,
            "max_width": null,
            "min_height": null,
            "min_width": null,
            "object_fit": null,
            "object_position": null,
            "order": null,
            "overflow": null,
            "overflow_x": null,
            "overflow_y": null,
            "padding": null,
            "right": null,
            "top": null,
            "visibility": null,
            "width": null
          }
        },
        "3659640c33bd4da28f0a28cbdd12d7c9": {
          "model_module": "@jupyter-widgets/controls",
          "model_module_version": "1.5.0",
          "model_name": "HBoxModel",
          "state": {
            "_dom_classes": [],
            "_model_module": "@jupyter-widgets/controls",
            "_model_module_version": "1.5.0",
            "_model_name": "HBoxModel",
            "_view_count": null,
            "_view_module": "@jupyter-widgets/controls",
            "_view_module_version": "1.5.0",
            "_view_name": "HBoxView",
            "box_style": "",
            "children": [
              "IPY_MODEL_3081f1e9cc704411a7404e2bf8733627",
              "IPY_MODEL_5c3bb0a5345749f5835c7b2ac719755f",
              "IPY_MODEL_5020d80cd5d6435f8129e2cc89f29aa7"
            ],
            "layout": "IPY_MODEL_245b2b3c8bc8401bb9a95ff1408538c2"
          }
        },
        "3a9f7f341df641fa834ec16d34ef8fde": {
          "model_module": "@jupyter-widgets/controls",
          "model_module_version": "1.5.0",
          "model_name": "DescriptionStyleModel",
          "state": {
            "_model_module": "@jupyter-widgets/controls",
            "_model_module_version": "1.5.0",
            "_model_name": "DescriptionStyleModel",
            "_view_count": null,
            "_view_module": "@jupyter-widgets/base",
            "_view_module_version": "1.2.0",
            "_view_name": "StyleView",
            "description_width": ""
          }
        },
        "3e37dcc7828c48b2aebda797b12d5b64": {
          "model_module": "@jupyter-widgets/controls",
          "model_module_version": "1.5.0",
          "model_name": "DescriptionStyleModel",
          "state": {
            "_model_module": "@jupyter-widgets/controls",
            "_model_module_version": "1.5.0",
            "_model_name": "DescriptionStyleModel",
            "_view_count": null,
            "_view_module": "@jupyter-widgets/base",
            "_view_module_version": "1.2.0",
            "_view_name": "StyleView",
            "description_width": ""
          }
        },
        "4829ff978d81437ea4b08d906d672425": {
          "model_module": "@jupyter-widgets/base",
          "model_module_version": "1.2.0",
          "model_name": "LayoutModel",
          "state": {
            "_model_module": "@jupyter-widgets/base",
            "_model_module_version": "1.2.0",
            "_model_name": "LayoutModel",
            "_view_count": null,
            "_view_module": "@jupyter-widgets/base",
            "_view_module_version": "1.2.0",
            "_view_name": "LayoutView",
            "align_content": null,
            "align_items": null,
            "align_self": null,
            "border": null,
            "bottom": null,
            "display": null,
            "flex": null,
            "flex_flow": null,
            "grid_area": null,
            "grid_auto_columns": null,
            "grid_auto_flow": null,
            "grid_auto_rows": null,
            "grid_column": null,
            "grid_gap": null,
            "grid_row": null,
            "grid_template_areas": null,
            "grid_template_columns": null,
            "grid_template_rows": null,
            "height": null,
            "justify_content": null,
            "justify_items": null,
            "left": null,
            "margin": null,
            "max_height": null,
            "max_width": null,
            "min_height": null,
            "min_width": null,
            "object_fit": null,
            "object_position": null,
            "order": null,
            "overflow": null,
            "overflow_x": null,
            "overflow_y": null,
            "padding": null,
            "right": null,
            "top": null,
            "visibility": null,
            "width": null
          }
        },
        "48b68b5cb1644199b8e6ca264aaac2fa": {
          "model_module": "@jupyter-widgets/controls",
          "model_module_version": "1.5.0",
          "model_name": "ProgressStyleModel",
          "state": {
            "_model_module": "@jupyter-widgets/controls",
            "_model_module_version": "1.5.0",
            "_model_name": "ProgressStyleModel",
            "_view_count": null,
            "_view_module": "@jupyter-widgets/base",
            "_view_module_version": "1.2.0",
            "_view_name": "StyleView",
            "bar_color": null,
            "description_width": ""
          }
        },
        "4b89ffc921084af9b27f96598c11eccb": {
          "model_module": "@jupyter-widgets/controls",
          "model_module_version": "1.5.0",
          "model_name": "ProgressStyleModel",
          "state": {
            "_model_module": "@jupyter-widgets/controls",
            "_model_module_version": "1.5.0",
            "_model_name": "ProgressStyleModel",
            "_view_count": null,
            "_view_module": "@jupyter-widgets/base",
            "_view_module_version": "1.2.0",
            "_view_name": "StyleView",
            "bar_color": null,
            "description_width": ""
          }
        },
        "5020d80cd5d6435f8129e2cc89f29aa7": {
          "model_module": "@jupyter-widgets/controls",
          "model_module_version": "1.5.0",
          "model_name": "HTMLModel",
          "state": {
            "_dom_classes": [],
            "_model_module": "@jupyter-widgets/controls",
            "_model_module_version": "1.5.0",
            "_model_name": "HTMLModel",
            "_view_count": null,
            "_view_module": "@jupyter-widgets/controls",
            "_view_module_version": "1.5.0",
            "_view_name": "HTMLView",
            "description": "",
            "description_tooltip": null,
            "layout": "IPY_MODEL_b56fedd34b3549479d4f3cb4bfdd88d0",
            "placeholder": "​",
            "style": "IPY_MODEL_28a82c7e71194801b0c1254011f0b093",
            "value": " 949/949 [00:00&lt;00:00, 25.6kB/s]"
          }
        },
        "54e54ab676424392b875d1d768bad685": {
          "model_module": "@jupyter-widgets/base",
          "model_module_version": "1.2.0",
          "model_name": "LayoutModel",
          "state": {
            "_model_module": "@jupyter-widgets/base",
            "_model_module_version": "1.2.0",
            "_model_name": "LayoutModel",
            "_view_count": null,
            "_view_module": "@jupyter-widgets/base",
            "_view_module_version": "1.2.0",
            "_view_name": "LayoutView",
            "align_content": null,
            "align_items": null,
            "align_self": null,
            "border": null,
            "bottom": null,
            "display": null,
            "flex": null,
            "flex_flow": null,
            "grid_area": null,
            "grid_auto_columns": null,
            "grid_auto_flow": null,
            "grid_auto_rows": null,
            "grid_column": null,
            "grid_gap": null,
            "grid_row": null,
            "grid_template_areas": null,
            "grid_template_columns": null,
            "grid_template_rows": null,
            "height": null,
            "justify_content": null,
            "justify_items": null,
            "left": null,
            "margin": null,
            "max_height": null,
            "max_width": null,
            "min_height": null,
            "min_width": null,
            "object_fit": null,
            "object_position": null,
            "order": null,
            "overflow": null,
            "overflow_x": null,
            "overflow_y": null,
            "padding": null,
            "right": null,
            "top": null,
            "visibility": null,
            "width": null
          }
        },
        "56cc06321734453aafe29403c34ec2f8": {
          "model_module": "@jupyter-widgets/controls",
          "model_module_version": "1.5.0",
          "model_name": "HTMLModel",
          "state": {
            "_dom_classes": [],
            "_model_module": "@jupyter-widgets/controls",
            "_model_module_version": "1.5.0",
            "_model_name": "HTMLModel",
            "_view_count": null,
            "_view_module": "@jupyter-widgets/controls",
            "_view_module_version": "1.5.0",
            "_view_name": "HTMLView",
            "description": "",
            "description_tooltip": null,
            "layout": "IPY_MODEL_31f7412352f844e1a671b40d2f815c3c",
            "placeholder": "​",
            "style": "IPY_MODEL_b80624bee8214ddb99a65329566fcc1a",
            "value": "added_tokens.json: 100%"
          }
        },
        "57d210f9ac774e5596208a8d4f79ec46": {
          "model_module": "@jupyter-widgets/controls",
          "model_module_version": "1.5.0",
          "model_name": "DescriptionStyleModel",
          "state": {
            "_model_module": "@jupyter-widgets/controls",
            "_model_module_version": "1.5.0",
            "_model_name": "DescriptionStyleModel",
            "_view_count": null,
            "_view_module": "@jupyter-widgets/base",
            "_view_module_version": "1.2.0",
            "_view_name": "StyleView",
            "description_width": ""
          }
        },
        "5a91a62b2b0b427abf208796e8d2fe91": {
          "model_module": "@jupyter-widgets/controls",
          "model_module_version": "1.5.0",
          "model_name": "FloatProgressModel",
          "state": {
            "_dom_classes": [],
            "_model_module": "@jupyter-widgets/controls",
            "_model_module_version": "1.5.0",
            "_model_name": "FloatProgressModel",
            "_view_count": null,
            "_view_module": "@jupyter-widgets/controls",
            "_view_module_version": "1.5.0",
            "_view_name": "ProgressView",
            "bar_style": "success",
            "description": "",
            "description_tooltip": null,
            "layout": "IPY_MODEL_de651082b16a4c6d96b1bbcc51d39fd2",
            "max": 1078931,
            "min": 0,
            "orientation": "horizontal",
            "style": "IPY_MODEL_a0df3de78c5a4099809ad74db3a5a6c1",
            "value": 1078931
          }
        },
        "5c390556ff8d480ab63b41733ab4575a": {
          "model_module": "@jupyter-widgets/base",
          "model_module_version": "1.2.0",
          "model_name": "LayoutModel",
          "state": {
            "_model_module": "@jupyter-widgets/base",
            "_model_module_version": "1.2.0",
            "_model_name": "LayoutModel",
            "_view_count": null,
            "_view_module": "@jupyter-widgets/base",
            "_view_module_version": "1.2.0",
            "_view_name": "LayoutView",
            "align_content": null,
            "align_items": null,
            "align_self": null,
            "border": null,
            "bottom": null,
            "display": null,
            "flex": null,
            "flex_flow": null,
            "grid_area": null,
            "grid_auto_columns": null,
            "grid_auto_flow": null,
            "grid_auto_rows": null,
            "grid_column": null,
            "grid_gap": null,
            "grid_row": null,
            "grid_template_areas": null,
            "grid_template_columns": null,
            "grid_template_rows": null,
            "height": null,
            "justify_content": null,
            "justify_items": null,
            "left": null,
            "margin": null,
            "max_height": null,
            "max_width": null,
            "min_height": null,
            "min_width": null,
            "object_fit": null,
            "object_position": null,
            "order": null,
            "overflow": null,
            "overflow_x": null,
            "overflow_y": null,
            "padding": null,
            "right": null,
            "top": null,
            "visibility": null,
            "width": null
          }
        },
        "5c3bb0a5345749f5835c7b2ac719755f": {
          "model_module": "@jupyter-widgets/controls",
          "model_module_version": "1.5.0",
          "model_name": "FloatProgressModel",
          "state": {
            "_dom_classes": [],
            "_model_module": "@jupyter-widgets/controls",
            "_model_module_version": "1.5.0",
            "_model_name": "FloatProgressModel",
            "_view_count": null,
            "_view_module": "@jupyter-widgets/controls",
            "_view_module_version": "1.5.0",
            "_view_name": "ProgressView",
            "bar_style": "success",
            "description": "",
            "description_tooltip": null,
            "layout": "IPY_MODEL_4829ff978d81437ea4b08d906d672425",
            "max": 949,
            "min": 0,
            "orientation": "horizontal",
            "style": "IPY_MODEL_ff2529f6ede4405aba3c7827c9f3fc20",
            "value": 949
          }
        },
        "62a5d2ee77b246f9b67dc6ac2d80912c": {
          "model_module": "@jupyter-widgets/base",
          "model_module_version": "1.2.0",
          "model_name": "LayoutModel",
          "state": {
            "_model_module": "@jupyter-widgets/base",
            "_model_module_version": "1.2.0",
            "_model_name": "LayoutModel",
            "_view_count": null,
            "_view_module": "@jupyter-widgets/base",
            "_view_module_version": "1.2.0",
            "_view_name": "LayoutView",
            "align_content": null,
            "align_items": null,
            "align_self": null,
            "border": null,
            "bottom": null,
            "display": null,
            "flex": null,
            "flex_flow": null,
            "grid_area": null,
            "grid_auto_columns": null,
            "grid_auto_flow": null,
            "grid_auto_rows": null,
            "grid_column": null,
            "grid_gap": null,
            "grid_row": null,
            "grid_template_areas": null,
            "grid_template_columns": null,
            "grid_template_rows": null,
            "height": null,
            "justify_content": null,
            "justify_items": null,
            "left": null,
            "margin": null,
            "max_height": null,
            "max_width": null,
            "min_height": null,
            "min_width": null,
            "object_fit": null,
            "object_position": null,
            "order": null,
            "overflow": null,
            "overflow_x": null,
            "overflow_y": null,
            "padding": null,
            "right": null,
            "top": null,
            "visibility": null,
            "width": null
          }
        },
        "642ef34252794222b3841ba4c772767b": {
          "model_module": "@jupyter-widgets/controls",
          "model_module_version": "1.5.0",
          "model_name": "HBoxModel",
          "state": {
            "_dom_classes": [],
            "_model_module": "@jupyter-widgets/controls",
            "_model_module_version": "1.5.0",
            "_model_name": "HBoxModel",
            "_view_count": null,
            "_view_module": "@jupyter-widgets/controls",
            "_view_module_version": "1.5.0",
            "_view_name": "HBoxView",
            "box_style": "",
            "children": [
              "IPY_MODEL_9958b43514bb4d5581750166fe6e053b",
              "IPY_MODEL_a771f5d04c2342609768adff2ba73d65",
              "IPY_MODEL_de82dcd0a2d4465daeac8cff4d883aaf"
            ],
            "layout": "IPY_MODEL_d7861c8b2fb44a0791cbb43d9c3ad456"
          }
        },
        "66a84ff63ac14959a51adca6a02ddeeb": {
          "model_module": "@jupyter-widgets/controls",
          "model_module_version": "1.5.0",
          "model_name": "HBoxModel",
          "state": {
            "_dom_classes": [],
            "_model_module": "@jupyter-widgets/controls",
            "_model_module_version": "1.5.0",
            "_model_name": "HBoxModel",
            "_view_count": null,
            "_view_module": "@jupyter-widgets/controls",
            "_view_module_version": "1.5.0",
            "_view_name": "HBoxView",
            "box_style": "",
            "children": [
              "IPY_MODEL_e29deff0ffc149f1aed18e3cba6c8741",
              "IPY_MODEL_6fa7a159a3c24420996a852516fe0b1e",
              "IPY_MODEL_197e64b872a6404bb3b63eb295f0f16b"
            ],
            "layout": "IPY_MODEL_9dfd8cf44ab6443885202e431a6b7d77"
          }
        },
        "6b54a956da8c4903adb107eb61660f51": {
          "model_module": "@jupyter-widgets/controls",
          "model_module_version": "1.5.0",
          "model_name": "DescriptionStyleModel",
          "state": {
            "_model_module": "@jupyter-widgets/controls",
            "_model_module_version": "1.5.0",
            "_model_name": "DescriptionStyleModel",
            "_view_count": null,
            "_view_module": "@jupyter-widgets/base",
            "_view_module_version": "1.2.0",
            "_view_name": "StyleView",
            "description_width": ""
          }
        },
        "6e55377a3e604a4b9a1d9da710b324a4": {
          "model_module": "@jupyter-widgets/controls",
          "model_module_version": "1.5.0",
          "model_name": "ProgressStyleModel",
          "state": {
            "_model_module": "@jupyter-widgets/controls",
            "_model_module_version": "1.5.0",
            "_model_name": "ProgressStyleModel",
            "_view_count": null,
            "_view_module": "@jupyter-widgets/base",
            "_view_module_version": "1.2.0",
            "_view_name": "StyleView",
            "bar_color": null,
            "description_width": ""
          }
        },
        "6fa7a159a3c24420996a852516fe0b1e": {
          "model_module": "@jupyter-widgets/controls",
          "model_module_version": "1.5.0",
          "model_name": "FloatProgressModel",
          "state": {
            "_dom_classes": [],
            "_model_module": "@jupyter-widgets/controls",
            "_model_module_version": "1.5.0",
            "_model_name": "FloatProgressModel",
            "_view_count": null,
            "_view_module": "@jupyter-widgets/controls",
            "_view_module_version": "1.5.0",
            "_view_name": "ProgressView",
            "bar_style": "success",
            "description": "",
            "description_tooltip": null,
            "layout": "IPY_MODEL_c83c0cf6323b42dfa73581132eb28641",
            "max": 338,
            "min": 0,
            "orientation": "horizontal",
            "style": "IPY_MODEL_6e55377a3e604a4b9a1d9da710b324a4",
            "value": 338
          }
        },
        "7455ef488b17463d9cb92a5e2e2206f0": {
          "model_module": "@jupyter-widgets/controls",
          "model_module_version": "1.5.0",
          "model_name": "DescriptionStyleModel",
          "state": {
            "_model_module": "@jupyter-widgets/controls",
            "_model_module_version": "1.5.0",
            "_model_name": "DescriptionStyleModel",
            "_view_count": null,
            "_view_module": "@jupyter-widgets/base",
            "_view_module_version": "1.2.0",
            "_view_name": "StyleView",
            "description_width": ""
          }
        },
        "7524eab897c8487d900d3671151140b9": {
          "model_module": "@jupyter-widgets/base",
          "model_module_version": "1.2.0",
          "model_name": "LayoutModel",
          "state": {
            "_model_module": "@jupyter-widgets/base",
            "_model_module_version": "1.2.0",
            "_model_name": "LayoutModel",
            "_view_count": null,
            "_view_module": "@jupyter-widgets/base",
            "_view_module_version": "1.2.0",
            "_view_name": "LayoutView",
            "align_content": null,
            "align_items": null,
            "align_self": null,
            "border": null,
            "bottom": null,
            "display": null,
            "flex": null,
            "flex_flow": null,
            "grid_area": null,
            "grid_auto_columns": null,
            "grid_auto_flow": null,
            "grid_auto_rows": null,
            "grid_column": null,
            "grid_gap": null,
            "grid_row": null,
            "grid_template_areas": null,
            "grid_template_columns": null,
            "grid_template_rows": null,
            "height": null,
            "justify_content": null,
            "justify_items": null,
            "left": null,
            "margin": null,
            "max_height": null,
            "max_width": null,
            "min_height": null,
            "min_width": null,
            "object_fit": null,
            "object_position": null,
            "order": null,
            "overflow": null,
            "overflow_x": null,
            "overflow_y": null,
            "padding": null,
            "right": null,
            "top": null,
            "visibility": null,
            "width": null
          }
        },
        "75b9f538ff2c444eab0ce460f7295b6e": {
          "model_module": "@jupyter-widgets/base",
          "model_module_version": "1.2.0",
          "model_name": "LayoutModel",
          "state": {
            "_model_module": "@jupyter-widgets/base",
            "_model_module_version": "1.2.0",
            "_model_name": "LayoutModel",
            "_view_count": null,
            "_view_module": "@jupyter-widgets/base",
            "_view_module_version": "1.2.0",
            "_view_name": "LayoutView",
            "align_content": null,
            "align_items": null,
            "align_self": null,
            "border": null,
            "bottom": null,
            "display": null,
            "flex": null,
            "flex_flow": null,
            "grid_area": null,
            "grid_auto_columns": null,
            "grid_auto_flow": null,
            "grid_auto_rows": null,
            "grid_column": null,
            "grid_gap": null,
            "grid_row": null,
            "grid_template_areas": null,
            "grid_template_columns": null,
            "grid_template_rows": null,
            "height": null,
            "justify_content": null,
            "justify_items": null,
            "left": null,
            "margin": null,
            "max_height": null,
            "max_width": null,
            "min_height": null,
            "min_width": null,
            "object_fit": null,
            "object_position": null,
            "order": null,
            "overflow": null,
            "overflow_x": null,
            "overflow_y": null,
            "padding": null,
            "right": null,
            "top": null,
            "visibility": null,
            "width": null
          }
        },
        "75f2eec37e474c8f995b07f118bf9090": {
          "model_module": "@jupyter-widgets/controls",
          "model_module_version": "1.5.0",
          "model_name": "DescriptionStyleModel",
          "state": {
            "_model_module": "@jupyter-widgets/controls",
            "_model_module_version": "1.5.0",
            "_model_name": "DescriptionStyleModel",
            "_view_count": null,
            "_view_module": "@jupyter-widgets/base",
            "_view_module_version": "1.2.0",
            "_view_name": "StyleView",
            "description_width": ""
          }
        },
        "792691a860dc4992b6184d08b5231885": {
          "model_module": "@jupyter-widgets/base",
          "model_module_version": "1.2.0",
          "model_name": "LayoutModel",
          "state": {
            "_model_module": "@jupyter-widgets/base",
            "_model_module_version": "1.2.0",
            "_model_name": "LayoutModel",
            "_view_count": null,
            "_view_module": "@jupyter-widgets/base",
            "_view_module_version": "1.2.0",
            "_view_name": "LayoutView",
            "align_content": null,
            "align_items": null,
            "align_self": null,
            "border": null,
            "bottom": null,
            "display": null,
            "flex": null,
            "flex_flow": null,
            "grid_area": null,
            "grid_auto_columns": null,
            "grid_auto_flow": null,
            "grid_auto_rows": null,
            "grid_column": null,
            "grid_gap": null,
            "grid_row": null,
            "grid_template_areas": null,
            "grid_template_columns": null,
            "grid_template_rows": null,
            "height": null,
            "justify_content": null,
            "justify_items": null,
            "left": null,
            "margin": null,
            "max_height": null,
            "max_width": null,
            "min_height": null,
            "min_width": null,
            "object_fit": null,
            "object_position": null,
            "order": null,
            "overflow": null,
            "overflow_x": null,
            "overflow_y": null,
            "padding": null,
            "right": null,
            "top": null,
            "visibility": null,
            "width": null
          }
        },
        "7ade0e30457f4cd6aa6509ef1b5d5f94": {
          "model_module": "@jupyter-widgets/base",
          "model_module_version": "1.2.0",
          "model_name": "LayoutModel",
          "state": {
            "_model_module": "@jupyter-widgets/base",
            "_model_module_version": "1.2.0",
            "_model_name": "LayoutModel",
            "_view_count": null,
            "_view_module": "@jupyter-widgets/base",
            "_view_module_version": "1.2.0",
            "_view_name": "LayoutView",
            "align_content": null,
            "align_items": null,
            "align_self": null,
            "border": null,
            "bottom": null,
            "display": null,
            "flex": null,
            "flex_flow": null,
            "grid_area": null,
            "grid_auto_columns": null,
            "grid_auto_flow": null,
            "grid_auto_rows": null,
            "grid_column": null,
            "grid_gap": null,
            "grid_row": null,
            "grid_template_areas": null,
            "grid_template_columns": null,
            "grid_template_rows": null,
            "height": null,
            "justify_content": null,
            "justify_items": null,
            "left": null,
            "margin": null,
            "max_height": null,
            "max_width": null,
            "min_height": null,
            "min_width": null,
            "object_fit": null,
            "object_position": null,
            "order": null,
            "overflow": null,
            "overflow_x": null,
            "overflow_y": null,
            "padding": null,
            "right": null,
            "top": null,
            "visibility": null,
            "width": null
          }
        },
        "7bc4f7ab09684e5eaa03292cced8f5ec": {
          "model_module": "@jupyter-widgets/base",
          "model_module_version": "1.2.0",
          "model_name": "LayoutModel",
          "state": {
            "_model_module": "@jupyter-widgets/base",
            "_model_module_version": "1.2.0",
            "_model_name": "LayoutModel",
            "_view_count": null,
            "_view_module": "@jupyter-widgets/base",
            "_view_module_version": "1.2.0",
            "_view_name": "LayoutView",
            "align_content": null,
            "align_items": null,
            "align_self": null,
            "border": null,
            "bottom": null,
            "display": null,
            "flex": null,
            "flex_flow": null,
            "grid_area": null,
            "grid_auto_columns": null,
            "grid_auto_flow": null,
            "grid_auto_rows": null,
            "grid_column": null,
            "grid_gap": null,
            "grid_row": null,
            "grid_template_areas": null,
            "grid_template_columns": null,
            "grid_template_rows": null,
            "height": null,
            "justify_content": null,
            "justify_items": null,
            "left": null,
            "margin": null,
            "max_height": null,
            "max_width": null,
            "min_height": null,
            "min_width": null,
            "object_fit": null,
            "object_position": null,
            "order": null,
            "overflow": null,
            "overflow_x": null,
            "overflow_y": null,
            "padding": null,
            "right": null,
            "top": null,
            "visibility": null,
            "width": null
          }
        },
        "7bf83c6f99ad40b1a2bd207a8eaa99ae": {
          "model_module": "@jupyter-widgets/controls",
          "model_module_version": "1.5.0",
          "model_name": "DescriptionStyleModel",
          "state": {
            "_model_module": "@jupyter-widgets/controls",
            "_model_module_version": "1.5.0",
            "_model_name": "DescriptionStyleModel",
            "_view_count": null,
            "_view_module": "@jupyter-widgets/base",
            "_view_module_version": "1.2.0",
            "_view_name": "StyleView",
            "description_width": ""
          }
        },
        "7ce9fe5946274b2590b36958740c8e30": {
          "model_module": "@jupyter-widgets/base",
          "model_module_version": "1.2.0",
          "model_name": "LayoutModel",
          "state": {
            "_model_module": "@jupyter-widgets/base",
            "_model_module_version": "1.2.0",
            "_model_name": "LayoutModel",
            "_view_count": null,
            "_view_module": "@jupyter-widgets/base",
            "_view_module_version": "1.2.0",
            "_view_name": "LayoutView",
            "align_content": null,
            "align_items": null,
            "align_self": null,
            "border": null,
            "bottom": null,
            "display": null,
            "flex": null,
            "flex_flow": null,
            "grid_area": null,
            "grid_auto_columns": null,
            "grid_auto_flow": null,
            "grid_auto_rows": null,
            "grid_column": null,
            "grid_gap": null,
            "grid_row": null,
            "grid_template_areas": null,
            "grid_template_columns": null,
            "grid_template_rows": null,
            "height": null,
            "justify_content": null,
            "justify_items": null,
            "left": null,
            "margin": null,
            "max_height": null,
            "max_width": null,
            "min_height": null,
            "min_width": null,
            "object_fit": null,
            "object_position": null,
            "order": null,
            "overflow": null,
            "overflow_x": null,
            "overflow_y": null,
            "padding": null,
            "right": null,
            "top": null,
            "visibility": null,
            "width": null
          }
        },
        "884f23f2de24421189d398d6014b2469": {
          "model_module": "@jupyter-widgets/base",
          "model_module_version": "1.2.0",
          "model_name": "LayoutModel",
          "state": {
            "_model_module": "@jupyter-widgets/base",
            "_model_module_version": "1.2.0",
            "_model_name": "LayoutModel",
            "_view_count": null,
            "_view_module": "@jupyter-widgets/base",
            "_view_module_version": "1.2.0",
            "_view_name": "LayoutView",
            "align_content": null,
            "align_items": null,
            "align_self": null,
            "border": null,
            "bottom": null,
            "display": null,
            "flex": null,
            "flex_flow": null,
            "grid_area": null,
            "grid_auto_columns": null,
            "grid_auto_flow": null,
            "grid_auto_rows": null,
            "grid_column": null,
            "grid_gap": null,
            "grid_row": null,
            "grid_template_areas": null,
            "grid_template_columns": null,
            "grid_template_rows": null,
            "height": null,
            "justify_content": null,
            "justify_items": null,
            "left": null,
            "margin": null,
            "max_height": null,
            "max_width": null,
            "min_height": null,
            "min_width": null,
            "object_fit": null,
            "object_position": null,
            "order": null,
            "overflow": null,
            "overflow_x": null,
            "overflow_y": null,
            "padding": null,
            "right": null,
            "top": null,
            "visibility": null,
            "width": null
          }
        },
        "922d8c942aed47978310f417402e4ced": {
          "model_module": "@jupyter-widgets/controls",
          "model_module_version": "1.5.0",
          "model_name": "HTMLModel",
          "state": {
            "_dom_classes": [],
            "_model_module": "@jupyter-widgets/controls",
            "_model_module_version": "1.5.0",
            "_model_name": "HTMLModel",
            "_view_count": null,
            "_view_module": "@jupyter-widgets/controls",
            "_view_module_version": "1.5.0",
            "_view_name": "HTMLView",
            "description": "",
            "description_tooltip": null,
            "layout": "IPY_MODEL_9855b5a893b64f53b98a6e52eafcacb5",
            "placeholder": "​",
            "style": "IPY_MODEL_fb17bbcf1a104266aafc161f171a82a1",
            "value": "Labelling Comments: 100%"
          }
        },
        "940aeb5b8eab46de9210f89b0470e0a9": {
          "model_module": "@jupyter-widgets/controls",
          "model_module_version": "1.5.0",
          "model_name": "ProgressStyleModel",
          "state": {
            "_model_module": "@jupyter-widgets/controls",
            "_model_module_version": "1.5.0",
            "_model_name": "ProgressStyleModel",
            "_view_count": null,
            "_view_module": "@jupyter-widgets/base",
            "_view_module_version": "1.2.0",
            "_view_name": "StyleView",
            "bar_color": null,
            "description_width": ""
          }
        },
        "960f18615d394e96aef6d7a6908e5e04": {
          "model_module": "@jupyter-widgets/controls",
          "model_module_version": "1.5.0",
          "model_name": "DescriptionStyleModel",
          "state": {
            "_model_module": "@jupyter-widgets/controls",
            "_model_module_version": "1.5.0",
            "_model_name": "DescriptionStyleModel",
            "_view_count": null,
            "_view_module": "@jupyter-widgets/base",
            "_view_module_version": "1.2.0",
            "_view_name": "StyleView",
            "description_width": ""
          }
        },
        "9624934b4f82424fade13ba3639a11ca": {
          "model_module": "@jupyter-widgets/base",
          "model_module_version": "1.2.0",
          "model_name": "LayoutModel",
          "state": {
            "_model_module": "@jupyter-widgets/base",
            "_model_module_version": "1.2.0",
            "_model_name": "LayoutModel",
            "_view_count": null,
            "_view_module": "@jupyter-widgets/base",
            "_view_module_version": "1.2.0",
            "_view_name": "LayoutView",
            "align_content": null,
            "align_items": null,
            "align_self": null,
            "border": null,
            "bottom": null,
            "display": null,
            "flex": null,
            "flex_flow": null,
            "grid_area": null,
            "grid_auto_columns": null,
            "grid_auto_flow": null,
            "grid_auto_rows": null,
            "grid_column": null,
            "grid_gap": null,
            "grid_row": null,
            "grid_template_areas": null,
            "grid_template_columns": null,
            "grid_template_rows": null,
            "height": null,
            "justify_content": null,
            "justify_items": null,
            "left": null,
            "margin": null,
            "max_height": null,
            "max_width": null,
            "min_height": null,
            "min_width": null,
            "object_fit": null,
            "object_position": null,
            "order": null,
            "overflow": null,
            "overflow_x": null,
            "overflow_y": null,
            "padding": null,
            "right": null,
            "top": null,
            "visibility": null,
            "width": null
          }
        },
        "962dbd691522477aaaea23e4ef2ff07d": {
          "model_module": "@jupyter-widgets/base",
          "model_module_version": "1.2.0",
          "model_name": "LayoutModel",
          "state": {
            "_model_module": "@jupyter-widgets/base",
            "_model_module_version": "1.2.0",
            "_model_name": "LayoutModel",
            "_view_count": null,
            "_view_module": "@jupyter-widgets/base",
            "_view_module_version": "1.2.0",
            "_view_name": "LayoutView",
            "align_content": null,
            "align_items": null,
            "align_self": null,
            "border": null,
            "bottom": null,
            "display": null,
            "flex": null,
            "flex_flow": null,
            "grid_area": null,
            "grid_auto_columns": null,
            "grid_auto_flow": null,
            "grid_auto_rows": null,
            "grid_column": null,
            "grid_gap": null,
            "grid_row": null,
            "grid_template_areas": null,
            "grid_template_columns": null,
            "grid_template_rows": null,
            "height": null,
            "justify_content": null,
            "justify_items": null,
            "left": null,
            "margin": null,
            "max_height": null,
            "max_width": null,
            "min_height": null,
            "min_width": null,
            "object_fit": null,
            "object_position": null,
            "order": null,
            "overflow": null,
            "overflow_x": null,
            "overflow_y": null,
            "padding": null,
            "right": null,
            "top": null,
            "visibility": null,
            "width": null
          }
        },
        "9855b5a893b64f53b98a6e52eafcacb5": {
          "model_module": "@jupyter-widgets/base",
          "model_module_version": "1.2.0",
          "model_name": "LayoutModel",
          "state": {
            "_model_module": "@jupyter-widgets/base",
            "_model_module_version": "1.2.0",
            "_model_name": "LayoutModel",
            "_view_count": null,
            "_view_module": "@jupyter-widgets/base",
            "_view_module_version": "1.2.0",
            "_view_name": "LayoutView",
            "align_content": null,
            "align_items": null,
            "align_self": null,
            "border": null,
            "bottom": null,
            "display": null,
            "flex": null,
            "flex_flow": null,
            "grid_area": null,
            "grid_auto_columns": null,
            "grid_auto_flow": null,
            "grid_auto_rows": null,
            "grid_column": null,
            "grid_gap": null,
            "grid_row": null,
            "grid_template_areas": null,
            "grid_template_columns": null,
            "grid_template_rows": null,
            "height": null,
            "justify_content": null,
            "justify_items": null,
            "left": null,
            "margin": null,
            "max_height": null,
            "max_width": null,
            "min_height": null,
            "min_width": null,
            "object_fit": null,
            "object_position": null,
            "order": null,
            "overflow": null,
            "overflow_x": null,
            "overflow_y": null,
            "padding": null,
            "right": null,
            "top": null,
            "visibility": null,
            "width": null
          }
        },
        "9958b43514bb4d5581750166fe6e053b": {
          "model_module": "@jupyter-widgets/controls",
          "model_module_version": "1.5.0",
          "model_name": "HTMLModel",
          "state": {
            "_dom_classes": [],
            "_model_module": "@jupyter-widgets/controls",
            "_model_module_version": "1.5.0",
            "_model_name": "HTMLModel",
            "_view_count": null,
            "_view_module": "@jupyter-widgets/controls",
            "_view_module_version": "1.5.0",
            "_view_name": "HTMLView",
            "description": "",
            "description_tooltip": null,
            "layout": "IPY_MODEL_d163534809374c11b60c2110f78d2226",
            "placeholder": "​",
            "style": "IPY_MODEL_7bf83c6f99ad40b1a2bd207a8eaa99ae",
            "value": "special_tokens_map.json: 100%"
          }
        },
        "9c97cba3bafa43218d338c2befd6e49c": {
          "model_module": "@jupyter-widgets/controls",
          "model_module_version": "1.5.0",
          "model_name": "HTMLModel",
          "state": {
            "_dom_classes": [],
            "_model_module": "@jupyter-widgets/controls",
            "_model_module_version": "1.5.0",
            "_model_name": "HTMLModel",
            "_view_count": null,
            "_view_module": "@jupyter-widgets/controls",
            "_view_module_version": "1.5.0",
            "_view_name": "HTMLView",
            "description": "",
            "description_tooltip": null,
            "layout": "IPY_MODEL_62a5d2ee77b246f9b67dc6ac2d80912c",
            "placeholder": "​",
            "style": "IPY_MODEL_3a9f7f341df641fa834ec16d34ef8fde",
            "value": " 540M/540M [00:06&lt;00:00, 82.7MB/s]"
          }
        },
        "9dfd8cf44ab6443885202e431a6b7d77": {
          "model_module": "@jupyter-widgets/base",
          "model_module_version": "1.2.0",
          "model_name": "LayoutModel",
          "state": {
            "_model_module": "@jupyter-widgets/base",
            "_model_module_version": "1.2.0",
            "_model_name": "LayoutModel",
            "_view_count": null,
            "_view_module": "@jupyter-widgets/base",
            "_view_module_version": "1.2.0",
            "_view_name": "LayoutView",
            "align_content": null,
            "align_items": null,
            "align_self": null,
            "border": null,
            "bottom": null,
            "display": null,
            "flex": null,
            "flex_flow": null,
            "grid_area": null,
            "grid_auto_columns": null,
            "grid_auto_flow": null,
            "grid_auto_rows": null,
            "grid_column": null,
            "grid_gap": null,
            "grid_row": null,
            "grid_template_areas": null,
            "grid_template_columns": null,
            "grid_template_rows": null,
            "height": null,
            "justify_content": null,
            "justify_items": null,
            "left": null,
            "margin": null,
            "max_height": null,
            "max_width": null,
            "min_height": null,
            "min_width": null,
            "object_fit": null,
            "object_position": null,
            "order": null,
            "overflow": null,
            "overflow_x": null,
            "overflow_y": null,
            "padding": null,
            "right": null,
            "top": null,
            "visibility": null,
            "width": null
          }
        },
        "a0df3de78c5a4099809ad74db3a5a6c1": {
          "model_module": "@jupyter-widgets/controls",
          "model_module_version": "1.5.0",
          "model_name": "ProgressStyleModel",
          "state": {
            "_model_module": "@jupyter-widgets/controls",
            "_model_module_version": "1.5.0",
            "_model_name": "ProgressStyleModel",
            "_view_count": null,
            "_view_module": "@jupyter-widgets/base",
            "_view_module_version": "1.2.0",
            "_view_name": "StyleView",
            "bar_color": null,
            "description_width": ""
          }
        },
        "a12f972e72ff4899a384c7ea9cfd91c7": {
          "model_module": "@jupyter-widgets/controls",
          "model_module_version": "1.5.0",
          "model_name": "FloatProgressModel",
          "state": {
            "_dom_classes": [],
            "_model_module": "@jupyter-widgets/controls",
            "_model_module_version": "1.5.0",
            "_model_name": "FloatProgressModel",
            "_view_count": null,
            "_view_module": "@jupyter-widgets/controls",
            "_view_module_version": "1.5.0",
            "_view_name": "ProgressView",
            "bar_style": "success",
            "description": "",
            "description_tooltip": null,
            "layout": "IPY_MODEL_792691a860dc4992b6184d08b5231885",
            "max": 843438,
            "min": 0,
            "orientation": "horizontal",
            "style": "IPY_MODEL_940aeb5b8eab46de9210f89b0470e0a9",
            "value": 843438
          }
        },
        "a15888cb19b64f5b8ccf446d02c8e73c": {
          "model_module": "@jupyter-widgets/controls",
          "model_module_version": "1.5.0",
          "model_name": "HTMLModel",
          "state": {
            "_dom_classes": [],
            "_model_module": "@jupyter-widgets/controls",
            "_model_module_version": "1.5.0",
            "_model_name": "HTMLModel",
            "_view_count": null,
            "_view_module": "@jupyter-widgets/controls",
            "_view_module_version": "1.5.0",
            "_view_name": "HTMLView",
            "description": "",
            "description_tooltip": null,
            "layout": "IPY_MODEL_7bc4f7ab09684e5eaa03292cced8f5ec",
            "placeholder": "​",
            "style": "IPY_MODEL_25146446bfa64b969a64ee02d7360622",
            "value": " 22.0/22.0 [00:00&lt;00:00, 818B/s]"
          }
        },
        "a67025264de24634b89736316ebc34c5": {
          "model_module": "@jupyter-widgets/base",
          "model_module_version": "1.2.0",
          "model_name": "LayoutModel",
          "state": {
            "_model_module": "@jupyter-widgets/base",
            "_model_module_version": "1.2.0",
            "_model_name": "LayoutModel",
            "_view_count": null,
            "_view_module": "@jupyter-widgets/base",
            "_view_module_version": "1.2.0",
            "_view_name": "LayoutView",
            "align_content": null,
            "align_items": null,
            "align_self": null,
            "border": null,
            "bottom": null,
            "display": null,
            "flex": null,
            "flex_flow": null,
            "grid_area": null,
            "grid_auto_columns": null,
            "grid_auto_flow": null,
            "grid_auto_rows": null,
            "grid_column": null,
            "grid_gap": null,
            "grid_row": null,
            "grid_template_areas": null,
            "grid_template_columns": null,
            "grid_template_rows": null,
            "height": null,
            "justify_content": null,
            "justify_items": null,
            "left": null,
            "margin": null,
            "max_height": null,
            "max_width": null,
            "min_height": null,
            "min_width": null,
            "object_fit": null,
            "object_position": null,
            "order": null,
            "overflow": null,
            "overflow_x": null,
            "overflow_y": null,
            "padding": null,
            "right": null,
            "top": null,
            "visibility": null,
            "width": null
          }
        },
        "a771f5d04c2342609768adff2ba73d65": {
          "model_module": "@jupyter-widgets/controls",
          "model_module_version": "1.5.0",
          "model_name": "FloatProgressModel",
          "state": {
            "_dom_classes": [],
            "_model_module": "@jupyter-widgets/controls",
            "_model_module_version": "1.5.0",
            "_model_name": "FloatProgressModel",
            "_view_count": null,
            "_view_module": "@jupyter-widgets/controls",
            "_view_module_version": "1.5.0",
            "_view_name": "ProgressView",
            "bar_style": "success",
            "description": "",
            "description_tooltip": null,
            "layout": "IPY_MODEL_bb07f5c5ddaa44aca5a91188ba788c8b",
            "max": 167,
            "min": 0,
            "orientation": "horizontal",
            "style": "IPY_MODEL_48b68b5cb1644199b8e6ca264aaac2fa",
            "value": 167
          }
        },
        "a778bdc973b44c968b02b696d2e6df3a": {
          "model_module": "@jupyter-widgets/controls",
          "model_module_version": "1.5.0",
          "model_name": "HBoxModel",
          "state": {
            "_dom_classes": [],
            "_model_module": "@jupyter-widgets/controls",
            "_model_module_version": "1.5.0",
            "_model_name": "HBoxModel",
            "_view_count": null,
            "_view_module": "@jupyter-widgets/controls",
            "_view_module_version": "1.5.0",
            "_view_name": "HBoxView",
            "box_style": "",
            "children": [
              "IPY_MODEL_31abe275b91a424fa0d1986ceb8857d3",
              "IPY_MODEL_5a91a62b2b0b427abf208796e8d2fe91",
              "IPY_MODEL_b8827b62e6584b678f9a8f4dff318845"
            ],
            "layout": "IPY_MODEL_305b9f6a73fb42e8bbb287acc480275a"
          }
        },
        "a93e7bfdc9614659b80cd9e42cfa3dcf": {
          "model_module": "@jupyter-widgets/controls",
          "model_module_version": "1.5.0",
          "model_name": "HBoxModel",
          "state": {
            "_dom_classes": [],
            "_model_module": "@jupyter-widgets/controls",
            "_model_module_version": "1.5.0",
            "_model_name": "HBoxModel",
            "_view_count": null,
            "_view_module": "@jupyter-widgets/controls",
            "_view_module_version": "1.5.0",
            "_view_name": "HBoxView",
            "box_style": "",
            "children": [
              "IPY_MODEL_922d8c942aed47978310f417402e4ced",
              "IPY_MODEL_b444b493c6c741d1ba0c710eed885287",
              "IPY_MODEL_1a1779c8b12b47468eb2deed72e1b3ce"
            ],
            "layout": "IPY_MODEL_e4ae8d375f86468c9925fe621b9dd9da"
          }
        },
        "b444b493c6c741d1ba0c710eed885287": {
          "model_module": "@jupyter-widgets/controls",
          "model_module_version": "1.5.0",
          "model_name": "FloatProgressModel",
          "state": {
            "_dom_classes": [],
            "_model_module": "@jupyter-widgets/controls",
            "_model_module_version": "1.5.0",
            "_model_name": "FloatProgressModel",
            "_view_count": null,
            "_view_module": "@jupyter-widgets/controls",
            "_view_module_version": "1.5.0",
            "_view_name": "ProgressView",
            "bar_style": "success",
            "description": "",
            "description_tooltip": null,
            "layout": "IPY_MODEL_75b9f538ff2c444eab0ce460f7295b6e",
            "max": 82905,
            "min": 0,
            "orientation": "horizontal",
            "style": "IPY_MODEL_2793a569721049a6994d2cb6ff6454d1",
            "value": 82905
          }
        },
        "b56fedd34b3549479d4f3cb4bfdd88d0": {
          "model_module": "@jupyter-widgets/base",
          "model_module_version": "1.2.0",
          "model_name": "LayoutModel",
          "state": {
            "_model_module": "@jupyter-widgets/base",
            "_model_module_version": "1.2.0",
            "_model_name": "LayoutModel",
            "_view_count": null,
            "_view_module": "@jupyter-widgets/base",
            "_view_module_version": "1.2.0",
            "_view_name": "LayoutView",
            "align_content": null,
            "align_items": null,
            "align_self": null,
            "border": null,
            "bottom": null,
            "display": null,
            "flex": null,
            "flex_flow": null,
            "grid_area": null,
            "grid_auto_columns": null,
            "grid_auto_flow": null,
            "grid_auto_rows": null,
            "grid_column": null,
            "grid_gap": null,
            "grid_row": null,
            "grid_template_areas": null,
            "grid_template_columns": null,
            "grid_template_rows": null,
            "height": null,
            "justify_content": null,
            "justify_items": null,
            "left": null,
            "margin": null,
            "max_height": null,
            "max_width": null,
            "min_height": null,
            "min_width": null,
            "object_fit": null,
            "object_position": null,
            "order": null,
            "overflow": null,
            "overflow_x": null,
            "overflow_y": null,
            "padding": null,
            "right": null,
            "top": null,
            "visibility": null,
            "width": null
          }
        },
        "b80624bee8214ddb99a65329566fcc1a": {
          "model_module": "@jupyter-widgets/controls",
          "model_module_version": "1.5.0",
          "model_name": "DescriptionStyleModel",
          "state": {
            "_model_module": "@jupyter-widgets/controls",
            "_model_module_version": "1.5.0",
            "_model_name": "DescriptionStyleModel",
            "_view_count": null,
            "_view_module": "@jupyter-widgets/base",
            "_view_module_version": "1.2.0",
            "_view_name": "StyleView",
            "description_width": ""
          }
        },
        "b823dd1dca1f4cfdb53bb0afc7ed0c6e": {
          "model_module": "@jupyter-widgets/controls",
          "model_module_version": "1.5.0",
          "model_name": "HBoxModel",
          "state": {
            "_dom_classes": [],
            "_model_module": "@jupyter-widgets/controls",
            "_model_module_version": "1.5.0",
            "_model_name": "HBoxModel",
            "_view_count": null,
            "_view_module": "@jupyter-widgets/controls",
            "_view_module_version": "1.5.0",
            "_view_name": "HBoxView",
            "box_style": "",
            "children": [
              "IPY_MODEL_1f625da70f404469bc091c09500f3e1d",
              "IPY_MODEL_a12f972e72ff4899a384c7ea9cfd91c7",
              "IPY_MODEL_c7668a2d7669468b8556c834598c123a"
            ],
            "layout": "IPY_MODEL_31c07efcb16b492584e1444d49a0daa0"
          }
        },
        "b82d26e3ea434f8fb6ef6725d435d259": {
          "model_module": "@jupyter-widgets/controls",
          "model_module_version": "1.5.0",
          "model_name": "DescriptionStyleModel",
          "state": {
            "_model_module": "@jupyter-widgets/controls",
            "_model_module_version": "1.5.0",
            "_model_name": "DescriptionStyleModel",
            "_view_count": null,
            "_view_module": "@jupyter-widgets/base",
            "_view_module_version": "1.2.0",
            "_view_name": "StyleView",
            "description_width": ""
          }
        },
        "b8537f2fdf074fdca2274850c0e2704f": {
          "model_module": "@jupyter-widgets/controls",
          "model_module_version": "1.5.0",
          "model_name": "DescriptionStyleModel",
          "state": {
            "_model_module": "@jupyter-widgets/controls",
            "_model_module_version": "1.5.0",
            "_model_name": "DescriptionStyleModel",
            "_view_count": null,
            "_view_module": "@jupyter-widgets/base",
            "_view_module_version": "1.2.0",
            "_view_name": "StyleView",
            "description_width": ""
          }
        },
        "b8827b62e6584b678f9a8f4dff318845": {
          "model_module": "@jupyter-widgets/controls",
          "model_module_version": "1.5.0",
          "model_name": "HTMLModel",
          "state": {
            "_dom_classes": [],
            "_model_module": "@jupyter-widgets/controls",
            "_model_module_version": "1.5.0",
            "_model_name": "HTMLModel",
            "_view_count": null,
            "_view_module": "@jupyter-widgets/controls",
            "_view_module_version": "1.5.0",
            "_view_name": "HTMLView",
            "description": "",
            "description_tooltip": null,
            "layout": "IPY_MODEL_9624934b4f82424fade13ba3639a11ca",
            "placeholder": "​",
            "style": "IPY_MODEL_06571f2bcd96471dae1df948c25ff251",
            "value": " 1.08M/1.08M [00:00&lt;00:00, 13.5MB/s]"
          }
        },
        "bb07f5c5ddaa44aca5a91188ba788c8b": {
          "model_module": "@jupyter-widgets/base",
          "model_module_version": "1.2.0",
          "model_name": "LayoutModel",
          "state": {
            "_model_module": "@jupyter-widgets/base",
            "_model_module_version": "1.2.0",
            "_model_name": "LayoutModel",
            "_view_count": null,
            "_view_module": "@jupyter-widgets/base",
            "_view_module_version": "1.2.0",
            "_view_name": "LayoutView",
            "align_content": null,
            "align_items": null,
            "align_self": null,
            "border": null,
            "bottom": null,
            "display": null,
            "flex": null,
            "flex_flow": null,
            "grid_area": null,
            "grid_auto_columns": null,
            "grid_auto_flow": null,
            "grid_auto_rows": null,
            "grid_column": null,
            "grid_gap": null,
            "grid_row": null,
            "grid_template_areas": null,
            "grid_template_columns": null,
            "grid_template_rows": null,
            "height": null,
            "justify_content": null,
            "justify_items": null,
            "left": null,
            "margin": null,
            "max_height": null,
            "max_width": null,
            "min_height": null,
            "min_width": null,
            "object_fit": null,
            "object_position": null,
            "order": null,
            "overflow": null,
            "overflow_x": null,
            "overflow_y": null,
            "padding": null,
            "right": null,
            "top": null,
            "visibility": null,
            "width": null
          }
        },
        "bfd2652faa8d432a81cef19626e1854a": {
          "model_module": "@jupyter-widgets/controls",
          "model_module_version": "1.5.0",
          "model_name": "HBoxModel",
          "state": {
            "_dom_classes": [],
            "_model_module": "@jupyter-widgets/controls",
            "_model_module_version": "1.5.0",
            "_model_name": "HBoxModel",
            "_view_count": null,
            "_view_module": "@jupyter-widgets/controls",
            "_view_module_version": "1.5.0",
            "_view_name": "HBoxView",
            "box_style": "",
            "children": [
              "IPY_MODEL_56cc06321734453aafe29403c34ec2f8",
              "IPY_MODEL_1a00fed511d44afa8b1f2d576a156aa8",
              "IPY_MODEL_a15888cb19b64f5b8ccf446d02c8e73c"
            ],
            "layout": "IPY_MODEL_a67025264de24634b89736316ebc34c5"
          }
        },
        "c233e064fd5244e38f62c3f9214d6292": {
          "model_module": "@jupyter-widgets/base",
          "model_module_version": "1.2.0",
          "model_name": "LayoutModel",
          "state": {
            "_model_module": "@jupyter-widgets/base",
            "_model_module_version": "1.2.0",
            "_model_name": "LayoutModel",
            "_view_count": null,
            "_view_module": "@jupyter-widgets/base",
            "_view_module_version": "1.2.0",
            "_view_name": "LayoutView",
            "align_content": null,
            "align_items": null,
            "align_self": null,
            "border": null,
            "bottom": null,
            "display": null,
            "flex": null,
            "flex_flow": null,
            "grid_area": null,
            "grid_auto_columns": null,
            "grid_auto_flow": null,
            "grid_auto_rows": null,
            "grid_column": null,
            "grid_gap": null,
            "grid_row": null,
            "grid_template_areas": null,
            "grid_template_columns": null,
            "grid_template_rows": null,
            "height": null,
            "justify_content": null,
            "justify_items": null,
            "left": null,
            "margin": null,
            "max_height": null,
            "max_width": null,
            "min_height": null,
            "min_width": null,
            "object_fit": null,
            "object_position": null,
            "order": null,
            "overflow": null,
            "overflow_x": null,
            "overflow_y": null,
            "padding": null,
            "right": null,
            "top": null,
            "visibility": null,
            "width": null
          }
        },
        "c28c8f98ff84443ba5ef85a2d6910ec7": {
          "model_module": "@jupyter-widgets/base",
          "model_module_version": "1.2.0",
          "model_name": "LayoutModel",
          "state": {
            "_model_module": "@jupyter-widgets/base",
            "_model_module_version": "1.2.0",
            "_model_name": "LayoutModel",
            "_view_count": null,
            "_view_module": "@jupyter-widgets/base",
            "_view_module_version": "1.2.0",
            "_view_name": "LayoutView",
            "align_content": null,
            "align_items": null,
            "align_self": null,
            "border": null,
            "bottom": null,
            "display": null,
            "flex": null,
            "flex_flow": null,
            "grid_area": null,
            "grid_auto_columns": null,
            "grid_auto_flow": null,
            "grid_auto_rows": null,
            "grid_column": null,
            "grid_gap": null,
            "grid_row": null,
            "grid_template_areas": null,
            "grid_template_columns": null,
            "grid_template_rows": null,
            "height": null,
            "justify_content": null,
            "justify_items": null,
            "left": null,
            "margin": null,
            "max_height": null,
            "max_width": null,
            "min_height": null,
            "min_width": null,
            "object_fit": null,
            "object_position": null,
            "order": null,
            "overflow": null,
            "overflow_x": null,
            "overflow_y": null,
            "padding": null,
            "right": null,
            "top": null,
            "visibility": null,
            "width": null
          }
        },
        "c7668a2d7669468b8556c834598c123a": {
          "model_module": "@jupyter-widgets/controls",
          "model_module_version": "1.5.0",
          "model_name": "HTMLModel",
          "state": {
            "_dom_classes": [],
            "_model_module": "@jupyter-widgets/controls",
            "_model_module_version": "1.5.0",
            "_model_name": "HTMLModel",
            "_view_count": null,
            "_view_module": "@jupyter-widgets/controls",
            "_view_module_version": "1.5.0",
            "_view_name": "HTMLView",
            "description": "",
            "description_tooltip": null,
            "layout": "IPY_MODEL_7ce9fe5946274b2590b36958740c8e30",
            "placeholder": "​",
            "style": "IPY_MODEL_75f2eec37e474c8f995b07f118bf9090",
            "value": " 843k/843k [00:00&lt;00:00, 6.92MB/s]"
          }
        },
        "c83c0cf6323b42dfa73581132eb28641": {
          "model_module": "@jupyter-widgets/base",
          "model_module_version": "1.2.0",
          "model_name": "LayoutModel",
          "state": {
            "_model_module": "@jupyter-widgets/base",
            "_model_module_version": "1.2.0",
            "_model_name": "LayoutModel",
            "_view_count": null,
            "_view_module": "@jupyter-widgets/base",
            "_view_module_version": "1.2.0",
            "_view_name": "LayoutView",
            "align_content": null,
            "align_items": null,
            "align_self": null,
            "border": null,
            "bottom": null,
            "display": null,
            "flex": null,
            "flex_flow": null,
            "grid_area": null,
            "grid_auto_columns": null,
            "grid_auto_flow": null,
            "grid_auto_rows": null,
            "grid_column": null,
            "grid_gap": null,
            "grid_row": null,
            "grid_template_areas": null,
            "grid_template_columns": null,
            "grid_template_rows": null,
            "height": null,
            "justify_content": null,
            "justify_items": null,
            "left": null,
            "margin": null,
            "max_height": null,
            "max_width": null,
            "min_height": null,
            "min_width": null,
            "object_fit": null,
            "object_position": null,
            "order": null,
            "overflow": null,
            "overflow_x": null,
            "overflow_y": null,
            "padding": null,
            "right": null,
            "top": null,
            "visibility": null,
            "width": null
          }
        },
        "cb6618c9241242ea977ab5512942b2e2": {
          "model_module": "@jupyter-widgets/controls",
          "model_module_version": "1.5.0",
          "model_name": "HBoxModel",
          "state": {
            "_dom_classes": [],
            "_model_module": "@jupyter-widgets/controls",
            "_model_module_version": "1.5.0",
            "_model_name": "HBoxModel",
            "_view_count": null,
            "_view_module": "@jupyter-widgets/controls",
            "_view_module_version": "1.5.0",
            "_view_name": "HBoxView",
            "box_style": "",
            "children": [
              "IPY_MODEL_ee9f7379c29e4ce3880f162b29f310cd",
              "IPY_MODEL_026042a9e3e3493f9069216328e450cf",
              "IPY_MODEL_9c97cba3bafa43218d338c2befd6e49c"
            ],
            "layout": "IPY_MODEL_f30c5763f0594343a0dc8633568317f8"
          }
        },
        "d163534809374c11b60c2110f78d2226": {
          "model_module": "@jupyter-widgets/base",
          "model_module_version": "1.2.0",
          "model_name": "LayoutModel",
          "state": {
            "_model_module": "@jupyter-widgets/base",
            "_model_module_version": "1.2.0",
            "_model_name": "LayoutModel",
            "_view_count": null,
            "_view_module": "@jupyter-widgets/base",
            "_view_module_version": "1.2.0",
            "_view_name": "LayoutView",
            "align_content": null,
            "align_items": null,
            "align_self": null,
            "border": null,
            "bottom": null,
            "display": null,
            "flex": null,
            "flex_flow": null,
            "grid_area": null,
            "grid_auto_columns": null,
            "grid_auto_flow": null,
            "grid_auto_rows": null,
            "grid_column": null,
            "grid_gap": null,
            "grid_row": null,
            "grid_template_areas": null,
            "grid_template_columns": null,
            "grid_template_rows": null,
            "height": null,
            "justify_content": null,
            "justify_items": null,
            "left": null,
            "margin": null,
            "max_height": null,
            "max_width": null,
            "min_height": null,
            "min_width": null,
            "object_fit": null,
            "object_position": null,
            "order": null,
            "overflow": null,
            "overflow_x": null,
            "overflow_y": null,
            "padding": null,
            "right": null,
            "top": null,
            "visibility": null,
            "width": null
          }
        },
        "d7861c8b2fb44a0791cbb43d9c3ad456": {
          "model_module": "@jupyter-widgets/base",
          "model_module_version": "1.2.0",
          "model_name": "LayoutModel",
          "state": {
            "_model_module": "@jupyter-widgets/base",
            "_model_module_version": "1.2.0",
            "_model_name": "LayoutModel",
            "_view_count": null,
            "_view_module": "@jupyter-widgets/base",
            "_view_module_version": "1.2.0",
            "_view_name": "LayoutView",
            "align_content": null,
            "align_items": null,
            "align_self": null,
            "border": null,
            "bottom": null,
            "display": null,
            "flex": null,
            "flex_flow": null,
            "grid_area": null,
            "grid_auto_columns": null,
            "grid_auto_flow": null,
            "grid_auto_rows": null,
            "grid_column": null,
            "grid_gap": null,
            "grid_row": null,
            "grid_template_areas": null,
            "grid_template_columns": null,
            "grid_template_rows": null,
            "height": null,
            "justify_content": null,
            "justify_items": null,
            "left": null,
            "margin": null,
            "max_height": null,
            "max_width": null,
            "min_height": null,
            "min_width": null,
            "object_fit": null,
            "object_position": null,
            "order": null,
            "overflow": null,
            "overflow_x": null,
            "overflow_y": null,
            "padding": null,
            "right": null,
            "top": null,
            "visibility": null,
            "width": null
          }
        },
        "dd24fb9c92b349eebf9f41b9565e2d82": {
          "model_module": "@jupyter-widgets/controls",
          "model_module_version": "1.5.0",
          "model_name": "ProgressStyleModel",
          "state": {
            "_model_module": "@jupyter-widgets/controls",
            "_model_module_version": "1.5.0",
            "_model_name": "ProgressStyleModel",
            "_view_count": null,
            "_view_module": "@jupyter-widgets/base",
            "_view_module_version": "1.2.0",
            "_view_name": "StyleView",
            "bar_color": null,
            "description_width": ""
          }
        },
        "de651082b16a4c6d96b1bbcc51d39fd2": {
          "model_module": "@jupyter-widgets/base",
          "model_module_version": "1.2.0",
          "model_name": "LayoutModel",
          "state": {
            "_model_module": "@jupyter-widgets/base",
            "_model_module_version": "1.2.0",
            "_model_name": "LayoutModel",
            "_view_count": null,
            "_view_module": "@jupyter-widgets/base",
            "_view_module_version": "1.2.0",
            "_view_name": "LayoutView",
            "align_content": null,
            "align_items": null,
            "align_self": null,
            "border": null,
            "bottom": null,
            "display": null,
            "flex": null,
            "flex_flow": null,
            "grid_area": null,
            "grid_auto_columns": null,
            "grid_auto_flow": null,
            "grid_auto_rows": null,
            "grid_column": null,
            "grid_gap": null,
            "grid_row": null,
            "grid_template_areas": null,
            "grid_template_columns": null,
            "grid_template_rows": null,
            "height": null,
            "justify_content": null,
            "justify_items": null,
            "left": null,
            "margin": null,
            "max_height": null,
            "max_width": null,
            "min_height": null,
            "min_width": null,
            "object_fit": null,
            "object_position": null,
            "order": null,
            "overflow": null,
            "overflow_x": null,
            "overflow_y": null,
            "padding": null,
            "right": null,
            "top": null,
            "visibility": null,
            "width": null
          }
        },
        "de82dcd0a2d4465daeac8cff4d883aaf": {
          "model_module": "@jupyter-widgets/controls",
          "model_module_version": "1.5.0",
          "model_name": "HTMLModel",
          "state": {
            "_dom_classes": [],
            "_model_module": "@jupyter-widgets/controls",
            "_model_module_version": "1.5.0",
            "_model_name": "HTMLModel",
            "_view_count": null,
            "_view_module": "@jupyter-widgets/controls",
            "_view_module_version": "1.5.0",
            "_view_name": "HTMLView",
            "description": "",
            "description_tooltip": null,
            "layout": "IPY_MODEL_7524eab897c8487d900d3671151140b9",
            "placeholder": "​",
            "style": "IPY_MODEL_6b54a956da8c4903adb107eb61660f51",
            "value": " 167/167 [00:00&lt;00:00, 10.1kB/s]"
          }
        },
        "e154512f04cc40078de2dfdec4d34cdf": {
          "model_module": "@jupyter-widgets/base",
          "model_module_version": "1.2.0",
          "model_name": "LayoutModel",
          "state": {
            "_model_module": "@jupyter-widgets/base",
            "_model_module_version": "1.2.0",
            "_model_name": "LayoutModel",
            "_view_count": null,
            "_view_module": "@jupyter-widgets/base",
            "_view_module_version": "1.2.0",
            "_view_name": "LayoutView",
            "align_content": null,
            "align_items": null,
            "align_self": null,
            "border": null,
            "bottom": null,
            "display": null,
            "flex": null,
            "flex_flow": null,
            "grid_area": null,
            "grid_auto_columns": null,
            "grid_auto_flow": null,
            "grid_auto_rows": null,
            "grid_column": null,
            "grid_gap": null,
            "grid_row": null,
            "grid_template_areas": null,
            "grid_template_columns": null,
            "grid_template_rows": null,
            "height": null,
            "justify_content": null,
            "justify_items": null,
            "left": null,
            "margin": null,
            "max_height": null,
            "max_width": null,
            "min_height": null,
            "min_width": null,
            "object_fit": null,
            "object_position": null,
            "order": null,
            "overflow": null,
            "overflow_x": null,
            "overflow_y": null,
            "padding": null,
            "right": null,
            "top": null,
            "visibility": null,
            "width": null
          }
        },
        "e29deff0ffc149f1aed18e3cba6c8741": {
          "model_module": "@jupyter-widgets/controls",
          "model_module_version": "1.5.0",
          "model_name": "HTMLModel",
          "state": {
            "_dom_classes": [],
            "_model_module": "@jupyter-widgets/controls",
            "_model_module_version": "1.5.0",
            "_model_name": "HTMLModel",
            "_view_count": null,
            "_view_module": "@jupyter-widgets/controls",
            "_view_module_version": "1.5.0",
            "_view_name": "HTMLView",
            "description": "",
            "description_tooltip": null,
            "layout": "IPY_MODEL_e154512f04cc40078de2dfdec4d34cdf",
            "placeholder": "​",
            "style": "IPY_MODEL_57d210f9ac774e5596208a8d4f79ec46",
            "value": "tokenizer_config.json: 100%"
          }
        },
        "e4ae8d375f86468c9925fe621b9dd9da": {
          "model_module": "@jupyter-widgets/base",
          "model_module_version": "1.2.0",
          "model_name": "LayoutModel",
          "state": {
            "_model_module": "@jupyter-widgets/base",
            "_model_module_version": "1.2.0",
            "_model_name": "LayoutModel",
            "_view_count": null,
            "_view_module": "@jupyter-widgets/base",
            "_view_module_version": "1.2.0",
            "_view_name": "LayoutView",
            "align_content": null,
            "align_items": null,
            "align_self": null,
            "border": null,
            "bottom": null,
            "display": null,
            "flex": null,
            "flex_flow": null,
            "grid_area": null,
            "grid_auto_columns": null,
            "grid_auto_flow": null,
            "grid_auto_rows": null,
            "grid_column": null,
            "grid_gap": null,
            "grid_row": null,
            "grid_template_areas": null,
            "grid_template_columns": null,
            "grid_template_rows": null,
            "height": null,
            "justify_content": null,
            "justify_items": null,
            "left": null,
            "margin": null,
            "max_height": null,
            "max_width": null,
            "min_height": null,
            "min_width": null,
            "object_fit": null,
            "object_position": null,
            "order": null,
            "overflow": null,
            "overflow_x": null,
            "overflow_y": null,
            "padding": null,
            "right": null,
            "top": null,
            "visibility": null,
            "width": null
          }
        },
        "ee9f7379c29e4ce3880f162b29f310cd": {
          "model_module": "@jupyter-widgets/controls",
          "model_module_version": "1.5.0",
          "model_name": "HTMLModel",
          "state": {
            "_dom_classes": [],
            "_model_module": "@jupyter-widgets/controls",
            "_model_module_version": "1.5.0",
            "_model_name": "HTMLModel",
            "_view_count": null,
            "_view_module": "@jupyter-widgets/controls",
            "_view_module_version": "1.5.0",
            "_view_name": "HTMLView",
            "description": "",
            "description_tooltip": null,
            "layout": "IPY_MODEL_c233e064fd5244e38f62c3f9214d6292",
            "placeholder": "​",
            "style": "IPY_MODEL_26c639f06d23405ea68f2e40da84ed45",
            "value": "pytorch_model.bin: 100%"
          }
        },
        "f30c5763f0594343a0dc8633568317f8": {
          "model_module": "@jupyter-widgets/base",
          "model_module_version": "1.2.0",
          "model_name": "LayoutModel",
          "state": {
            "_model_module": "@jupyter-widgets/base",
            "_model_module_version": "1.2.0",
            "_model_name": "LayoutModel",
            "_view_count": null,
            "_view_module": "@jupyter-widgets/base",
            "_view_module_version": "1.2.0",
            "_view_name": "LayoutView",
            "align_content": null,
            "align_items": null,
            "align_self": null,
            "border": null,
            "bottom": null,
            "display": null,
            "flex": null,
            "flex_flow": null,
            "grid_area": null,
            "grid_auto_columns": null,
            "grid_auto_flow": null,
            "grid_auto_rows": null,
            "grid_column": null,
            "grid_gap": null,
            "grid_row": null,
            "grid_template_areas": null,
            "grid_template_columns": null,
            "grid_template_rows": null,
            "height": null,
            "justify_content": null,
            "justify_items": null,
            "left": null,
            "margin": null,
            "max_height": null,
            "max_width": null,
            "min_height": null,
            "min_width": null,
            "object_fit": null,
            "object_position": null,
            "order": null,
            "overflow": null,
            "overflow_x": null,
            "overflow_y": null,
            "padding": null,
            "right": null,
            "top": null,
            "visibility": null,
            "width": null
          }
        },
        "fb17bbcf1a104266aafc161f171a82a1": {
          "model_module": "@jupyter-widgets/controls",
          "model_module_version": "1.5.0",
          "model_name": "DescriptionStyleModel",
          "state": {
            "_model_module": "@jupyter-widgets/controls",
            "_model_module_version": "1.5.0",
            "_model_name": "DescriptionStyleModel",
            "_view_count": null,
            "_view_module": "@jupyter-widgets/base",
            "_view_module_version": "1.2.0",
            "_view_name": "StyleView",
            "description_width": ""
          }
        },
        "ff2529f6ede4405aba3c7827c9f3fc20": {
          "model_module": "@jupyter-widgets/controls",
          "model_module_version": "1.5.0",
          "model_name": "ProgressStyleModel",
          "state": {
            "_model_module": "@jupyter-widgets/controls",
            "_model_module_version": "1.5.0",
            "_model_name": "ProgressStyleModel",
            "_view_count": null,
            "_view_module": "@jupyter-widgets/base",
            "_view_module_version": "1.2.0",
            "_view_name": "StyleView",
            "bar_color": null,
            "description_width": ""
          }
        }
      }
    }
  },
  "nbformat": 4,
  "nbformat_minor": 0
}
