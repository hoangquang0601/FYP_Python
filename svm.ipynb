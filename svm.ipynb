{
 "cells": [
  {
   "cell_type": "code",
   "execution_count": 1,
   "metadata": {},
   "outputs": [
    {
     "name": "stderr",
     "output_type": "stream",
     "text": [
      "Training SVM: 100%|██████████| 66324/66324 [28:24<00:00, 38.92it/s]\n"
     ]
    },
    {
     "name": "stdout",
     "output_type": "stream",
     "text": [
      "              precision    recall  f1-score   support\n",
      "\n",
      "         NEG       0.77      0.54      0.64      1045\n",
      "         NEU       0.91      0.95      0.93     11197\n",
      "         POS       0.88      0.84      0.86      4339\n",
      "\n",
      "    accuracy                           0.89     16581\n",
      "   macro avg       0.85      0.78      0.81     16581\n",
      "weighted avg       0.89      0.89      0.89     16581\n",
      "\n"
     ]
    }
   ],
   "source": [
    "import pandas as pd\n",
    "from sklearn.feature_extraction.text import TfidfVectorizer\n",
    "from sklearn.svm import SVC\n",
    "from sklearn.pipeline import make_pipeline\n",
    "from sklearn.model_selection import train_test_split\n",
    "from sklearn.metrics import classification_report\n",
    "from tqdm import tqdm\n",
    "\n",
    "# Load your dataset\n",
    "df = pd.read_csv('labelled_data.csv')\n",
    "\n",
    "# Prepare text data\n",
    "texts = df['Comment Text']\n",
    "labels = df['Sentiment Label']\n",
    "\n",
    "# Split data\n",
    "X_train, X_test, y_train, y_test = train_test_split(texts, labels, test_size=0.2, random_state=42)\n",
    "\n",
    "# Create TF-IDF vectorizer and SVM pipeline\n",
    "pipeline = make_pipeline(TfidfVectorizer(), SVC(kernel='linear', probability=True))\n",
    "\n",
    "# Train the model with progress bar\n",
    "with tqdm(total=len(X_train), desc=\"Training SVM\") as pbar:\n",
    "    pipeline.fit(X_train, y_train)\n",
    "    pbar.update(len(X_train))\n",
    "\n",
    "# Predict and evaluate\n",
    "y_pred = pipeline.predict(X_test)\n",
    "print(classification_report(y_test, y_pred))\n"
   ]
  },
  {
   "cell_type": "code",
   "execution_count": null,
   "metadata": {},
   "outputs": [
    {
     "name": "stderr",
     "output_type": "stream",
     "text": [
      "Training SVM: 100%|██████████| 66324/66324 [26:43<00:00, 41.36it/s]\n"
     ]
    },
    {
     "name": "stdout",
     "output_type": "stream",
     "text": [
      "              precision    recall  f1-score   support\n",
      "\n",
      "           0       0.77      0.54      0.64      1045\n",
      "           1       0.91      0.95      0.93     11197\n",
      "           2       0.88      0.84      0.86      4339\n",
      "\n",
      "    accuracy                           0.89     16581\n",
      "   macro avg       0.85      0.78      0.81     16581\n",
      "weighted avg       0.89      0.89      0.89     16581\n",
      "\n"
     ]
    }
   ],
   "source": [
    "import pandas as pd\n",
    "from sklearn.feature_extraction.text import TfidfVectorizer\n",
    "from sklearn.svm import SVC\n",
    "from sklearn.pipeline import make_pipeline\n",
    "from sklearn.model_selection import train_test_split\n",
    "from sklearn.metrics import classification_report\n",
    "from tqdm import tqdm\n",
    "\n",
    "# Load your dataset\n",
    "df = pd.read_csv('labelled_data.csv')\n",
    "\n",
    "# Prepare text data\n",
    "texts = df['Comment Text']\n",
    "labels = df['Sentiment Label']\n",
    "\n",
    "# Map the sentiment labels to numerical values\n",
    "label_mapping = {'NEG': 0, 'NEU': 1, 'POS': 2}\n",
    "labels = labels.map(label_mapping)\n",
    "\n",
    "# Split data\n",
    "X_train, X_test, y_train, y_test = train_test_split(texts, labels, test_size=0.2, random_state=42)\n",
    "\n",
    "# Create TF-IDF vectorizer and SVM pipeline\n",
    "pipeline = make_pipeline(TfidfVectorizer(), SVC(kernel='linear', probability=True))\n",
    "\n",
    "# Train the model with progress bar\n",
    "with tqdm(total=len(X_train), desc=\"Training SVM\") as pbar:\n",
    "    pipeline.fit(X_train, y_train)\n",
    "    pbar.update(len(X_train))\n",
    "\n",
    "# Predict and evaluate\n",
    "y_pred = pipeline.predict(X_test)\n",
    "print(classification_report(y_test, y_pred))\n"
   ]
  }
 ],
 "metadata": {
  "kernelspec": {
   "display_name": "Python 3",
   "language": "python",
   "name": "python3"
  },
  "language_info": {
   "codemirror_mode": {
    "name": "ipython",
    "version": 3
   },
   "file_extension": ".py",
   "mimetype": "text/x-python",
   "name": "python",
   "nbconvert_exporter": "python",
   "pygments_lexer": "ipython3",
   "version": "3.9.7"
  }
 },
 "nbformat": 4,
 "nbformat_minor": 2
}
