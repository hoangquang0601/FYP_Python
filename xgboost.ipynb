{
 "cells": [
  {
   "cell_type": "code",
   "execution_count": 3,
   "metadata": {},
   "outputs": [
    {
     "name": "stderr",
     "output_type": "stream",
     "text": [
      "Training Progress:   0%|          | 0/1 [00:00<?, ?it/s]c:\\Users\\Chummy\\AppData\\Local\\Programs\\Python\\Python39\\lib\\site-packages\\xgboost\\core.py:158: UserWarning: [13:48:12] WARNING: C:\\buildkite-agent\\builds\\buildkite-windows-cpu-autoscaling-group-i-06abd128ca6c1688d-1\\xgboost\\xgboost-ci-windows\\src\\learner.cc:740: \n",
      "Parameters: { \"use_label_encoder\" } are not used.\n",
      "\n",
      "  warnings.warn(smsg, UserWarning)\n",
      "Training Progress: 100%|██████████| 1/1 [00:36<00:00, 36.02s/it]"
     ]
    },
    {
     "name": "stdout",
     "output_type": "stream",
     "text": [
      "              precision    recall  f1-score   support\n",
      "\n",
      "           0       0.82      0.43      0.56      1045\n",
      "           1       0.88      0.96      0.92     11197\n",
      "           2       0.89      0.79      0.83      4339\n",
      "\n",
      "    accuracy                           0.88     16581\n",
      "   macro avg       0.86      0.73      0.77     16581\n",
      "weighted avg       0.88      0.88      0.87     16581\n",
      "\n"
     ]
    },
    {
     "name": "stderr",
     "output_type": "stream",
     "text": [
      "\n"
     ]
    }
   ],
   "source": [
    "import pandas as pd\n",
    "from sklearn.feature_extraction.text import TfidfVectorizer\n",
    "from xgboost import XGBClassifier\n",
    "from sklearn.model_selection import train_test_split\n",
    "from sklearn.metrics import classification_report\n",
    "from tqdm import tqdm\n",
    "\n",
    "# Load your dataset\n",
    "df = pd.read_csv('labelled_data.csv')\n",
    "\n",
    "# Prepare text data\n",
    "texts = df['Comment Text']\n",
    "labels = df['Sentiment Label']\n",
    "\n",
    "# Map the sentiment labels to numerical values\n",
    "label_mapping = {'NEG': 0, 'NEU': 1, 'POS': 2}\n",
    "labels = labels.map(label_mapping)\n",
    "\n",
    "# Split data\n",
    "X_train, X_test, y_train, y_test = train_test_split(texts, labels, test_size=0.2, random_state=42)\n",
    "\n",
    "# Create TF-IDF vectorizer and transform the text data\n",
    "vectorizer = TfidfVectorizer()\n",
    "X_train_tfidf = vectorizer.fit_transform(X_train)\n",
    "X_test_tfidf = vectorizer.transform(X_test)\n",
    "\n",
    "# Initialize and train the XGBoost classifier with progress bar\n",
    "classifier = XGBClassifier(use_label_encoder=False, eval_metric='logloss', random_state=42)\n",
    "for _ in tqdm(range(1), desc=\"Training Progress\"):\n",
    "    classifier.fit(X_train_tfidf, y_train)\n",
    "\n",
    "# Predict and evaluate\n",
    "y_pred = classifier.predict(X_test_tfidf)\n",
    "print(classification_report(y_test, y_pred))\n"
   ]
  },
  {
   "cell_type": "code",
   "execution_count": 4,
   "metadata": {},
   "outputs": [
    {
     "name": "stderr",
     "output_type": "stream",
     "text": [
      "Grid Search Progress:   0%|          | 0/1 [00:00<?, ?it/s]"
     ]
    },
    {
     "name": "stdout",
     "output_type": "stream",
     "text": [
      "Fitting 5 folds for each of 81 candidates, totalling 405 fits\n"
     ]
    },
    {
     "name": "stderr",
     "output_type": "stream",
     "text": [
      "c:\\Users\\Chummy\\AppData\\Local\\Programs\\Python\\Python39\\lib\\site-packages\\xgboost\\core.py:158: UserWarning: [22:57:17] WARNING: C:\\buildkite-agent\\builds\\buildkite-windows-cpu-autoscaling-group-i-06abd128ca6c1688d-1\\xgboost\\xgboost-ci-windows\\src\\learner.cc:740: \n",
      "Parameters: { \"use_label_encoder\" } are not used.\n",
      "\n",
      "  warnings.warn(smsg, UserWarning)\n",
      "Grid Search Progress:   0%|          | 0/1 [3:22:12<?, ?it/s]\n"
     ]
    },
    {
     "name": "stdout",
     "output_type": "stream",
     "text": [
      "Best parameters found: {'learning_rate': 0.2, 'max_depth': 7, 'n_estimators': 300, 'subsample': 0.7}\n",
      "              precision    recall  f1-score   support\n",
      "\n",
      "           0       0.78      0.52      0.63      1045\n",
      "           1       0.90      0.95      0.93     11197\n",
      "           2       0.89      0.83      0.86      4339\n",
      "\n",
      "    accuracy                           0.89     16581\n",
      "   macro avg       0.86      0.77      0.80     16581\n",
      "weighted avg       0.89      0.89      0.89     16581\n",
      "\n"
     ]
    }
   ],
   "source": [
    "import pandas as pd\n",
    "from sklearn.feature_extraction.text import TfidfVectorizer\n",
    "from xgboost import XGBClassifier\n",
    "from sklearn.model_selection import train_test_split, GridSearchCV\n",
    "from sklearn.metrics import classification_report\n",
    "from tqdm import tqdm\n",
    "\n",
    "# Load your dataset\n",
    "df = pd.read_csv('labelled_data.csv')\n",
    "\n",
    "# Prepare text data\n",
    "texts = df['Comment Text']\n",
    "labels = df['Sentiment Label']\n",
    "\n",
    "# Map the sentiment labels to numerical values\n",
    "label_mapping = {'NEG': 0, 'NEU': 1, 'POS': 2}\n",
    "labels = labels.map(label_mapping)\n",
    "\n",
    "# Split data\n",
    "X_train, X_test, y_train, y_test = train_test_split(texts, labels, test_size=0.2, random_state=42)\n",
    "\n",
    "# Create TF-IDF vectorizer and transform the text data\n",
    "vectorizer = TfidfVectorizer()\n",
    "X_train_tfidf = vectorizer.fit_transform(X_train)\n",
    "X_test_tfidf = vectorizer.transform(X_test)\n",
    "\n",
    "# Initialize the XGBoost classifier\n",
    "classifier = XGBClassifier(use_label_encoder=False, eval_metric='logloss', random_state=42)\n",
    "\n",
    "# Define the parameter grid for hyperparameter tuning\n",
    "param_grid = {\n",
    "    'n_estimators': [100, 200, 300],\n",
    "    'max_depth': [3, 5, 7],\n",
    "    'learning_rate': [0.01, 0.1, 0.2],\n",
    "    'subsample': [0.7, 0.8, 0.9]\n",
    "}\n",
    "\n",
    "# Initialize GridSearchCV\n",
    "grid_search = GridSearchCV(estimator=classifier, param_grid=param_grid, cv=5, scoring='accuracy', n_jobs=-1, verbose=2)\n",
    "\n",
    "# Perform grid search with progress bar\n",
    "with tqdm(total=1, desc=\"Grid Search Progress\"):\n",
    "    grid_search.fit(X_train_tfidf, y_train)\n",
    "    tqdm.write(f\"Best parameters found: {grid_search.best_params_}\")\n",
    "\n",
    "# Use the best estimator from the grid search\n",
    "best_classifier = grid_search.best_estimator_\n",
    "\n",
    "# Predict and evaluate\n",
    "y_pred = best_classifier.predict(X_test_tfidf)\n",
    "print(classification_report(y_test, y_pred))\n"
   ]
  },
  {
   "cell_type": "code",
   "execution_count": 7,
   "metadata": {},
   "outputs": [
    {
     "name": "stderr",
     "output_type": "stream",
     "text": [
      "Grid Search Progress: 100%|██████████| 16/16 [2:46:48<00:00, 625.56s/it]  \n",
      "c:\\Users\\Chummy\\AppData\\Local\\Programs\\Python\\Python39\\lib\\site-packages\\sklearn\\metrics\\_classification.py:1517: UndefinedMetricWarning: Precision is ill-defined and being set to 0.0 in labels with no predicted samples. Use `zero_division` parameter to control this behavior.\n",
      "  _warn_prf(average, modifier, f\"{metric.capitalize()} is\", len(result))\n",
      "c:\\Users\\Chummy\\AppData\\Local\\Programs\\Python\\Python39\\lib\\site-packages\\sklearn\\metrics\\_classification.py:1517: UndefinedMetricWarning: Precision is ill-defined and being set to 0.0 in labels with no predicted samples. Use `zero_division` parameter to control this behavior.\n",
      "  _warn_prf(average, modifier, f\"{metric.capitalize()} is\", len(result))\n"
     ]
    },
    {
     "name": "stdout",
     "output_type": "stream",
     "text": [
      "Best parameters found: {'max_depth': 20, 'min_samples_leaf': 1, 'min_samples_split': 2, 'n_estimators': 100}\n",
      "              precision    recall  f1-score   support\n",
      "\n",
      "           0       0.00      0.00      0.00      1045\n",
      "           1       0.69      1.00      0.82     11197\n",
      "           2       0.99      0.09      0.16      4339\n",
      "\n",
      "    accuracy                           0.70     16581\n",
      "   macro avg       0.56      0.36      0.32     16581\n",
      "weighted avg       0.73      0.70      0.59     16581\n",
      "\n"
     ]
    },
    {
     "name": "stderr",
     "output_type": "stream",
     "text": [
      "c:\\Users\\Chummy\\AppData\\Local\\Programs\\Python\\Python39\\lib\\site-packages\\sklearn\\metrics\\_classification.py:1517: UndefinedMetricWarning: Precision is ill-defined and being set to 0.0 in labels with no predicted samples. Use `zero_division` parameter to control this behavior.\n",
      "  _warn_prf(average, modifier, f\"{metric.capitalize()} is\", len(result))\n"
     ]
    }
   ],
   "source": [
    "import pandas as pd\n",
    "from sklearn.feature_extraction.text import TfidfVectorizer\n",
    "from sklearn.ensemble import RandomForestClassifier\n",
    "from sklearn.model_selection import train_test_split, GridSearchCV, ParameterGrid\n",
    "from sklearn.metrics import classification_report\n",
    "from tqdm import tqdm\n",
    "\n",
    "# Load your dataset\n",
    "df = pd.read_csv('labelled_data.csv')\n",
    "\n",
    "# Prepare text data\n",
    "texts = df['Comment Text']\n",
    "labels = df['Sentiment Label']\n",
    "\n",
    "# Map the sentiment labels to numerical values\n",
    "label_mapping = {'NEG': 0, 'NEU': 1, 'POS': 2}\n",
    "labels = labels.map(label_mapping)\n",
    "\n",
    "# Split data\n",
    "X_train, X_test, y_train, y_test = train_test_split(texts, labels, test_size=0.2, random_state=42)\n",
    "\n",
    "# Create TF-IDF vectorizer and transform the text data\n",
    "vectorizer = TfidfVectorizer()\n",
    "X_train_tfidf = vectorizer.fit_transform(X_train)\n",
    "X_test_tfidf = vectorizer.transform(X_test)\n",
    "\n",
    "# Initialize the Random Forest classifier\n",
    "classifier = RandomForestClassifier(random_state=42)\n",
    "\n",
    "# Define a narrower parameter grid for hyperparameter tuning\n",
    "param_grid = {\n",
    "    'n_estimators': [100, 200],\n",
    "    'max_depth': [10, 20],\n",
    "    'min_samples_split': [2, 5],\n",
    "    'min_samples_leaf': [1, 2]\n",
    "}\n",
    "\n",
    "# Initialize GridSearchCV\n",
    "grid_search = GridSearchCV(estimator=classifier, param_grid=param_grid, cv=5, scoring='accuracy', n_jobs=-1, verbose=0)\n",
    "\n",
    "# Perform grid search with progress bar\n",
    "param_combinations = list(ParameterGrid(param_grid))\n",
    "with tqdm(total=len(param_combinations), desc=\"Grid Search Progress\") as pbar:\n",
    "    for params in param_combinations:\n",
    "        grid_search.estimator.set_params(**params)\n",
    "        grid_search.fit(X_train_tfidf, y_train)\n",
    "        pbar.update(1)\n",
    "\n",
    "print(f\"Best parameters found: {grid_search.best_params_}\")\n",
    "\n",
    "# Use the best estimator from the grid search\n",
    "best_classifier = grid_search.best_estimator_\n",
    "\n",
    "# Predict and evaluate\n",
    "y_pred = best_classifier.predict(X_test_tfidf)\n",
    "print(classification_report(y_test, y_pred))\n"
   ]
  },
  {
   "cell_type": "code",
   "execution_count": 2,
   "metadata": {},
   "outputs": [
    {
     "name": "stderr",
     "output_type": "stream",
     "text": [
      "Training Progress:   0%|          | 0/1 [00:00<?, ?it/s]c:\\Users\\Chummy\\AppData\\Local\\Programs\\Python\\Python39\\lib\\site-packages\\xgboost\\core.py:158: UserWarning: [19:50:25] WARNING: C:\\buildkite-agent\\builds\\buildkite-windows-cpu-autoscaling-group-i-06abd128ca6c1688d-1\\xgboost\\xgboost-ci-windows\\src\\learner.cc:740: \n",
      "Parameters: { \"use_label_encoder\" } are not used.\n",
      "\n",
      "  warnings.warn(smsg, UserWarning)\n",
      "Training Progress: 100%|██████████| 1/1 [01:50<00:00, 110.11s/it]\n"
     ]
    },
    {
     "name": "stdout",
     "output_type": "stream",
     "text": [
      "              precision    recall  f1-score   support\n",
      "\n",
      "           0       0.78      0.52      0.63      1045\n",
      "           1       0.90      0.95      0.93     11197\n",
      "           2       0.89      0.83      0.86      4339\n",
      "\n",
      "    accuracy                           0.89     16581\n",
      "   macro avg       0.86      0.77      0.80     16581\n",
      "weighted avg       0.89      0.89      0.89     16581\n",
      "\n"
     ]
    }
   ],
   "source": [
    "import pandas as pd\n",
    "from sklearn.feature_extraction.text import TfidfVectorizer\n",
    "from xgboost import XGBClassifier\n",
    "from sklearn.model_selection import train_test_split\n",
    "from sklearn.metrics import classification_report\n",
    "from tqdm import tqdm\n",
    "import joblib\n",
    "\n",
    "# Load your dataset\n",
    "df = pd.read_csv('labelled_data.csv')\n",
    "\n",
    "# Prepare text data\n",
    "texts = df['Comment Text']\n",
    "labels = df['Sentiment Label']\n",
    "\n",
    "# Map the sentiment labels to numerical values\n",
    "label_mapping = {'NEG': 0, 'NEU': 1, 'POS': 2}\n",
    "labels = labels.map(label_mapping)\n",
    "\n",
    "# Split data\n",
    "X_train, X_test, y_train, y_test = train_test_split(texts, labels, test_size=0.2, random_state=42)\n",
    "\n",
    "# Create TF-IDF vectorizer and transform the text data\n",
    "vectorizer = TfidfVectorizer()\n",
    "X_train_tfidf = vectorizer.fit_transform(X_train)\n",
    "X_test_tfidf = vectorizer.transform(X_test)\n",
    "\n",
    "# Initialize and train the XGBoost classifier with the best parameters and progress bar\n",
    "best_params = {\n",
    "    'learning_rate': 0.2,\n",
    "    'max_depth': 7,\n",
    "    'n_estimators': 300,\n",
    "    'subsample': 0.7,\n",
    "    'use_label_encoder': False,\n",
    "    'eval_metric': 'logloss',\n",
    "    'random_state': 42\n",
    "}\n",
    "classifier = XGBClassifier(**best_params)\n",
    "for _ in tqdm(range(1), desc=\"Training Progress\"):\n",
    "    classifier.fit(X_train_tfidf, y_train)\n",
    "\n",
    "# Save the model and vectorizer\n",
    "joblib.dump(classifier, 'sentiment_model.pkl')\n",
    "joblib.dump(vectorizer, 'vectorizer.pkl')\n",
    "\n",
    "# Predict and evaluate\n",
    "y_pred = classifier.predict(X_test_tfidf)\n",
    "print(classification_report(y_test, y_pred))\n"
   ]
  }
 ],
 "metadata": {
  "kernelspec": {
   "display_name": "Python 3",
   "language": "python",
   "name": "python3"
  },
  "language_info": {
   "codemirror_mode": {
    "name": "ipython",
    "version": 3
   },
   "file_extension": ".py",
   "mimetype": "text/x-python",
   "name": "python",
   "nbconvert_exporter": "python",
   "pygments_lexer": "ipython3",
   "version": "3.9.7"
  }
 },
 "nbformat": 4,
 "nbformat_minor": 2
}
